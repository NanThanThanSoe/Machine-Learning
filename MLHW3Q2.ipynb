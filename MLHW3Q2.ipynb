{
  "nbformat": 4,
  "nbformat_minor": 0,
  "metadata": {
    "colab": {
      "name": "MLHW3Q2.ipynb",
      "provenance": [],
      "mount_file_id": "1DKl7aqPmaPrTpJl159Hpd2YNHjfNprSJ",
      "authorship_tag": "ABX9TyP2XD5T51+EDUhGPqR0CJD7",
      "include_colab_link": true
    },
    "kernelspec": {
      "name": "python3",
      "display_name": "Python 3"
    }
  },
  "cells": [
    {
      "cell_type": "markdown",
      "metadata": {
        "id": "view-in-github",
        "colab_type": "text"
      },
      "source": [
        "<a href=\"https://colab.research.google.com/github/NanThanThanSoe/OfflineHandwrittenRecognition/blob/master/MLHW3Q2.ipynb\" target=\"_parent\"><img src=\"https://colab.research.google.com/assets/colab-badge.svg\" alt=\"Open In Colab\"/></a>"
      ]
    },
    {
      "cell_type": "markdown",
      "metadata": {
        "id": "sk_CNPuWkQb6",
        "colab_type": "text"
      },
      "source": [
        "Question 2 [3 points]\n",
        "\n",
        "Develop deep learning models using convolution neural network to classify all 120 fruits of the Fruit-Images Dataset published by Horea94. You should develop at least one models and compare its performance with the paper [1]. Note: You must not use transfer learning in this question.\n",
        "- Datasource: https://github.com/Horea94/Fruit-Images-Dataset\n",
        "- Paper: [1] H. Mureşan and M. Oltean, “Fruit recognition from images using deep learning,” Acta Universitatis Sapientiae, Informatica, vol. 10, no. 1, pp. 26–42, Aug. 2018, doi: 10.2478/ausi-2018-0002."
      ]
    },
    {
      "cell_type": "code",
      "metadata": {
        "id": "pdiQpJ1tkH4p",
        "colab_type": "code",
        "colab": {
          "base_uri": "https://localhost:8080/",
          "height": 156
        },
        "outputId": "9f343427-c766-4cf4-cf6d-4aaac0a59a8f"
      },
      "source": [
        "pip install -U keras"
      ],
      "execution_count": 1,
      "outputs": [
        {
          "output_type": "stream",
          "text": [
            "Requirement already up-to-date: keras in /usr/local/lib/python3.6/dist-packages (2.3.1)\n",
            "Requirement already satisfied, skipping upgrade: h5py in /usr/local/lib/python3.6/dist-packages (from keras) (2.10.0)\n",
            "Requirement already satisfied, skipping upgrade: six>=1.9.0 in /usr/local/lib/python3.6/dist-packages (from keras) (1.12.0)\n",
            "Requirement already satisfied, skipping upgrade: keras-preprocessing>=1.0.5 in /usr/local/lib/python3.6/dist-packages (from keras) (1.1.0)\n",
            "Requirement already satisfied, skipping upgrade: scipy>=0.14 in /usr/local/lib/python3.6/dist-packages (from keras) (1.4.1)\n",
            "Requirement already satisfied, skipping upgrade: pyyaml in /usr/local/lib/python3.6/dist-packages (from keras) (3.13)\n",
            "Requirement already satisfied, skipping upgrade: keras-applications>=1.0.6 in /usr/local/lib/python3.6/dist-packages (from keras) (1.0.8)\n",
            "Requirement already satisfied, skipping upgrade: numpy>=1.9.1 in /usr/local/lib/python3.6/dist-packages (from keras) (1.18.2)\n"
          ],
          "name": "stdout"
        }
      ]
    },
    {
      "cell_type": "code",
      "metadata": {
        "id": "I3ScemF8kcYa",
        "colab_type": "code",
        "colab": {
          "base_uri": "https://localhost:8080/",
          "height": 35
        },
        "outputId": "67fd9a77-3439-4e76-c7bd-583ca299fa65"
      },
      "source": [
        "!git clone https://github.com/Horea94/Fruit-Images-Dataset.git"
      ],
      "execution_count": 2,
      "outputs": [
        {
          "output_type": "stream",
          "text": [
            "fatal: destination path 'Fruit-Images-Dataset' already exists and is not an empty directory.\n"
          ],
          "name": "stdout"
        }
      ]
    },
    {
      "cell_type": "code",
      "metadata": {
        "id": "woNMoVrbl95J",
        "colab_type": "code",
        "colab": {
          "base_uri": "https://localhost:8080/",
          "height": 35
        },
        "outputId": "eb055c52-b109-4078-8d09-8df41a3c6207"
      },
      "source": [
        "import numpy as np \n",
        "import pandas as pd \n",
        "import os\n",
        "import matplotlib.pyplot as plt\n",
        "import cv2\n",
        "import glob\n",
        "\n",
        "import keras.utils\n",
        "from keras import utils as np_utils\n",
        "from keras.utils import to_categorical\n",
        "from keras.layers import Dense,Conv2D,Flatten,MaxPool2D,Dropout\n",
        "from keras.models import Sequential\n",
        "from sklearn.model_selection import train_test_split\n",
        "from keras.optimizers import RMSprop"
      ],
      "execution_count": 3,
      "outputs": [
        {
          "output_type": "stream",
          "text": [
            "Using TensorFlow backend.\n"
          ],
          "name": "stderr"
        }
      ]
    },
    {
      "cell_type": "code",
      "metadata": {
        "id": "WwwsYYHrk0mv",
        "colab_type": "code",
        "colab": {
          "base_uri": "https://localhost:8080/",
          "height": 35
        },
        "outputId": "8b3c832a-3729-4794-f8d8-09b5d0f928e6"
      },
      "source": [
        "print(os.listdir(\"/content/Fruit-Images-Dataset\"))"
      ],
      "execution_count": 4,
      "outputs": [
        {
          "output_type": "stream",
          "text": [
            "['.git', 'src', 'Training', 'Test', 'papers', 'test-multiple_fruits', 'LICENSE', 'readme.md']\n"
          ],
          "name": "stdout"
        }
      ]
    },
    {
      "cell_type": "code",
      "metadata": {
        "id": "8sT7TpuKmF84",
        "colab_type": "code",
        "colab": {}
      },
      "source": [
        "# training data\n",
        "train_images = []       \n",
        "train_labels = []\n",
        "shape = (28, 28)  \n",
        "train_path = '/content/Fruit-Images-Dataset/Training/*'\n",
        "\n",
        "for fruit_dir_path in glob.glob(\"/content/Fruit-Images-Dataset/Training/*\"):\n",
        "    fruit_label = fruit_dir_path.split(\"/\")[-1]\n",
        "    for image_path in glob.glob(os.path.join(fruit_dir_path, \"*.jpg\")):\n",
        "        image = cv2.imread(image_path, cv2.IMREAD_COLOR)\n",
        "        image = cv2.resize(image, shape)\n",
        "        image = cv2.cvtColor(image, cv2.COLOR_RGB2BGR)\n",
        "        \n",
        "        train_images.append(image)\n",
        "        train_labels.append(fruit_label)\n",
        "train_images = np.array(train_images)\n",
        "train_labels = pd.get_dummies(train_labels).values"
      ],
      "execution_count": 0,
      "outputs": []
    },
    {
      "cell_type": "code",
      "metadata": {
        "id": "zuZa_PSUogZa",
        "colab_type": "code",
        "colab": {}
      },
      "source": [
        "x_train,x_val,y_train,y_val = train_test_split(train_images,train_labels)"
      ],
      "execution_count": 0,
      "outputs": []
    },
    {
      "cell_type": "code",
      "metadata": {
        "id": "MKBFLnh5oqwL",
        "colab_type": "code",
        "colab": {}
      },
      "source": [
        "# testing data\n",
        "test_images = []       \n",
        "test_labels = []\n",
        "shape = (28, 28)  \n",
        "train_path = '/content/Fruit-Images-Dataset/Test/*'\n",
        "\n",
        "for fruit_dir_path in glob.glob(\"/content/Fruit-Images-Dataset/Test/*\"):\n",
        "    fruit_label = fruit_dir_path.split(\"/\")[-1]\n",
        "    for image_path in glob.glob(os.path.join(fruit_dir_path, \"*.jpg\")):\n",
        "        image = cv2.imread(image_path, cv2.IMREAD_COLOR)\n",
        "        image = cv2.resize(image, shape)\n",
        "        image = cv2.cvtColor(image, cv2.COLOR_RGB2BGR)\n",
        "        \n",
        "        test_images.append(image)\n",
        "        test_labels.append(fruit_label)\n",
        "test_images = np.array(test_images)"
      ],
      "execution_count": 0,
      "outputs": []
    },
    {
      "cell_type": "code",
      "metadata": {
        "id": "lcvVN1CEpGcP",
        "colab_type": "code",
        "colab": {
          "base_uri": "https://localhost:8080/",
          "height": 283
        },
        "outputId": "037126c4-b08f-478f-e2c1-da94da0a110a"
      },
      "source": [
        "plt.imshow(train_images[0])"
      ],
      "execution_count": 8,
      "outputs": [
        {
          "output_type": "execute_result",
          "data": {
            "text/plain": [
              "<matplotlib.image.AxesImage at 0x7f722dbf30b8>"
            ]
          },
          "metadata": {
            "tags": []
          },
          "execution_count": 8
        },
        {
          "output_type": "display_data",
          "data": {
            "image/png": "[encoded data removed]",
            "text/plain": [
              "<Figure size 432x288 with 1 Axes>"
            ]
          },
          "metadata": {
            "tags": []
          }
        }
      ]
    },
    {
      "cell_type": "code",
      "metadata": {
        "id": "g1tkhAbluMWJ",
        "colab_type": "code",
        "colab": {
          "base_uri": "https://localhost:8080/",
          "height": 35
        },
        "outputId": "bbf43c81-9f75-4fc1-9761-c52822f1bfb4"
      },
      "source": [
        "print(train_labels.shape, train_images.shape)"
      ],
      "execution_count": 9,
      "outputs": [
        {
          "output_type": "stream",
          "text": [
            "(61488, 120) (61488, 28, 28, 3)\n"
          ],
          "name": "stdout"
        }
      ]
    },
    {
      "cell_type": "code",
      "metadata": {
        "id": "ERbCHbzWqLM4",
        "colab_type": "code",
        "colab": {
          "base_uri": "https://localhost:8080/",
          "height": 364
        },
        "outputId": "5df0918a-483c-4a47-881c-a073b1e3fae9"
      },
      "source": [
        "# Creting first CNN model\n",
        "model= Sequential()\n",
        "model.add(Conv2D(16, kernel_size=(3,3), activation='relu', input_shape=(28,28,3,)))\n",
        "model.add(Conv2D(32, kernel_size=(3,3), activation='relu'))\n",
        "model.add(Flatten())\n",
        "model.add(Dropout(rate=0.5) )\n",
        "model.add(Dense(150, activation='relu'))\n",
        "model.add(Dense(120,activation = 'softmax'))\n",
        "\n",
        "model.summary()"
      ],
      "execution_count": 10,
      "outputs": [
        {
          "output_type": "stream",
          "text": [
            "Model: \"sequential_1\"\n",
            "_________________________________________________________________\n",
            "Layer (type)                 Output Shape              Param #   \n",
            "=================================================================\n",
            "conv2d_1 (Conv2D)            (None, 26, 26, 16)        448       \n",
            "_________________________________________________________________\n",
            "conv2d_2 (Conv2D)            (None, 24, 24, 32)        4640      \n",
            "_________________________________________________________________\n",
            "flatten_1 (Flatten)          (None, 18432)             0         \n",
            "_________________________________________________________________\n",
            "dropout_1 (Dropout)          (None, 18432)             0         \n",
            "_________________________________________________________________\n",
            "dense_1 (Dense)              (None, 150)               2764950   \n",
            "_________________________________________________________________\n",
            "dense_2 (Dense)              (None, 120)               18120     \n",
            "=================================================================\n",
            "Total params: 2,788,158\n",
            "Trainable params: 2,788,158\n",
            "Non-trainable params: 0\n",
            "_________________________________________________________________\n"
          ],
          "name": "stdout"
        }
      ]
    },
    {
      "cell_type": "code",
      "metadata": {
        "id": "OvaFCiU_qVix",
        "colab_type": "code",
        "colab": {}
      },
      "source": [
        "model.compile(loss='categorical_crossentropy', metrics=['acc'], optimizer='adam')"
      ],
      "execution_count": 0,
      "outputs": []
    },
    {
      "cell_type": "code",
      "metadata": {
        "id": "ipdsePwWtzZY",
        "colab_type": "code",
        "colab": {
          "base_uri": "https://localhost:8080/",
          "height": 208
        },
        "outputId": "b538034f-e0f1-4d1b-ec87-5dd26448aa01"
      },
      "source": [
        "history = model.fit(x_train, y_train, batch_size=20, epochs=5, verbose=1, validation_data=(x_val, y_val))"
      ],
      "execution_count": 12,
      "outputs": [
        {
          "output_type": "stream",
          "text": [
            "Train on 46116 samples, validate on 15372 samples\n",
            "Epoch 1/5\n",
            "46116/46116 [==============================] - 160s 3ms/step - loss: 1.5477 - acc: 0.7525 - val_loss: 0.0632 - val_acc: 0.9842\n",
            "Epoch 2/5\n",
            "46116/46116 [==============================] - 160s 3ms/step - loss: 0.2291 - acc: 0.9480 - val_loss: 0.1728 - val_acc: 0.9564\n",
            "Epoch 3/5\n",
            "46116/46116 [==============================] - 161s 3ms/step - loss: 0.1884 - acc: 0.9626 - val_loss: 0.0395 - val_acc: 0.9912\n",
            "Epoch 4/5\n",
            "46116/46116 [==============================] - 158s 3ms/step - loss: 0.1925 - acc: 0.9687 - val_loss: 0.0510 - val_acc: 0.9894\n",
            "Epoch 5/5\n",
            "46116/46116 [==============================] - 158s 3ms/step - loss: 0.1975 - acc: 0.9742 - val_loss: 0.0725 - val_acc: 0.9875\n"
          ],
          "name": "stdout"
        }
      ]
    },
    {
      "cell_type": "code",
      "metadata": {
        "id": "eciYupJLu3RB",
        "colab_type": "code",
        "colab": {
          "base_uri": "https://localhost:8080/",
          "height": 295
        },
        "outputId": "ee80e1fd-d859-4ea4-deb6-101e0d00dc15"
      },
      "source": [
        "# summarize history for accuracy\n",
        "plt.plot(history.history['acc'])\n",
        "plt.plot(history.history['val_acc'])\n",
        "plt.title('model accuracy')\n",
        "plt.ylabel('accuracy')\n",
        "plt.xlabel('epoch')\n",
        "plt.legend(['train', 'test'], loc='upper left')\n",
        "plt.show()"
      ],
      "execution_count": 13,
      "outputs": [
        {
          "output_type": "display_data",
          "data": {
            "image/png": "[encoded data removed]",
            "text/plain": [
              "<Figure size 432x288 with 1 Axes>"
            ]
          },
          "metadata": {
            "tags": []
          }
        }
      ]
    },
    {
      "cell_type": "code",
      "metadata": {
        "id": "kIlPQP-Gu5Iu",
        "colab_type": "code",
        "colab": {
          "base_uri": "https://localhost:8080/",
          "height": 295
        },
        "outputId": "3071c141-49fc-4a98-dd95-8c2e9e1058a1"
      },
      "source": [
        "# summarize history for loss\n",
        "plt.plot(history.history['loss'])\n",
        "plt.plot(history.history['val_loss'])\n",
        "plt.title('model loss')\n",
        "plt.ylabel('loss')\n",
        "plt.xlabel('epoch')\n",
        "plt.legend(['train', 'test'], loc='upper left')\n",
        "plt.show()"
      ],
      "execution_count": 14,
      "outputs": [
        {
          "output_type": "display_data",
          "data": {
            "image/png": "[encoded data removed]",
            "text/plain": [
              "<Figure size 432x288 with 1 Axes>"
            ]
          },
          "metadata": {
            "tags": []
          }
        }
      ]
    },
    {
      "cell_type": "code",
      "metadata": {
        "id": "HxtZvOcK-K8n",
        "colab_type": "code",
        "colab": {
          "base_uri": "https://localhost:8080/",
          "height": 52
        },
        "outputId": "d6eba75f-f7ff-49a7-ead4-36aa9aa7851d"
      },
      "source": [
        "score = model.evaluate(x_val, y_val, verbose=0)\n",
        "print('Test loss:', score[0])\n",
        "print('Test accuracy:', score[1])"
      ],
      "execution_count": 15,
      "outputs": [
        {
          "output_type": "stream",
          "text": [
            "Test loss: 0.07251160895004696\n",
            "Test accuracy: 0.9875097870826721\n"
          ],
          "name": "stdout"
        }
      ]
    },
    {
      "cell_type": "code",
      "metadata": {
        "id": "YzqyjuA99TDs",
        "colab_type": "code",
        "colab": {
          "base_uri": "https://localhost:8080/",
          "height": 399
        },
        "outputId": "e66c7dfd-8012-4266-f48e-a192c321f242"
      },
      "source": [
        "# Creting second CNN model\n",
        "model_cnn= Sequential()\n",
        "model_cnn.add(Conv2D(32, kernel_size=(3,3), activation='relu', input_shape=(28,28,3,)))\n",
        "model_cnn.add(Conv2D(64, kernel_size=(3,3), activation='relu'))\n",
        "model_cnn.add(MaxPool2D(pool_size=(2, 2)))\n",
        "model_cnn.add(Flatten())\n",
        "model_cnn.add(Dense(256, activation='relu'))\n",
        "model_cnn.add(Dropout(rate=0.5) )\n",
        "model_cnn.add(Dense(120,activation = 'softmax'))\n",
        "\n",
        "model_cnn.summary()"
      ],
      "execution_count": 16,
      "outputs": [
        {
          "output_type": "stream",
          "text": [
            "Model: \"sequential_2\"\n",
            "_________________________________________________________________\n",
            "Layer (type)                 Output Shape              Param #   \n",
            "=================================================================\n",
            "conv2d_3 (Conv2D)            (None, 26, 26, 32)        896       \n",
            "_________________________________________________________________\n",
            "conv2d_4 (Conv2D)            (None, 24, 24, 64)        18496     \n",
            "_________________________________________________________________\n",
            "max_pooling2d_1 (MaxPooling2 (None, 12, 12, 64)        0         \n",
            "_________________________________________________________________\n",
            "flatten_2 (Flatten)          (None, 9216)              0         \n",
            "_________________________________________________________________\n",
            "dense_3 (Dense)              (None, 256)               2359552   \n",
            "_________________________________________________________________\n",
            "dropout_2 (Dropout)          (None, 256)               0         \n",
            "_________________________________________________________________\n",
            "dense_4 (Dense)              (None, 120)               30840     \n",
            "=================================================================\n",
            "Total params: 2,409,784\n",
            "Trainable params: 2,409,784\n",
            "Non-trainable params: 0\n",
            "_________________________________________________________________\n"
          ],
          "name": "stdout"
        }
      ]
    },
    {
      "cell_type": "code",
      "metadata": {
        "id": "QQNxVIcI_Mj-",
        "colab_type": "code",
        "colab": {
          "base_uri": "https://localhost:8080/",
          "height": 208
        },
        "outputId": "e03b2d3d-9a5f-4152-f0ac-7a0b141c0414"
      },
      "source": [
        "model_cnn.compile(loss='categorical_crossentropy', metrics=['acc'], optimizer='adam')\n",
        "result = model_cnn.fit(x_train, y_train, batch_size=128, epochs=5, verbose=1, validation_data=(x_val, y_val))"
      ],
      "execution_count": 21,
      "outputs": [
        {
          "output_type": "stream",
          "text": [
            "Train on 46116 samples, validate on 15372 samples\n",
            "Epoch 1/5\n",
            "46116/46116 [==============================] - 129s 3ms/step - loss: 0.3113 - acc: 0.9041 - val_loss: 0.0464 - val_acc: 0.9877\n",
            "Epoch 2/5\n",
            "46116/46116 [==============================] - 128s 3ms/step - loss: 0.2394 - acc: 0.9268 - val_loss: 0.0092 - val_acc: 0.9981\n",
            "Epoch 3/5\n",
            "46116/46116 [==============================] - 128s 3ms/step - loss: 0.1750 - acc: 0.9458 - val_loss: 0.0144 - val_acc: 0.9951\n",
            "Epoch 4/5\n",
            "46116/46116 [==============================] - 128s 3ms/step - loss: 0.1727 - acc: 0.9487 - val_loss: 0.0055 - val_acc: 0.9992\n",
            "Epoch 5/5\n",
            "46116/46116 [==============================] - 128s 3ms/step - loss: 0.1191 - acc: 0.9642 - val_loss: 0.0049 - val_acc: 0.9990\n"
          ],
          "name": "stdout"
        }
      ]
    },
    {
      "cell_type": "code",
      "metadata": {
        "id": "WYyt_WoC_iGk",
        "colab_type": "code",
        "colab": {
          "base_uri": "https://localhost:8080/",
          "height": 295
        },
        "outputId": "fe46995e-227d-407d-ab77-51487c85787f"
      },
      "source": [
        "# summarize history for accuracy\n",
        "plt.plot(result.history['acc'])\n",
        "plt.plot(result.history['val_acc'])\n",
        "plt.title('model accuracy')\n",
        "plt.ylabel('accuracy')\n",
        "plt.xlabel('epoch')\n",
        "plt.legend(['train', 'test'], loc='upper left')\n",
        "plt.show()"
      ],
      "execution_count": 22,
      "outputs": [
        {
          "output_type": "display_data",
          "data": {
            "image/png": "[encoded data removed]",
            "text/plain": [
              "<Figure size 432x288 with 1 Axes>"
            ]
          },
          "metadata": {
            "tags": []
          }
        }
      ]
    },
    {
      "cell_type": "code",
      "metadata": {
        "id": "NeCqu3Ac_qOb",
        "colab_type": "code",
        "colab": {
          "base_uri": "https://localhost:8080/",
          "height": 295
        },
        "outputId": "fbf76fff-4926-43cf-bfd0-1262bbc601c5"
      },
      "source": [
        "# summarize history for loss\n",
        "plt.plot(result.history['loss'])\n",
        "plt.plot(result.history['val_loss'])\n",
        "plt.title('model loss')\n",
        "plt.ylabel('loss')\n",
        "plt.xlabel('epoch')\n",
        "plt.legend(['train', 'test'], loc='upper left')\n",
        "plt.show()"
      ],
      "execution_count": 23,
      "outputs": [
        {
          "output_type": "display_data",
          "data": {
            "image/png": "[encoded data removed]",
            "text/plain": [
              "<Figure size 432x288 with 1 Axes>"
            ]
          },
          "metadata": {
            "tags": []
          }
        }
      ]
    },
    {
      "cell_type": "code",
      "metadata": {
        "id": "Bw5RQQiX_vL8",
        "colab_type": "code",
        "colab": {
          "base_uri": "https://localhost:8080/",
          "height": 52
        },
        "outputId": "58ccfeed-c2ff-4a13-fdea-9c9971bc209b"
      },
      "source": [
        "score_result = model_cnn.evaluate(x_val, y_val, verbose=0)\n",
        "print('Test loss:', score_result[0])\n",
        "print('Test accuracy:', score_result[1])"
      ],
      "execution_count": 24,
      "outputs": [
        {
          "output_type": "stream",
          "text": [
            "Test loss: 0.004887029666208158\n",
            "Test accuracy: 0.9990242123603821\n"
          ],
          "name": "stdout"
        }
      ]
    }
  ]
}