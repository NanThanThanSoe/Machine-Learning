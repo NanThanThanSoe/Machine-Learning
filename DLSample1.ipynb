{
  "nbformat": 4,
  "nbformat_minor": 0,
  "metadata": {
    "colab": {
      "name": "DLSample1.ipynb",
      "provenance": [],
      "collapsed_sections": [],
      "mount_file_id": "18WUR-mmjtMx5IvDJy-7GMXG14CwZ0JlU",
      "authorship_tag": "ABX9TyM5Skouj5FhHz3Eyeqs029N",
      "include_colab_link": true
    },
    "kernelspec": {
      "name": "python3",
      "display_name": "Python 3"
    }
  },
  "cells": [
    {
      "cell_type": "markdown",
      "metadata": {
        "id": "view-in-github",
        "colab_type": "text"
      },
      "source": [
        "<a href=\"https://colab.research.google.com/github/NanThanThanSoe/OfflineHandwrittenRecognition/blob/master/DLSample1.ipynb\" target=\"_parent\"><img src=\"https://colab.research.google.com/assets/colab-badge.svg\" alt=\"Open In Colab\"/></a>"
      ]
    },
    {
      "cell_type": "markdown",
      "metadata": {
        "id": "SuyHngBAA7lm",
        "colab_type": "text"
      },
      "source": [
        "https://www.kaggle.com/learn/deep-learning"
      ]
    },
    {
      "cell_type": "code",
      "metadata": {
        "id": "p5aRkjIJA2XU",
        "colab_type": "code",
        "colab": {
          "base_uri": "https://localhost:8080/",
          "height": 64
        },
        "outputId": "62524e7a-37c4-4df8-df16-8bd9eeb0560c"
      },
      "source": [
        "import numpy as np\n",
        "import pandas as pd\n",
        "from sklearn.model_selection import train_test_split\n",
        "from tensorflow.python import keras\n",
        "from tensorflow.python.keras.models import Sequential\n",
        "from tensorflow.python.keras.layers import Dense, Flatten, Conv2D, Dropout"
      ],
      "execution_count": 1,
      "outputs": [
        {
          "output_type": "display_data",
          "data": {
            "text/html": [
              "<p style=\"color: red;\">\n",
              "The default version of TensorFlow in Colab will switch to TensorFlow 2.x on the 27th of March, 2020.<br>\n",
              "We recommend you <a href=\"https://www.tensorflow.org/guide/migrate\" target=\"_blank\">upgrade</a> now\n",
              "or ensure your notebook will continue to use TensorFlow 1.x via the <code>%tensorflow_version 1.x</code> magic:\n",
              "<a href=\"https://colab.research.google.com/notebooks/tensorflow_version.ipynb\" target=\"_blank\">more info</a>.</p>\n"
            ],
            "text/plain": [
              "<IPython.core.display.HTML object>"
            ]
          },
          "metadata": {
            "tags": []
          }
        }
      ]
    },
    {
      "cell_type": "code",
      "metadata": {
        "id": "zw90t9iZBBM8",
        "colab_type": "code",
        "colab": {}
      },
      "source": [
        "img_rows, img_cols = 28, 28\n",
        "num_classes = 10\n",
        "\n",
        "def data_prep(raw):\n",
        "    out_y = keras.utils.to_categorical(raw.label, num_classes)\n",
        "\n",
        "    num_images = raw.shape[0]\n",
        "    x_as_array = raw.values[:,1:]\n",
        "    x_shaped_array = x_as_array.reshape(num_images, img_rows, img_cols, 1)\n",
        "    out_x = x_shaped_array / 255\n",
        "    return out_x, out_y\n",
        "\n",
        "train_file = \"/content/drive/My Drive/ocr/DigitRecognizer/train.csv\"\n",
        "raw_data = pd.read_csv(train_file)\n",
        "x, y = data_prep(raw_data)"
      ],
      "execution_count": 0,
      "outputs": []
    },
    {
      "cell_type": "code",
      "metadata": {
        "id": "-Bs-217uBK-8",
        "colab_type": "code",
        "colab": {
          "base_uri": "https://localhost:8080/",
          "height": 193
        },
        "outputId": "00c3e5c0-612c-43b7-a91c-01706f4bd3b8"
      },
      "source": [
        "model = Sequential()\n",
        "model.add(Conv2D(20, kernel_size=(3, 3),\n",
        "                 activation='relu',\n",
        "                 input_shape=(img_rows, img_cols, 1)))\n",
        "model.add(Conv2D(20, kernel_size=(3, 3), activation='relu'))\n",
        "model.add(Flatten())\n",
        "model.add(Dense(128, activation='relu'))\n",
        "model.add(Dense(num_classes, activation='softmax'))\n",
        "\n",
        "model.compile(loss=keras.losses.categorical_crossentropy,\n",
        "              optimizer='adam',\n",
        "              metrics=['accuracy'])\n",
        "model.fit(x, y,\n",
        "          batch_size=128,\n",
        "          epochs=2,\n",
        "          validation_split = 0.2)"
      ],
      "execution_count": 5,
      "outputs": [
        {
          "output_type": "stream",
          "text": [
            "WARNING:tensorflow:From /tensorflow-1.15.2/python3.6/tensorflow_core/python/ops/resource_variable_ops.py:1630: calling BaseResourceVariable.__init__ (from tensorflow.python.ops.resource_variable_ops) with constraint is deprecated and will be removed in a future version.\n",
            "Instructions for updating:\n",
            "If using Keras pass *_constraint arguments to layers.\n",
            "Train on 33600 samples, validate on 8400 samples\n",
            "Epoch 1/2\n",
            "33600/33600 [==============================] - 42s 1ms/sample - loss: 0.2502 - acc: 0.9252 - val_loss: 0.0953 - val_acc: 0.9710\n",
            "Epoch 2/2\n",
            "33600/33600 [==============================] - 41s 1ms/sample - loss: 0.0628 - acc: 0.9804 - val_loss: 0.0559 - val_acc: 0.9820\n"
          ],
          "name": "stdout"
        },
        {
          "output_type": "execute_result",
          "data": {
            "text/plain": [
              "<tensorflow.python.keras.callbacks.History at 0x7f94ebf5bc50>"
            ]
          },
          "metadata": {
            "tags": []
          },
          "execution_count": 5
        }
      ]
    }
  ]
}