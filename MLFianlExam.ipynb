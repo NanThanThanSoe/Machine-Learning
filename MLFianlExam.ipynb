{
  "nbformat": 4,
  "nbformat_minor": 0,
  "metadata": {
    "colab": {
      "name": "MLFianlExam[Nan].ipynb",
      "provenance": [],
      "collapsed_sections": [],
      "mount_file_id": "16wtIvwtmDQuVqZySlHtDgnDUaxzqrHZ0",
      "authorship_tag": "ABX9TyMJdDT7WsBTaijFSK82b1o8",
      "include_colab_link": true
    },
    "kernelspec": {
      "name": "python3",
      "display_name": "Python 3"
    }
  },
  "cells": [
    {
      "cell_type": "markdown",
      "metadata": {
        "id": "view-in-github",
        "colab_type": "text"
      },
      "source": [
        "<a href=\"https://colab.research.google.com/github/NanThanThanSoe/OfflineHandwrittenRecognition/blob/master/MLFianlExam.ipynb\" target=\"_parent\"><img src=\"https://colab.research.google.com/assets/colab-badge.svg\" alt=\"Open In Colab\"/></a>"
      ]
    },
    {
      "cell_type": "markdown",
      "metadata": {
        "id": "csgayNbOGCWe",
        "colab_type": "text"
      },
      "source": [
        "Machine Learning Final Exam\n",
        "- By Nan Than Than Soe"
      ]
    },
    {
      "cell_type": "code",
      "metadata": {
        "id": "0XSgKsCHup6Z",
        "colab_type": "code",
        "colab": {}
      },
      "source": [
        "import numpy as np\n",
        "import pandas as pd\n",
        "import matplotlib.pyplot as plt\n",
        "import seaborn as sns\n",
        "from sklearn import preprocessing\n",
        "from sklearn.model_selection import train_test_split\n",
        "from keras.models import Sequential\n",
        "from keras.layers import Dense\n",
        "from keras.layers import Conv1D, Conv2D, Flatten, MaxPool2D, Dropout\n",
        "import keras.utils\n",
        "from keras import utils as np_utils\n",
        "from keras.utils import to_categorical\n",
        "from keras.optimizers import Adam\n",
        "from sklearn.pipeline import Pipeline\n",
        "from sklearn.preprocessing import StandardScaler\n",
        "from sklearn.impute import SimpleImputer\n",
        "from sklearn.compose import ColumnTransformer\n",
        "from sklearn.linear_model import LogisticRegression\n",
        "from sklearn.multioutput import MultiOutputClassifier\n",
        "from sklearn.metrics import roc_curve, roc_auc_score\n",
        "from keras import optimizers\n",
        "from sklearn.tree import DecisionTreeClassifier\n",
        "from sklearn.ensemble import RandomForestClassifier"
      ],
      "execution_count": 0,
      "outputs": []
    },
    {
      "cell_type": "code",
      "metadata": {
        "id": "l45jhG9Ku4E1",
        "colab_type": "code",
        "colab": {}
      },
      "source": [
        "train_feature = pd.read_csv(\"/content/Flu Shot Learning - training_set_features.csv\", index_col=0)\n",
        "train_label = pd.read_csv(\"/content/Flu Shot Learning - training_set_labels.csv\", index_col=0)\n",
        "test_feature = pd.read_csv(\"/content/Flu Shot Learning - test_set_features.csv\", index_col=0)"
      ],
      "execution_count": 0,
      "outputs": []
    },
    {
      "cell_type": "code",
      "metadata": {
        "id": "UNEO8TugvAfk",
        "colab_type": "code",
        "outputId": "e1102ee0-3596-44ee-bc89-a51156168262",
        "colab": {
          "base_uri": "https://localhost:8080/",
          "height": 233
        }
      },
      "source": [
        "train_label.head()"
      ],
      "execution_count": 116,
      "outputs": [
        {
          "output_type": "execute_result",
          "data": {
            "text/html": [
              "<div>\n",
              "<style scoped>\n",
              "    .dataframe tbody tr th:only-of-type {\n",
              "        vertical-align: middle;\n",
              "    }\n",
              "\n",
              "    .dataframe tbody tr th {\n",
              "        vertical-align: top;\n",
              "    }\n",
              "\n",
              "    .dataframe thead th {\n",
              "        text-align: right;\n",
              "    }\n",
              "</style>\n",
              "<table border=\"1\" class=\"dataframe\">\n",
              "  <thead>\n",
              "    <tr style=\"text-align: right;\">\n",
              "      <th></th>\n",
              "      <th>h1n1_vaccine</th>\n",
              "      <th>seasonal_vaccine</th>\n",
              "    </tr>\n",
              "    <tr>\n",
              "      <th>respondent_id</th>\n",
              "      <th></th>\n",
              "      <th></th>\n",
              "    </tr>\n",
              "  </thead>\n",
              "  <tbody>\n",
              "    <tr>\n",
              "      <th>0</th>\n",
              "      <td>0</td>\n",
              "      <td>0</td>\n",
              "    </tr>\n",
              "    <tr>\n",
              "      <th>1</th>\n",
              "      <td>0</td>\n",
              "      <td>1</td>\n",
              "    </tr>\n",
              "    <tr>\n",
              "      <th>2</th>\n",
              "      <td>0</td>\n",
              "      <td>0</td>\n",
              "    </tr>\n",
              "    <tr>\n",
              "      <th>3</th>\n",
              "      <td>0</td>\n",
              "      <td>1</td>\n",
              "    </tr>\n",
              "    <tr>\n",
              "      <th>4</th>\n",
              "      <td>0</td>\n",
              "      <td>0</td>\n",
              "    </tr>\n",
              "  </tbody>\n",
              "</table>\n",
              "</div>"
            ],
            "text/plain": [
              "               h1n1_vaccine  seasonal_vaccine\n",
              "respondent_id                                \n",
              "0                         0                 0\n",
              "1                         0                 1\n",
              "2                         0                 0\n",
              "3                         0                 1\n",
              "4                         0                 0"
            ]
          },
          "metadata": {
            "tags": []
          },
          "execution_count": 116
        }
      ]
    },
    {
      "cell_type": "code",
      "metadata": {
        "id": "TRWLYmhavG_E",
        "colab_type": "code",
        "outputId": "37a41f56-49b2-4a31-90e0-1832d82199c4",
        "colab": {
          "base_uri": "https://localhost:8080/",
          "height": 294
        }
      },
      "source": [
        "train_label.describe()"
      ],
      "execution_count": 117,
      "outputs": [
        {
          "output_type": "execute_result",
          "data": {
            "text/html": [
              "<div>\n",
              "<style scoped>\n",
              "    .dataframe tbody tr th:only-of-type {\n",
              "        vertical-align: middle;\n",
              "    }\n",
              "\n",
              "    .dataframe tbody tr th {\n",
              "        vertical-align: top;\n",
              "    }\n",
              "\n",
              "    .dataframe thead th {\n",
              "        text-align: right;\n",
              "    }\n",
              "</style>\n",
              "<table border=\"1\" class=\"dataframe\">\n",
              "  <thead>\n",
              "    <tr style=\"text-align: right;\">\n",
              "      <th></th>\n",
              "      <th>h1n1_vaccine</th>\n",
              "      <th>seasonal_vaccine</th>\n",
              "    </tr>\n",
              "  </thead>\n",
              "  <tbody>\n",
              "    <tr>\n",
              "      <th>count</th>\n",
              "      <td>26707.000000</td>\n",
              "      <td>26707.000000</td>\n",
              "    </tr>\n",
              "    <tr>\n",
              "      <th>mean</th>\n",
              "      <td>0.212454</td>\n",
              "      <td>0.465608</td>\n",
              "    </tr>\n",
              "    <tr>\n",
              "      <th>std</th>\n",
              "      <td>0.409052</td>\n",
              "      <td>0.498825</td>\n",
              "    </tr>\n",
              "    <tr>\n",
              "      <th>min</th>\n",
              "      <td>0.000000</td>\n",
              "      <td>0.000000</td>\n",
              "    </tr>\n",
              "    <tr>\n",
              "      <th>25%</th>\n",
              "      <td>0.000000</td>\n",
              "      <td>0.000000</td>\n",
              "    </tr>\n",
              "    <tr>\n",
              "      <th>50%</th>\n",
              "      <td>0.000000</td>\n",
              "      <td>0.000000</td>\n",
              "    </tr>\n",
              "    <tr>\n",
              "      <th>75%</th>\n",
              "      <td>0.000000</td>\n",
              "      <td>1.000000</td>\n",
              "    </tr>\n",
              "    <tr>\n",
              "      <th>max</th>\n",
              "      <td>1.000000</td>\n",
              "      <td>1.000000</td>\n",
              "    </tr>\n",
              "  </tbody>\n",
              "</table>\n",
              "</div>"
            ],
            "text/plain": [
              "       h1n1_vaccine  seasonal_vaccine\n",
              "count  26707.000000      26707.000000\n",
              "mean       0.212454          0.465608\n",
              "std        0.409052          0.498825\n",
              "min        0.000000          0.000000\n",
              "25%        0.000000          0.000000\n",
              "50%        0.000000          0.000000\n",
              "75%        0.000000          1.000000\n",
              "max        1.000000          1.000000"
            ]
          },
          "metadata": {
            "tags": []
          },
          "execution_count": 117
        }
      ]
    },
    {
      "cell_type": "code",
      "metadata": {
        "id": "754oYrfvwZ5f",
        "colab_type": "code",
        "outputId": "3b287b07-6fd3-4876-dda1-b0b625b86953",
        "colab": {
          "base_uri": "https://localhost:8080/",
          "height": 461
        }
      },
      "source": [
        "plt.figure(figsize=(15*3,7), constrained_layout=False)\n",
        "plt.subplot(151);sns.distplot(a = train_label['h1n1_vaccine'], kde=False)\n",
        "plt.subplot(152);sns.distplot(a = train_label['seasonal_vaccine'], kde=False)"
      ],
      "execution_count": 118,
      "outputs": [
        {
          "output_type": "execute_result",
          "data": {
            "text/plain": [
              "<matplotlib.axes._subplots.AxesSubplot at 0x7f2cb0dffd30>"
            ]
          },
          "metadata": {
            "tags": []
          },
          "execution_count": 118
        },
        {
          "output_type": "display_data",
          "data": {
            "image/png": "[encoded data removed]",
            "text/plain": [
              "<Figure size 3240x504 with 2 Axes>"
            ]
          },
          "metadata": {
            "tags": [],
            "needs_background": "light"
          }
        }
      ]
    },
    {
      "cell_type": "code",
      "metadata": {
        "id": "QVcynZh_wh91",
        "colab_type": "code",
        "outputId": "63150b5c-9e32-489f-a0f0-2362346780d0",
        "colab": {
          "base_uri": "https://localhost:8080/",
          "height": 171
        }
      },
      "source": [
        "pd.crosstab(train_label['h1n1_vaccine'],train_label['seasonal_vaccine'],margins=True,normalize=True)"
      ],
      "execution_count": 119,
      "outputs": [
        {
          "output_type": "execute_result",
          "data": {
            "text/html": [
              "<div>\n",
              "<style scoped>\n",
              "    .dataframe tbody tr th:only-of-type {\n",
              "        vertical-align: middle;\n",
              "    }\n",
              "\n",
              "    .dataframe tbody tr th {\n",
              "        vertical-align: top;\n",
              "    }\n",
              "\n",
              "    .dataframe thead th {\n",
              "        text-align: right;\n",
              "    }\n",
              "</style>\n",
              "<table border=\"1\" class=\"dataframe\">\n",
              "  <thead>\n",
              "    <tr style=\"text-align: right;\">\n",
              "      <th>seasonal_vaccine</th>\n",
              "      <th>0</th>\n",
              "      <th>1</th>\n",
              "      <th>All</th>\n",
              "    </tr>\n",
              "    <tr>\n",
              "      <th>h1n1_vaccine</th>\n",
              "      <th></th>\n",
              "      <th></th>\n",
              "      <th></th>\n",
              "    </tr>\n",
              "  </thead>\n",
              "  <tbody>\n",
              "    <tr>\n",
              "      <th>0</th>\n",
              "      <td>0.497810</td>\n",
              "      <td>0.289737</td>\n",
              "      <td>0.787546</td>\n",
              "    </tr>\n",
              "    <tr>\n",
              "      <th>1</th>\n",
              "      <td>0.036582</td>\n",
              "      <td>0.175871</td>\n",
              "      <td>0.212454</td>\n",
              "    </tr>\n",
              "    <tr>\n",
              "      <th>All</th>\n",
              "      <td>0.534392</td>\n",
              "      <td>0.465608</td>\n",
              "      <td>1.000000</td>\n",
              "    </tr>\n",
              "  </tbody>\n",
              "</table>\n",
              "</div>"
            ],
            "text/plain": [
              "seasonal_vaccine         0         1       All\n",
              "h1n1_vaccine                                  \n",
              "0                 0.497810  0.289737  0.787546\n",
              "1                 0.036582  0.175871  0.212454\n",
              "All               0.534392  0.465608  1.000000"
            ]
          },
          "metadata": {
            "tags": []
          },
          "execution_count": 119
        }
      ]
    },
    {
      "cell_type": "code",
      "metadata": {
        "id": "HphbykQQwlFj",
        "colab_type": "code",
        "outputId": "d09bbe91-af66-4feb-c8ab-d3cb614d88fe",
        "colab": {
          "base_uri": "https://localhost:8080/",
          "height": 35
        }
      },
      "source": [
        "label_corr = train_label['h1n1_vaccine'].corr(train_label['seasonal_vaccine'], method='pearson')\n",
        "print(label_corr)"
      ],
      "execution_count": 120,
      "outputs": [
        {
          "output_type": "stream",
          "text": [
            "0.37714265306144495\n"
          ],
          "name": "stdout"
        }
      ]
    },
    {
      "cell_type": "code",
      "metadata": {
        "id": "jrSqvaKavCc8",
        "colab_type": "code",
        "outputId": "54cd1e24-182c-4a54-9a78-5ada96186189",
        "colab": {
          "base_uri": "https://localhost:8080/",
          "height": 409
        }
      },
      "source": [
        "train_feature.head()"
      ],
      "execution_count": 121,
      "outputs": [
        {
          "output_type": "execute_result",
          "data": {
            "text/html": [
              "<div>\n",
              "<style scoped>\n",
              "    .dataframe tbody tr th:only-of-type {\n",
              "        vertical-align: middle;\n",
              "    }\n",
              "\n",
              "    .dataframe tbody tr th {\n",
              "        vertical-align: top;\n",
              "    }\n",
              "\n",
              "    .dataframe thead th {\n",
              "        text-align: right;\n",
              "    }\n",
              "</style>\n",
              "<table border=\"1\" class=\"dataframe\">\n",
              "  <thead>\n",
              "    <tr style=\"text-align: right;\">\n",
              "      <th></th>\n",
              "      <th>h1n1_concern</th>\n",
              "      <th>h1n1_knowledge</th>\n",
              "      <th>behavioral_antiviral_meds</th>\n",
              "      <th>behavioral_avoidance</th>\n",
              "      <th>behavioral_face_mask</th>\n",
              "      <th>behavioral_wash_hands</th>\n",
              "      <th>behavioral_large_gatherings</th>\n",
              "      <th>behavioral_outside_home</th>\n",
              "      <th>behavioral_touch_face</th>\n",
              "      <th>doctor_recc_h1n1</th>\n",
              "      <th>doctor_recc_seasonal</th>\n",
              "      <th>chronic_med_condition</th>\n",
              "      <th>child_under_6_months</th>\n",
              "      <th>health_worker</th>\n",
              "      <th>health_insurance</th>\n",
              "      <th>opinion_h1n1_vacc_effective</th>\n",
              "      <th>opinion_h1n1_risk</th>\n",
              "      <th>opinion_h1n1_sick_from_vacc</th>\n",
              "      <th>opinion_seas_vacc_effective</th>\n",
              "      <th>opinion_seas_risk</th>\n",
              "      <th>opinion_seas_sick_from_vacc</th>\n",
              "      <th>age_group</th>\n",
              "      <th>education</th>\n",
              "      <th>race</th>\n",
              "      <th>sex</th>\n",
              "      <th>income_poverty</th>\n",
              "      <th>marital_status</th>\n",
              "      <th>rent_or_own</th>\n",
              "      <th>employment_status</th>\n",
              "      <th>hhs_geo_region</th>\n",
              "      <th>census_msa</th>\n",
              "      <th>household_adults</th>\n",
              "      <th>household_children</th>\n",
              "      <th>employment_industry</th>\n",
              "      <th>employment_occupation</th>\n",
              "    </tr>\n",
              "    <tr>\n",
              "      <th>respondent_id</th>\n",
              "      <th></th>\n",
              "      <th></th>\n",
              "      <th></th>\n",
              "      <th></th>\n",
              "      <th></th>\n",
              "      <th></th>\n",
              "      <th></th>\n",
              "      <th></th>\n",
              "      <th></th>\n",
              "      <th></th>\n",
              "      <th></th>\n",
              "      <th></th>\n",
              "      <th></th>\n",
              "      <th></th>\n",
              "      <th></th>\n",
              "      <th></th>\n",
              "      <th></th>\n",
              "      <th></th>\n",
              "      <th></th>\n",
              "      <th></th>\n",
              "      <th></th>\n",
              "      <th></th>\n",
              "      <th></th>\n",
              "      <th></th>\n",
              "      <th></th>\n",
              "      <th></th>\n",
              "      <th></th>\n",
              "      <th></th>\n",
              "      <th></th>\n",
              "      <th></th>\n",
              "      <th></th>\n",
              "      <th></th>\n",
              "      <th></th>\n",
              "      <th></th>\n",
              "      <th></th>\n",
              "    </tr>\n",
              "  </thead>\n",
              "  <tbody>\n",
              "    <tr>\n",
              "      <th>0</th>\n",
              "      <td>1.0</td>\n",
              "      <td>0.0</td>\n",
              "      <td>0.0</td>\n",
              "      <td>0.0</td>\n",
              "      <td>0.0</td>\n",
              "      <td>0.0</td>\n",
              "      <td>0.0</td>\n",
              "      <td>1.0</td>\n",
              "      <td>1.0</td>\n",
              "      <td>0.0</td>\n",
              "      <td>0.0</td>\n",
              "      <td>0.0</td>\n",
              "      <td>0.0</td>\n",
              "      <td>0.0</td>\n",
              "      <td>1.0</td>\n",
              "      <td>3.0</td>\n",
              "      <td>1.0</td>\n",
              "      <td>2.0</td>\n",
              "      <td>2.0</td>\n",
              "      <td>1.0</td>\n",
              "      <td>2.0</td>\n",
              "      <td>55 - 64 Years</td>\n",
              "      <td>&lt; 12 Years</td>\n",
              "      <td>White</td>\n",
              "      <td>Female</td>\n",
              "      <td>Below Poverty</td>\n",
              "      <td>Not Married</td>\n",
              "      <td>Own</td>\n",
              "      <td>Not in Labor Force</td>\n",
              "      <td>oxchjgsf</td>\n",
              "      <td>Non-MSA</td>\n",
              "      <td>0.0</td>\n",
              "      <td>0.0</td>\n",
              "      <td>NaN</td>\n",
              "      <td>NaN</td>\n",
              "    </tr>\n",
              "    <tr>\n",
              "      <th>1</th>\n",
              "      <td>3.0</td>\n",
              "      <td>2.0</td>\n",
              "      <td>0.0</td>\n",
              "      <td>1.0</td>\n",
              "      <td>0.0</td>\n",
              "      <td>1.0</td>\n",
              "      <td>0.0</td>\n",
              "      <td>1.0</td>\n",
              "      <td>1.0</td>\n",
              "      <td>0.0</td>\n",
              "      <td>0.0</td>\n",
              "      <td>0.0</td>\n",
              "      <td>0.0</td>\n",
              "      <td>0.0</td>\n",
              "      <td>1.0</td>\n",
              "      <td>5.0</td>\n",
              "      <td>4.0</td>\n",
              "      <td>4.0</td>\n",
              "      <td>4.0</td>\n",
              "      <td>2.0</td>\n",
              "      <td>4.0</td>\n",
              "      <td>35 - 44 Years</td>\n",
              "      <td>12 Years</td>\n",
              "      <td>White</td>\n",
              "      <td>Male</td>\n",
              "      <td>Below Poverty</td>\n",
              "      <td>Not Married</td>\n",
              "      <td>Rent</td>\n",
              "      <td>Employed</td>\n",
              "      <td>bhuqouqj</td>\n",
              "      <td>MSA, Not Principle  City</td>\n",
              "      <td>0.0</td>\n",
              "      <td>0.0</td>\n",
              "      <td>pxcmvdjn</td>\n",
              "      <td>xgwztkwe</td>\n",
              "    </tr>\n",
              "    <tr>\n",
              "      <th>2</th>\n",
              "      <td>1.0</td>\n",
              "      <td>1.0</td>\n",
              "      <td>0.0</td>\n",
              "      <td>1.0</td>\n",
              "      <td>0.0</td>\n",
              "      <td>0.0</td>\n",
              "      <td>0.0</td>\n",
              "      <td>0.0</td>\n",
              "      <td>0.0</td>\n",
              "      <td>NaN</td>\n",
              "      <td>NaN</td>\n",
              "      <td>1.0</td>\n",
              "      <td>0.0</td>\n",
              "      <td>0.0</td>\n",
              "      <td>NaN</td>\n",
              "      <td>3.0</td>\n",
              "      <td>1.0</td>\n",
              "      <td>1.0</td>\n",
              "      <td>4.0</td>\n",
              "      <td>1.0</td>\n",
              "      <td>2.0</td>\n",
              "      <td>18 - 34 Years</td>\n",
              "      <td>College Graduate</td>\n",
              "      <td>White</td>\n",
              "      <td>Male</td>\n",
              "      <td>&lt;= $75,000, Above Poverty</td>\n",
              "      <td>Not Married</td>\n",
              "      <td>Own</td>\n",
              "      <td>Employed</td>\n",
              "      <td>qufhixun</td>\n",
              "      <td>MSA, Not Principle  City</td>\n",
              "      <td>2.0</td>\n",
              "      <td>0.0</td>\n",
              "      <td>rucpziij</td>\n",
              "      <td>xtkaffoo</td>\n",
              "    </tr>\n",
              "    <tr>\n",
              "      <th>3</th>\n",
              "      <td>1.0</td>\n",
              "      <td>1.0</td>\n",
              "      <td>0.0</td>\n",
              "      <td>1.0</td>\n",
              "      <td>0.0</td>\n",
              "      <td>1.0</td>\n",
              "      <td>1.0</td>\n",
              "      <td>0.0</td>\n",
              "      <td>0.0</td>\n",
              "      <td>0.0</td>\n",
              "      <td>1.0</td>\n",
              "      <td>1.0</td>\n",
              "      <td>0.0</td>\n",
              "      <td>0.0</td>\n",
              "      <td>NaN</td>\n",
              "      <td>3.0</td>\n",
              "      <td>3.0</td>\n",
              "      <td>5.0</td>\n",
              "      <td>5.0</td>\n",
              "      <td>4.0</td>\n",
              "      <td>1.0</td>\n",
              "      <td>65+ Years</td>\n",
              "      <td>12 Years</td>\n",
              "      <td>White</td>\n",
              "      <td>Female</td>\n",
              "      <td>Below Poverty</td>\n",
              "      <td>Not Married</td>\n",
              "      <td>Rent</td>\n",
              "      <td>Not in Labor Force</td>\n",
              "      <td>lrircsnp</td>\n",
              "      <td>MSA, Principle City</td>\n",
              "      <td>0.0</td>\n",
              "      <td>0.0</td>\n",
              "      <td>NaN</td>\n",
              "      <td>NaN</td>\n",
              "    </tr>\n",
              "    <tr>\n",
              "      <th>4</th>\n",
              "      <td>2.0</td>\n",
              "      <td>1.0</td>\n",
              "      <td>0.0</td>\n",
              "      <td>1.0</td>\n",
              "      <td>0.0</td>\n",
              "      <td>1.0</td>\n",
              "      <td>1.0</td>\n",
              "      <td>0.0</td>\n",
              "      <td>1.0</td>\n",
              "      <td>0.0</td>\n",
              "      <td>0.0</td>\n",
              "      <td>0.0</td>\n",
              "      <td>0.0</td>\n",
              "      <td>0.0</td>\n",
              "      <td>NaN</td>\n",
              "      <td>3.0</td>\n",
              "      <td>3.0</td>\n",
              "      <td>2.0</td>\n",
              "      <td>3.0</td>\n",
              "      <td>1.0</td>\n",
              "      <td>4.0</td>\n",
              "      <td>45 - 54 Years</td>\n",
              "      <td>Some College</td>\n",
              "      <td>White</td>\n",
              "      <td>Female</td>\n",
              "      <td>&lt;= $75,000, Above Poverty</td>\n",
              "      <td>Married</td>\n",
              "      <td>Own</td>\n",
              "      <td>Employed</td>\n",
              "      <td>qufhixun</td>\n",
              "      <td>MSA, Not Principle  City</td>\n",
              "      <td>1.0</td>\n",
              "      <td>0.0</td>\n",
              "      <td>wxleyezf</td>\n",
              "      <td>emcorrxb</td>\n",
              "    </tr>\n",
              "  </tbody>\n",
              "</table>\n",
              "</div>"
            ],
            "text/plain": [
              "               h1n1_concern  ...  employment_occupation\n",
              "respondent_id                ...                       \n",
              "0                       1.0  ...                    NaN\n",
              "1                       3.0  ...               xgwztkwe\n",
              "2                       1.0  ...               xtkaffoo\n",
              "3                       1.0  ...                    NaN\n",
              "4                       2.0  ...               emcorrxb\n",
              "\n",
              "[5 rows x 35 columns]"
            ]
          },
          "metadata": {
            "tags": []
          },
          "execution_count": 121
        }
      ]
    },
    {
      "cell_type": "code",
      "metadata": {
        "id": "HZE2KBp8vFUi",
        "colab_type": "code",
        "outputId": "73372079-66c5-406d-f75a-4c4289a7ae18",
        "colab": {
          "base_uri": "https://localhost:8080/",
          "height": 314
        }
      },
      "source": [
        "train_feature.describe()"
      ],
      "execution_count": 122,
      "outputs": [
        {
          "output_type": "execute_result",
          "data": {
            "text/html": [
              "<div>\n",
              "<style scoped>\n",
              "    .dataframe tbody tr th:only-of-type {\n",
              "        vertical-align: middle;\n",
              "    }\n",
              "\n",
              "    .dataframe tbody tr th {\n",
              "        vertical-align: top;\n",
              "    }\n",
              "\n",
              "    .dataframe thead th {\n",
              "        text-align: right;\n",
              "    }\n",
              "</style>\n",
              "<table border=\"1\" class=\"dataframe\">\n",
              "  <thead>\n",
              "    <tr style=\"text-align: right;\">\n",
              "      <th></th>\n",
              "      <th>h1n1_concern</th>\n",
              "      <th>h1n1_knowledge</th>\n",
              "      <th>behavioral_antiviral_meds</th>\n",
              "      <th>behavioral_avoidance</th>\n",
              "      <th>behavioral_face_mask</th>\n",
              "      <th>behavioral_wash_hands</th>\n",
              "      <th>behavioral_large_gatherings</th>\n",
              "      <th>behavioral_outside_home</th>\n",
              "      <th>behavioral_touch_face</th>\n",
              "      <th>doctor_recc_h1n1</th>\n",
              "      <th>doctor_recc_seasonal</th>\n",
              "      <th>chronic_med_condition</th>\n",
              "      <th>child_under_6_months</th>\n",
              "      <th>health_worker</th>\n",
              "      <th>health_insurance</th>\n",
              "      <th>opinion_h1n1_vacc_effective</th>\n",
              "      <th>opinion_h1n1_risk</th>\n",
              "      <th>opinion_h1n1_sick_from_vacc</th>\n",
              "      <th>opinion_seas_vacc_effective</th>\n",
              "      <th>opinion_seas_risk</th>\n",
              "      <th>opinion_seas_sick_from_vacc</th>\n",
              "      <th>household_adults</th>\n",
              "      <th>household_children</th>\n",
              "    </tr>\n",
              "  </thead>\n",
              "  <tbody>\n",
              "    <tr>\n",
              "      <th>count</th>\n",
              "      <td>26615.000000</td>\n",
              "      <td>26591.000000</td>\n",
              "      <td>26636.000000</td>\n",
              "      <td>26499.000000</td>\n",
              "      <td>26688.000000</td>\n",
              "      <td>26665.000000</td>\n",
              "      <td>26620.00000</td>\n",
              "      <td>26625.000000</td>\n",
              "      <td>26579.000000</td>\n",
              "      <td>24547.000000</td>\n",
              "      <td>24547.000000</td>\n",
              "      <td>25736.000000</td>\n",
              "      <td>25887.000000</td>\n",
              "      <td>25903.000000</td>\n",
              "      <td>14433.00000</td>\n",
              "      <td>26316.000000</td>\n",
              "      <td>26319.000000</td>\n",
              "      <td>26312.000000</td>\n",
              "      <td>26245.000000</td>\n",
              "      <td>26193.000000</td>\n",
              "      <td>26170.000000</td>\n",
              "      <td>26458.000000</td>\n",
              "      <td>26458.000000</td>\n",
              "    </tr>\n",
              "    <tr>\n",
              "      <th>mean</th>\n",
              "      <td>1.618486</td>\n",
              "      <td>1.262532</td>\n",
              "      <td>0.048844</td>\n",
              "      <td>0.725612</td>\n",
              "      <td>0.068982</td>\n",
              "      <td>0.825614</td>\n",
              "      <td>0.35864</td>\n",
              "      <td>0.337315</td>\n",
              "      <td>0.677264</td>\n",
              "      <td>0.220312</td>\n",
              "      <td>0.329735</td>\n",
              "      <td>0.283261</td>\n",
              "      <td>0.082590</td>\n",
              "      <td>0.111918</td>\n",
              "      <td>0.87972</td>\n",
              "      <td>3.850623</td>\n",
              "      <td>2.342566</td>\n",
              "      <td>2.357670</td>\n",
              "      <td>4.025986</td>\n",
              "      <td>2.719162</td>\n",
              "      <td>2.118112</td>\n",
              "      <td>0.886499</td>\n",
              "      <td>0.534583</td>\n",
              "    </tr>\n",
              "    <tr>\n",
              "      <th>std</th>\n",
              "      <td>0.910311</td>\n",
              "      <td>0.618149</td>\n",
              "      <td>0.215545</td>\n",
              "      <td>0.446214</td>\n",
              "      <td>0.253429</td>\n",
              "      <td>0.379448</td>\n",
              "      <td>0.47961</td>\n",
              "      <td>0.472802</td>\n",
              "      <td>0.467531</td>\n",
              "      <td>0.414466</td>\n",
              "      <td>0.470126</td>\n",
              "      <td>0.450591</td>\n",
              "      <td>0.275266</td>\n",
              "      <td>0.315271</td>\n",
              "      <td>0.32530</td>\n",
              "      <td>1.007436</td>\n",
              "      <td>1.285539</td>\n",
              "      <td>1.362766</td>\n",
              "      <td>1.086565</td>\n",
              "      <td>1.385055</td>\n",
              "      <td>1.332950</td>\n",
              "      <td>0.753422</td>\n",
              "      <td>0.928173</td>\n",
              "    </tr>\n",
              "    <tr>\n",
              "      <th>min</th>\n",
              "      <td>0.000000</td>\n",
              "      <td>0.000000</td>\n",
              "      <td>0.000000</td>\n",
              "      <td>0.000000</td>\n",
              "      <td>0.000000</td>\n",
              "      <td>0.000000</td>\n",
              "      <td>0.00000</td>\n",
              "      <td>0.000000</td>\n",
              "      <td>0.000000</td>\n",
              "      <td>0.000000</td>\n",
              "      <td>0.000000</td>\n",
              "      <td>0.000000</td>\n",
              "      <td>0.000000</td>\n",
              "      <td>0.000000</td>\n",
              "      <td>0.00000</td>\n",
              "      <td>1.000000</td>\n",
              "      <td>1.000000</td>\n",
              "      <td>1.000000</td>\n",
              "      <td>1.000000</td>\n",
              "      <td>1.000000</td>\n",
              "      <td>1.000000</td>\n",
              "      <td>0.000000</td>\n",
              "      <td>0.000000</td>\n",
              "    </tr>\n",
              "    <tr>\n",
              "      <th>25%</th>\n",
              "      <td>1.000000</td>\n",
              "      <td>1.000000</td>\n",
              "      <td>0.000000</td>\n",
              "      <td>0.000000</td>\n",
              "      <td>0.000000</td>\n",
              "      <td>1.000000</td>\n",
              "      <td>0.00000</td>\n",
              "      <td>0.000000</td>\n",
              "      <td>0.000000</td>\n",
              "      <td>0.000000</td>\n",
              "      <td>0.000000</td>\n",
              "      <td>0.000000</td>\n",
              "      <td>0.000000</td>\n",
              "      <td>0.000000</td>\n",
              "      <td>1.00000</td>\n",
              "      <td>3.000000</td>\n",
              "      <td>1.000000</td>\n",
              "      <td>1.000000</td>\n",
              "      <td>4.000000</td>\n",
              "      <td>2.000000</td>\n",
              "      <td>1.000000</td>\n",
              "      <td>0.000000</td>\n",
              "      <td>0.000000</td>\n",
              "    </tr>\n",
              "    <tr>\n",
              "      <th>50%</th>\n",
              "      <td>2.000000</td>\n",
              "      <td>1.000000</td>\n",
              "      <td>0.000000</td>\n",
              "      <td>1.000000</td>\n",
              "      <td>0.000000</td>\n",
              "      <td>1.000000</td>\n",
              "      <td>0.00000</td>\n",
              "      <td>0.000000</td>\n",
              "      <td>1.000000</td>\n",
              "      <td>0.000000</td>\n",
              "      <td>0.000000</td>\n",
              "      <td>0.000000</td>\n",
              "      <td>0.000000</td>\n",
              "      <td>0.000000</td>\n",
              "      <td>1.00000</td>\n",
              "      <td>4.000000</td>\n",
              "      <td>2.000000</td>\n",
              "      <td>2.000000</td>\n",
              "      <td>4.000000</td>\n",
              "      <td>2.000000</td>\n",
              "      <td>2.000000</td>\n",
              "      <td>1.000000</td>\n",
              "      <td>0.000000</td>\n",
              "    </tr>\n",
              "    <tr>\n",
              "      <th>75%</th>\n",
              "      <td>2.000000</td>\n",
              "      <td>2.000000</td>\n",
              "      <td>0.000000</td>\n",
              "      <td>1.000000</td>\n",
              "      <td>0.000000</td>\n",
              "      <td>1.000000</td>\n",
              "      <td>1.00000</td>\n",
              "      <td>1.000000</td>\n",
              "      <td>1.000000</td>\n",
              "      <td>0.000000</td>\n",
              "      <td>1.000000</td>\n",
              "      <td>1.000000</td>\n",
              "      <td>0.000000</td>\n",
              "      <td>0.000000</td>\n",
              "      <td>1.00000</td>\n",
              "      <td>5.000000</td>\n",
              "      <td>4.000000</td>\n",
              "      <td>4.000000</td>\n",
              "      <td>5.000000</td>\n",
              "      <td>4.000000</td>\n",
              "      <td>4.000000</td>\n",
              "      <td>1.000000</td>\n",
              "      <td>1.000000</td>\n",
              "    </tr>\n",
              "    <tr>\n",
              "      <th>max</th>\n",
              "      <td>3.000000</td>\n",
              "      <td>2.000000</td>\n",
              "      <td>1.000000</td>\n",
              "      <td>1.000000</td>\n",
              "      <td>1.000000</td>\n",
              "      <td>1.000000</td>\n",
              "      <td>1.00000</td>\n",
              "      <td>1.000000</td>\n",
              "      <td>1.000000</td>\n",
              "      <td>1.000000</td>\n",
              "      <td>1.000000</td>\n",
              "      <td>1.000000</td>\n",
              "      <td>1.000000</td>\n",
              "      <td>1.000000</td>\n",
              "      <td>1.00000</td>\n",
              "      <td>5.000000</td>\n",
              "      <td>5.000000</td>\n",
              "      <td>5.000000</td>\n",
              "      <td>5.000000</td>\n",
              "      <td>5.000000</td>\n",
              "      <td>5.000000</td>\n",
              "      <td>3.000000</td>\n",
              "      <td>3.000000</td>\n",
              "    </tr>\n",
              "  </tbody>\n",
              "</table>\n",
              "</div>"
            ],
            "text/plain": [
              "       h1n1_concern  h1n1_knowledge  ...  household_adults  household_children\n",
              "count  26615.000000    26591.000000  ...      26458.000000        26458.000000\n",
              "mean       1.618486        1.262532  ...          0.886499            0.534583\n",
              "std        0.910311        0.618149  ...          0.753422            0.928173\n",
              "min        0.000000        0.000000  ...          0.000000            0.000000\n",
              "25%        1.000000        1.000000  ...          0.000000            0.000000\n",
              "50%        2.000000        1.000000  ...          1.000000            0.000000\n",
              "75%        2.000000        2.000000  ...          1.000000            1.000000\n",
              "max        3.000000        2.000000  ...          3.000000            3.000000\n",
              "\n",
              "[8 rows x 23 columns]"
            ]
          },
          "metadata": {
            "tags": []
          },
          "execution_count": 122
        }
      ]
    },
    {
      "cell_type": "code",
      "metadata": {
        "id": "PXv5oITR54GN",
        "colab_type": "code",
        "outputId": "42d35628-8584-4fef-e1ac-f671af242d41",
        "colab": {
          "base_uri": "https://localhost:8080/",
          "height": 409
        }
      },
      "source": [
        "data = pd.merge(train_feature, train_label,left_index=True, right_index=True)\n",
        "data.head()"
      ],
      "execution_count": 123,
      "outputs": [
        {
          "output_type": "execute_result",
          "data": {
            "text/html": [
              "<div>\n",
              "<style scoped>\n",
              "    .dataframe tbody tr th:only-of-type {\n",
              "        vertical-align: middle;\n",
              "    }\n",
              "\n",
              "    .dataframe tbody tr th {\n",
              "        vertical-align: top;\n",
              "    }\n",
              "\n",
              "    .dataframe thead th {\n",
              "        text-align: right;\n",
              "    }\n",
              "</style>\n",
              "<table border=\"1\" class=\"dataframe\">\n",
              "  <thead>\n",
              "    <tr style=\"text-align: right;\">\n",
              "      <th></th>\n",
              "      <th>h1n1_concern</th>\n",
              "      <th>h1n1_knowledge</th>\n",
              "      <th>behavioral_antiviral_meds</th>\n",
              "      <th>behavioral_avoidance</th>\n",
              "      <th>behavioral_face_mask</th>\n",
              "      <th>behavioral_wash_hands</th>\n",
              "      <th>behavioral_large_gatherings</th>\n",
              "      <th>behavioral_outside_home</th>\n",
              "      <th>behavioral_touch_face</th>\n",
              "      <th>doctor_recc_h1n1</th>\n",
              "      <th>doctor_recc_seasonal</th>\n",
              "      <th>chronic_med_condition</th>\n",
              "      <th>child_under_6_months</th>\n",
              "      <th>health_worker</th>\n",
              "      <th>health_insurance</th>\n",
              "      <th>opinion_h1n1_vacc_effective</th>\n",
              "      <th>opinion_h1n1_risk</th>\n",
              "      <th>opinion_h1n1_sick_from_vacc</th>\n",
              "      <th>opinion_seas_vacc_effective</th>\n",
              "      <th>opinion_seas_risk</th>\n",
              "      <th>opinion_seas_sick_from_vacc</th>\n",
              "      <th>age_group</th>\n",
              "      <th>education</th>\n",
              "      <th>race</th>\n",
              "      <th>sex</th>\n",
              "      <th>income_poverty</th>\n",
              "      <th>marital_status</th>\n",
              "      <th>rent_or_own</th>\n",
              "      <th>employment_status</th>\n",
              "      <th>hhs_geo_region</th>\n",
              "      <th>census_msa</th>\n",
              "      <th>household_adults</th>\n",
              "      <th>household_children</th>\n",
              "      <th>employment_industry</th>\n",
              "      <th>employment_occupation</th>\n",
              "      <th>h1n1_vaccine</th>\n",
              "      <th>seasonal_vaccine</th>\n",
              "    </tr>\n",
              "    <tr>\n",
              "      <th>respondent_id</th>\n",
              "      <th></th>\n",
              "      <th></th>\n",
              "      <th></th>\n",
              "      <th></th>\n",
              "      <th></th>\n",
              "      <th></th>\n",
              "      <th></th>\n",
              "      <th></th>\n",
              "      <th></th>\n",
              "      <th></th>\n",
              "      <th></th>\n",
              "      <th></th>\n",
              "      <th></th>\n",
              "      <th></th>\n",
              "      <th></th>\n",
              "      <th></th>\n",
              "      <th></th>\n",
              "      <th></th>\n",
              "      <th></th>\n",
              "      <th></th>\n",
              "      <th></th>\n",
              "      <th></th>\n",
              "      <th></th>\n",
              "      <th></th>\n",
              "      <th></th>\n",
              "      <th></th>\n",
              "      <th></th>\n",
              "      <th></th>\n",
              "      <th></th>\n",
              "      <th></th>\n",
              "      <th></th>\n",
              "      <th></th>\n",
              "      <th></th>\n",
              "      <th></th>\n",
              "      <th></th>\n",
              "      <th></th>\n",
              "      <th></th>\n",
              "    </tr>\n",
              "  </thead>\n",
              "  <tbody>\n",
              "    <tr>\n",
              "      <th>0</th>\n",
              "      <td>1.0</td>\n",
              "      <td>0.0</td>\n",
              "      <td>0.0</td>\n",
              "      <td>0.0</td>\n",
              "      <td>0.0</td>\n",
              "      <td>0.0</td>\n",
              "      <td>0.0</td>\n",
              "      <td>1.0</td>\n",
              "      <td>1.0</td>\n",
              "      <td>0.0</td>\n",
              "      <td>0.0</td>\n",
              "      <td>0.0</td>\n",
              "      <td>0.0</td>\n",
              "      <td>0.0</td>\n",
              "      <td>1.0</td>\n",
              "      <td>3.0</td>\n",
              "      <td>1.0</td>\n",
              "      <td>2.0</td>\n",
              "      <td>2.0</td>\n",
              "      <td>1.0</td>\n",
              "      <td>2.0</td>\n",
              "      <td>55 - 64 Years</td>\n",
              "      <td>&lt; 12 Years</td>\n",
              "      <td>White</td>\n",
              "      <td>Female</td>\n",
              "      <td>Below Poverty</td>\n",
              "      <td>Not Married</td>\n",
              "      <td>Own</td>\n",
              "      <td>Not in Labor Force</td>\n",
              "      <td>oxchjgsf</td>\n",
              "      <td>Non-MSA</td>\n",
              "      <td>0.0</td>\n",
              "      <td>0.0</td>\n",
              "      <td>NaN</td>\n",
              "      <td>NaN</td>\n",
              "      <td>0</td>\n",
              "      <td>0</td>\n",
              "    </tr>\n",
              "    <tr>\n",
              "      <th>1</th>\n",
              "      <td>3.0</td>\n",
              "      <td>2.0</td>\n",
              "      <td>0.0</td>\n",
              "      <td>1.0</td>\n",
              "      <td>0.0</td>\n",
              "      <td>1.0</td>\n",
              "      <td>0.0</td>\n",
              "      <td>1.0</td>\n",
              "      <td>1.0</td>\n",
              "      <td>0.0</td>\n",
              "      <td>0.0</td>\n",
              "      <td>0.0</td>\n",
              "      <td>0.0</td>\n",
              "      <td>0.0</td>\n",
              "      <td>1.0</td>\n",
              "      <td>5.0</td>\n",
              "      <td>4.0</td>\n",
              "      <td>4.0</td>\n",
              "      <td>4.0</td>\n",
              "      <td>2.0</td>\n",
              "      <td>4.0</td>\n",
              "      <td>35 - 44 Years</td>\n",
              "      <td>12 Years</td>\n",
              "      <td>White</td>\n",
              "      <td>Male</td>\n",
              "      <td>Below Poverty</td>\n",
              "      <td>Not Married</td>\n",
              "      <td>Rent</td>\n",
              "      <td>Employed</td>\n",
              "      <td>bhuqouqj</td>\n",
              "      <td>MSA, Not Principle  City</td>\n",
              "      <td>0.0</td>\n",
              "      <td>0.0</td>\n",
              "      <td>pxcmvdjn</td>\n",
              "      <td>xgwztkwe</td>\n",
              "      <td>0</td>\n",
              "      <td>1</td>\n",
              "    </tr>\n",
              "    <tr>\n",
              "      <th>2</th>\n",
              "      <td>1.0</td>\n",
              "      <td>1.0</td>\n",
              "      <td>0.0</td>\n",
              "      <td>1.0</td>\n",
              "      <td>0.0</td>\n",
              "      <td>0.0</td>\n",
              "      <td>0.0</td>\n",
              "      <td>0.0</td>\n",
              "      <td>0.0</td>\n",
              "      <td>NaN</td>\n",
              "      <td>NaN</td>\n",
              "      <td>1.0</td>\n",
              "      <td>0.0</td>\n",
              "      <td>0.0</td>\n",
              "      <td>NaN</td>\n",
              "      <td>3.0</td>\n",
              "      <td>1.0</td>\n",
              "      <td>1.0</td>\n",
              "      <td>4.0</td>\n",
              "      <td>1.0</td>\n",
              "      <td>2.0</td>\n",
              "      <td>18 - 34 Years</td>\n",
              "      <td>College Graduate</td>\n",
              "      <td>White</td>\n",
              "      <td>Male</td>\n",
              "      <td>&lt;= $75,000, Above Poverty</td>\n",
              "      <td>Not Married</td>\n",
              "      <td>Own</td>\n",
              "      <td>Employed</td>\n",
              "      <td>qufhixun</td>\n",
              "      <td>MSA, Not Principle  City</td>\n",
              "      <td>2.0</td>\n",
              "      <td>0.0</td>\n",
              "      <td>rucpziij</td>\n",
              "      <td>xtkaffoo</td>\n",
              "      <td>0</td>\n",
              "      <td>0</td>\n",
              "    </tr>\n",
              "    <tr>\n",
              "      <th>3</th>\n",
              "      <td>1.0</td>\n",
              "      <td>1.0</td>\n",
              "      <td>0.0</td>\n",
              "      <td>1.0</td>\n",
              "      <td>0.0</td>\n",
              "      <td>1.0</td>\n",
              "      <td>1.0</td>\n",
              "      <td>0.0</td>\n",
              "      <td>0.0</td>\n",
              "      <td>0.0</td>\n",
              "      <td>1.0</td>\n",
              "      <td>1.0</td>\n",
              "      <td>0.0</td>\n",
              "      <td>0.0</td>\n",
              "      <td>NaN</td>\n",
              "      <td>3.0</td>\n",
              "      <td>3.0</td>\n",
              "      <td>5.0</td>\n",
              "      <td>5.0</td>\n",
              "      <td>4.0</td>\n",
              "      <td>1.0</td>\n",
              "      <td>65+ Years</td>\n",
              "      <td>12 Years</td>\n",
              "      <td>White</td>\n",
              "      <td>Female</td>\n",
              "      <td>Below Poverty</td>\n",
              "      <td>Not Married</td>\n",
              "      <td>Rent</td>\n",
              "      <td>Not in Labor Force</td>\n",
              "      <td>lrircsnp</td>\n",
              "      <td>MSA, Principle City</td>\n",
              "      <td>0.0</td>\n",
              "      <td>0.0</td>\n",
              "      <td>NaN</td>\n",
              "      <td>NaN</td>\n",
              "      <td>0</td>\n",
              "      <td>1</td>\n",
              "    </tr>\n",
              "    <tr>\n",
              "      <th>4</th>\n",
              "      <td>2.0</td>\n",
              "      <td>1.0</td>\n",
              "      <td>0.0</td>\n",
              "      <td>1.0</td>\n",
              "      <td>0.0</td>\n",
              "      <td>1.0</td>\n",
              "      <td>1.0</td>\n",
              "      <td>0.0</td>\n",
              "      <td>1.0</td>\n",
              "      <td>0.0</td>\n",
              "      <td>0.0</td>\n",
              "      <td>0.0</td>\n",
              "      <td>0.0</td>\n",
              "      <td>0.0</td>\n",
              "      <td>NaN</td>\n",
              "      <td>3.0</td>\n",
              "      <td>3.0</td>\n",
              "      <td>2.0</td>\n",
              "      <td>3.0</td>\n",
              "      <td>1.0</td>\n",
              "      <td>4.0</td>\n",
              "      <td>45 - 54 Years</td>\n",
              "      <td>Some College</td>\n",
              "      <td>White</td>\n",
              "      <td>Female</td>\n",
              "      <td>&lt;= $75,000, Above Poverty</td>\n",
              "      <td>Married</td>\n",
              "      <td>Own</td>\n",
              "      <td>Employed</td>\n",
              "      <td>qufhixun</td>\n",
              "      <td>MSA, Not Principle  City</td>\n",
              "      <td>1.0</td>\n",
              "      <td>0.0</td>\n",
              "      <td>wxleyezf</td>\n",
              "      <td>emcorrxb</td>\n",
              "      <td>0</td>\n",
              "      <td>0</td>\n",
              "    </tr>\n",
              "  </tbody>\n",
              "</table>\n",
              "</div>"
            ],
            "text/plain": [
              "               h1n1_concern  h1n1_knowledge  ...  h1n1_vaccine  seasonal_vaccine\n",
              "respondent_id                                ...                                \n",
              "0                       1.0             0.0  ...             0                 0\n",
              "1                       3.0             2.0  ...             0                 1\n",
              "2                       1.0             1.0  ...             0                 0\n",
              "3                       1.0             1.0  ...             0                 1\n",
              "4                       2.0             1.0  ...             0                 0\n",
              "\n",
              "[5 rows x 37 columns]"
            ]
          },
          "metadata": {
            "tags": []
          },
          "execution_count": 123
        }
      ]
    },
    {
      "cell_type": "code",
      "metadata": {
        "id": "aM-5tq3v57Xr",
        "colab_type": "code",
        "outputId": "f1c30cbb-3c46-4df7-8ac1-0884a351f06d",
        "colab": {
          "base_uri": "https://localhost:8080/",
          "height": 202
        }
      },
      "source": [
        "data[['h1n1_concern', 'h1n1_vaccine']].groupby(['h1n1_concern', 'h1n1_vaccine']).size().unstack('h1n1_vaccine')"
      ],
      "execution_count": 124,
      "outputs": [
        {
          "output_type": "execute_result",
          "data": {
            "text/html": [
              "<div>\n",
              "<style scoped>\n",
              "    .dataframe tbody tr th:only-of-type {\n",
              "        vertical-align: middle;\n",
              "    }\n",
              "\n",
              "    .dataframe tbody tr th {\n",
              "        vertical-align: top;\n",
              "    }\n",
              "\n",
              "    .dataframe thead th {\n",
              "        text-align: right;\n",
              "    }\n",
              "</style>\n",
              "<table border=\"1\" class=\"dataframe\">\n",
              "  <thead>\n",
              "    <tr style=\"text-align: right;\">\n",
              "      <th>h1n1_vaccine</th>\n",
              "      <th>0</th>\n",
              "      <th>1</th>\n",
              "    </tr>\n",
              "    <tr>\n",
              "      <th>h1n1_concern</th>\n",
              "      <th></th>\n",
              "      <th></th>\n",
              "    </tr>\n",
              "  </thead>\n",
              "  <tbody>\n",
              "    <tr>\n",
              "      <th>0.0</th>\n",
              "      <td>2849</td>\n",
              "      <td>447</td>\n",
              "    </tr>\n",
              "    <tr>\n",
              "      <th>1.0</th>\n",
              "      <td>6756</td>\n",
              "      <td>1397</td>\n",
              "    </tr>\n",
              "    <tr>\n",
              "      <th>2.0</th>\n",
              "      <td>8102</td>\n",
              "      <td>2473</td>\n",
              "    </tr>\n",
              "    <tr>\n",
              "      <th>3.0</th>\n",
              "      <td>3250</td>\n",
              "      <td>1341</td>\n",
              "    </tr>\n",
              "  </tbody>\n",
              "</table>\n",
              "</div>"
            ],
            "text/plain": [
              "h1n1_vaccine     0     1\n",
              "h1n1_concern            \n",
              "0.0           2849   447\n",
              "1.0           6756  1397\n",
              "2.0           8102  2473\n",
              "3.0           3250  1341"
            ]
          },
          "metadata": {
            "tags": []
          },
          "execution_count": 124
        }
      ]
    },
    {
      "cell_type": "code",
      "metadata": {
        "id": "WIziHJrY5-7T",
        "colab_type": "code",
        "outputId": "d183014b-cf3f-450c-d323-c2a38a530f26",
        "colab": {
          "base_uri": "https://localhost:8080/",
          "height": 35
        }
      },
      "source": [
        "h1n1_corr = data['h1n1_vaccine'].corr(data['h1n1_concern'], method='pearson')\n",
        "print(h1n1_corr)"
      ],
      "execution_count": 125,
      "outputs": [
        {
          "output_type": "stream",
          "text": [
            "0.12192918865076169\n"
          ],
          "name": "stdout"
        }
      ]
    },
    {
      "cell_type": "code",
      "metadata": {
        "id": "yhuiaAm-6BI4",
        "colab_type": "code",
        "outputId": "2d7b0cb7-81ad-45ed-e9b9-7829bd3a512c",
        "colab": {
          "base_uri": "https://localhost:8080/",
          "height": 275
        }
      },
      "source": [
        "plt.figure(figsize=(15*3,7), constrained_layout=False)\n",
        "plt.subplot(151); sns.barplot(x = data['h1n1_concern'], y = data['h1n1_vaccine'], ci = None)\n",
        "plt.subplot(152); sns.barplot(x = data['h1n1_concern'], y = data['opinion_h1n1_vacc_effective'], ci = None)\n",
        "plt.subplot(153); sns.barplot(x = data['h1n1_concern'], y = data['opinion_h1n1_risk'], ci = None)\n",
        "plt.subplot(154); sns.barplot(x = data['h1n1_concern'], y = data['opinion_h1n1_sick_from_vacc'], ci = None)"
      ],
      "execution_count": 126,
      "outputs": [
        {
          "output_type": "execute_result",
          "data": {
            "text/plain": [
              "<matplotlib.axes._subplots.AxesSubplot at 0x7f2cb2a6e358>"
            ]
          },
          "metadata": {
            "tags": []
          },
          "execution_count": 126
        },
        {
          "output_type": "display_data",
          "data": {
            "image/png": "[encoded data removed]",
            "text/plain": [
              "<Figure size 3240x504 with 4 Axes>"
            ]
          },
          "metadata": {
            "tags": [],
            "needs_background": "light"
          }
        }
      ]
    },
    {
      "cell_type": "code",
      "metadata": {
        "id": "bOtt8YDQ6DHF",
        "colab_type": "code",
        "outputId": "7db577cb-5547-4f5f-ef68-42ee99b70ad3",
        "colab": {
          "base_uri": "https://localhost:8080/",
          "height": 276
        }
      },
      "source": [
        "plt.figure(figsize=(15*3,7), constrained_layout=False)\n",
        "plt.subplot(151); sns.barplot(x = data['h1n1_concern'], y = data['seasonal_vaccine'], ci = None)\n",
        "plt.subplot(152); sns.barplot(x = data['h1n1_concern'], y = data['opinion_seas_vacc_effective'], ci = None)\n",
        "plt.subplot(153); sns.barplot(x = data['h1n1_concern'], y = data['opinion_seas_risk'], ci = None)\n",
        "plt.subplot(154); sns.barplot(x = data['h1n1_concern'], y = data['opinion_seas_sick_from_vacc'], ci = None)"
      ],
      "execution_count": 127,
      "outputs": [
        {
          "output_type": "execute_result",
          "data": {
            "text/plain": [
              "<matplotlib.axes._subplots.AxesSubplot at 0x7f2cb28d4748>"
            ]
          },
          "metadata": {
            "tags": []
          },
          "execution_count": 127
        },
        {
          "output_type": "display_data",
          "data": {
            "image/png": "[encoded data removed]",
            "text/plain": [
              "<Figure size 3240x504 with 4 Axes>"
            ]
          },
          "metadata": {
            "tags": [],
            "needs_background": "light"
          }
        }
      ]
    },
    {
      "cell_type": "code",
      "metadata": {
        "id": "fM0AkRzuvw1u",
        "colab_type": "code",
        "outputId": "afd152e8-84c4-4260-f23b-cd2e72df9ef4",
        "colab": {
          "base_uri": "https://localhost:8080/",
          "height": 641
        }
      },
      "source": [
        "train_feature.dtypes"
      ],
      "execution_count": 128,
      "outputs": [
        {
          "output_type": "execute_result",
          "data": {
            "text/plain": [
              "h1n1_concern                   float64\n",
              "h1n1_knowledge                 float64\n",
              "behavioral_antiviral_meds      float64\n",
              "behavioral_avoidance           float64\n",
              "behavioral_face_mask           float64\n",
              "behavioral_wash_hands          float64\n",
              "behavioral_large_gatherings    float64\n",
              "behavioral_outside_home        float64\n",
              "behavioral_touch_face          float64\n",
              "doctor_recc_h1n1               float64\n",
              "doctor_recc_seasonal           float64\n",
              "chronic_med_condition          float64\n",
              "child_under_6_months           float64\n",
              "health_worker                  float64\n",
              "health_insurance               float64\n",
              "opinion_h1n1_vacc_effective    float64\n",
              "opinion_h1n1_risk              float64\n",
              "opinion_h1n1_sick_from_vacc    float64\n",
              "opinion_seas_vacc_effective    float64\n",
              "opinion_seas_risk              float64\n",
              "opinion_seas_sick_from_vacc    float64\n",
              "age_group                       object\n",
              "education                       object\n",
              "race                            object\n",
              "sex                             object\n",
              "income_poverty                  object\n",
              "marital_status                  object\n",
              "rent_or_own                     object\n",
              "employment_status               object\n",
              "hhs_geo_region                  object\n",
              "census_msa                      object\n",
              "household_adults               float64\n",
              "household_children             float64\n",
              "employment_industry             object\n",
              "employment_occupation           object\n",
              "dtype: object"
            ]
          },
          "metadata": {
            "tags": []
          },
          "execution_count": 128
        }
      ]
    },
    {
      "cell_type": "code",
      "metadata": {
        "id": "Mt-ZH3h5v7wV",
        "colab_type": "code",
        "outputId": "53f73e4e-c852-4161-a175-f6f87d0d2411",
        "colab": {
          "base_uri": "https://localhost:8080/",
          "height": 624
        }
      },
      "source": [
        "for column in train_feature.columns:\n",
        "  find = train_feature[column].isnull()\n",
        "  number = 0\n",
        "  for i in range(len(find)):\n",
        "    if(find[i] == True):\n",
        "      number = number + 1\n",
        "  print(column + \" has \" + str(number) + \" null value\")"
      ],
      "execution_count": 129,
      "outputs": [
        {
          "output_type": "stream",
          "text": [
            "h1n1_concern has 92 null value\n",
            "h1n1_knowledge has 116 null value\n",
            "behavioral_antiviral_meds has 71 null value\n",
            "behavioral_avoidance has 208 null value\n",
            "behavioral_face_mask has 19 null value\n",
            "behavioral_wash_hands has 42 null value\n",
            "behavioral_large_gatherings has 87 null value\n",
            "behavioral_outside_home has 82 null value\n",
            "behavioral_touch_face has 128 null value\n",
            "doctor_recc_h1n1 has 2160 null value\n",
            "doctor_recc_seasonal has 2160 null value\n",
            "chronic_med_condition has 971 null value\n",
            "child_under_6_months has 820 null value\n",
            "health_worker has 804 null value\n",
            "health_insurance has 12274 null value\n",
            "opinion_h1n1_vacc_effective has 391 null value\n",
            "opinion_h1n1_risk has 388 null value\n",
            "opinion_h1n1_sick_from_vacc has 395 null value\n",
            "opinion_seas_vacc_effective has 462 null value\n",
            "opinion_seas_risk has 514 null value\n",
            "opinion_seas_sick_from_vacc has 537 null value\n",
            "age_group has 0 null value\n",
            "education has 1407 null value\n",
            "race has 0 null value\n",
            "sex has 0 null value\n",
            "income_poverty has 4423 null value\n",
            "marital_status has 1408 null value\n",
            "rent_or_own has 2042 null value\n",
            "employment_status has 1463 null value\n",
            "hhs_geo_region has 0 null value\n",
            "census_msa has 0 null value\n",
            "household_adults has 249 null value\n",
            "household_children has 249 null value\n",
            "employment_industry has 13330 null value\n",
            "employment_occupation has 13470 null value\n"
          ],
          "name": "stdout"
        }
      ]
    },
    {
      "cell_type": "code",
      "metadata": {
        "id": "tsMTd_JywxQI",
        "colab_type": "code",
        "outputId": "b111a4cb-ed5a-48ca-fe65-9db10b76e1c7",
        "colab": {
          "base_uri": "https://localhost:8080/",
          "height": 364
        }
      },
      "source": [
        "for column in train_feature.columns:\n",
        "  if train_feature[column].dtype == np.object:\n",
        "    print(column + \" has \" + str(len(train_feature[column].unique())) + \" unique values \" + str(train_feature[column].unique()))"
      ],
      "execution_count": 130,
      "outputs": [
        {
          "output_type": "stream",
          "text": [
            "age_group has 5 unique values ['55 - 64 Years' '35 - 44 Years' '18 - 34 Years' '65+ Years'\n",
            " '45 - 54 Years']\n",
            "education has 5 unique values ['< 12 Years' '12 Years' 'College Graduate' 'Some College' nan]\n",
            "race has 4 unique values ['White' 'Black' 'Other or Multiple' 'Hispanic']\n",
            "sex has 2 unique values ['Female' 'Male']\n",
            "income_poverty has 4 unique values ['Below Poverty' '<= $75,000, Above Poverty' '> $75,000' nan]\n",
            "marital_status has 3 unique values ['Not Married' 'Married' nan]\n",
            "rent_or_own has 3 unique values ['Own' 'Rent' nan]\n",
            "employment_status has 4 unique values ['Not in Labor Force' 'Employed' 'Unemployed' nan]\n",
            "hhs_geo_region has 10 unique values ['oxchjgsf' 'bhuqouqj' 'qufhixun' 'lrircsnp' 'atmpeygn' 'lzgpxyit'\n",
            " 'fpwskwrf' 'mlyzmhmf' 'dqpwygqj' 'kbazzjca']\n",
            "census_msa has 3 unique values ['Non-MSA' 'MSA, Not Principle  City' 'MSA, Principle City']\n",
            "employment_industry has 22 unique values [nan 'pxcmvdjn' 'rucpziij' 'wxleyezf' 'saaquncn' 'xicduogh' 'ldnlellj'\n",
            " 'wlfvacwt' 'nduyfdeo' 'fcxhlnwr' 'vjjrobsf' 'arjwrbjb' 'atmlpfrs'\n",
            " 'msuufmds' 'xqicxuve' 'phxvnwax' 'dotnnunm' 'mfikgejo' 'cfqqtusy'\n",
            " 'mcubkhph' 'haxffmxo' 'qnlwzans']\n",
            "employment_occupation has 24 unique values [nan 'xgwztkwe' 'xtkaffoo' 'emcorrxb' 'vlluhbov' 'xqwwgdyp' 'ccgxvspp'\n",
            " 'qxajmpny' 'kldqjyjy' 'mxkfnird' 'hfxkjkmi' 'bxpfxfdn' 'ukymxvdu'\n",
            " 'cmhcxjea' 'haliazsg' 'dlvbwzss' 'xzmlyyjv' 'oijqvulv' 'rcertsgn'\n",
            " 'tfqavkke' 'hodpvpew' 'uqqtjvyb' 'pvmttkik' 'dcjcmpih']\n"
          ],
          "name": "stdout"
        }
      ]
    },
    {
      "cell_type": "code",
      "metadata": {
        "id": "MIrBjX-7xBJ4",
        "colab_type": "code",
        "colab": {}
      },
      "source": [
        "train_feature['marital_status'].fillna('Not Married', inplace=True)\n",
        "train_feature['income_poverty'].fillna('<= $75,000, Above Poverty', inplace=True)\n",
        "train_feature['rent_or_own' ].fillna('<= $75,000, Above Poverty', inplace=True)\n",
        "train_feature['education'].fillna('< 12 Years', inplace=True)\n"
      ],
      "execution_count": 0,
      "outputs": []
    },
    {
      "cell_type": "code",
      "metadata": {
        "id": "y3c9HPD4yBXr",
        "colab_type": "code",
        "colab": {}
      },
      "source": [
        "train_feature['employment_occupation'].fillna('0', inplace=True)\n",
        "train_feature['employment_industry'].fillna('0', inplace=True)\n",
        "train_feature['employment_status'].fillna('0', inplace=True)\n",
        "train_feature['doctor_recc_h1n1'].fillna('0', inplace=True)\n",
        "train_feature['doctor_recc_seasonal'].fillna('0', inplace=True)\n",
        "train_feature['health_insurance'].fillna('0', inplace=True)\n",
        "\n",
        "train_feature['household_adults'].fillna('0', inplace=True)\n",
        "train_feature['household_children'].fillna('0', inplace=True)\n",
        "train_feature['opinion_h1n1_vacc_effective'].fillna('0', inplace=True)\n",
        "train_feature['opinion_h1n1_risk'].fillna('0', inplace=True)\n",
        "train_feature['opinion_h1n1_sick_from_vacc'].fillna('0', inplace=True)\n",
        "\n",
        "train_feature['opinion_seas_vacc_effective'].fillna('0', inplace=True)\n",
        "train_feature['opinion_seas_risk'].fillna('0', inplace=True)\n",
        "train_feature['opinion_seas_sick_from_vacc'].fillna('0', inplace=True)\n",
        "train_feature['chronic_med_condition'].fillna('0', inplace=True)\n",
        "train_feature['child_under_6_months'].fillna('0', inplace=True)\n",
        "\n",
        "train_feature['health_worker'].fillna('0', inplace=True)\n",
        "train_feature['h1n1_concern'].fillna('0', inplace=True)\n",
        "train_feature['h1n1_knowledge'].fillna('0', inplace=True)\n",
        "train_feature['behavioral_antiviral_meds'].fillna('0', inplace=True)\n",
        "train_feature['behavioral_avoidance'].fillna('0', inplace=True)\n",
        "\n",
        "train_feature['behavioral_face_mask'].fillna('0', inplace=True)\n",
        "train_feature['behavioral_wash_hands'].fillna('0', inplace=True)\n",
        "train_feature['behavioral_large_gatherings'].fillna('0', inplace=True)\n",
        "train_feature['behavioral_outside_home'].fillna('0', inplace=True)\n",
        "train_feature['behavioral_touch_face'].fillna('0', inplace=True)\n"
      ],
      "execution_count": 0,
      "outputs": []
    },
    {
      "cell_type": "code",
      "metadata": {
        "id": "rj3dNbihxIaN",
        "colab_type": "code",
        "colab": {}
      },
      "source": [
        "le = preprocessing.LabelEncoder()\n",
        "\n",
        "train_feature['age_group'] = le.fit_transform(train_feature['age_group'])\n",
        "train_feature['race'] = le.fit_transform(train_feature['race'])\n",
        "train_feature['census_msa'] = le.fit_transform(train_feature['census_msa'])\n",
        "train_feature['hhs_geo_region'] = le.fit_transform(train_feature['hhs_geo_region'])\n",
        "train_feature['sex'] = le.fit_transform(train_feature['sex'])\n",
        "train_feature['education'] = le.fit_transform(train_feature['education'])\n",
        "train_feature['income_poverty'] = le.fit_transform(train_feature['income_poverty'])\n",
        "train_feature['rent_or_own' ] = le.fit_transform(train_feature['rent_or_own'])\n",
        "train_feature['marital_status'] = le.fit_transform(train_feature['marital_status'])\n",
        "train_feature['employment_status'] = le.fit_transform(train_feature['employment_status'])\n",
        "train_feature['employment_occupation'] = le.fit_transform(train_feature['employment_occupation'])\n",
        "train_feature['employment_industry'] = le.fit_transform(train_feature['employment_industry'])"
      ],
      "execution_count": 0,
      "outputs": []
    },
    {
      "cell_type": "code",
      "metadata": {
        "id": "6uNPyONSxNyC",
        "colab_type": "code",
        "outputId": "2f24739d-1bb2-4ba0-8ace-53685855738f",
        "colab": {
          "base_uri": "https://localhost:8080/",
          "height": 624
        }
      },
      "source": [
        "for column in train_feature.columns:\n",
        "  check = train_feature[column].isnull()\n",
        "  number = 0\n",
        "  for i in range(len(check)):\n",
        "    if(check[i] == True):\n",
        "      number = number + 1\n",
        "  print(column + \" has \" + str(number) + \" null value\")"
      ],
      "execution_count": 134,
      "outputs": [
        {
          "output_type": "stream",
          "text": [
            "h1n1_concern has 0 null value\n",
            "h1n1_knowledge has 0 null value\n",
            "behavioral_antiviral_meds has 0 null value\n",
            "behavioral_avoidance has 0 null value\n",
            "behavioral_face_mask has 0 null value\n",
            "behavioral_wash_hands has 0 null value\n",
            "behavioral_large_gatherings has 0 null value\n",
            "behavioral_outside_home has 0 null value\n",
            "behavioral_touch_face has 0 null value\n",
            "doctor_recc_h1n1 has 0 null value\n",
            "doctor_recc_seasonal has 0 null value\n",
            "chronic_med_condition has 0 null value\n",
            "child_under_6_months has 0 null value\n",
            "health_worker has 0 null value\n",
            "health_insurance has 0 null value\n",
            "opinion_h1n1_vacc_effective has 0 null value\n",
            "opinion_h1n1_risk has 0 null value\n",
            "opinion_h1n1_sick_from_vacc has 0 null value\n",
            "opinion_seas_vacc_effective has 0 null value\n",
            "opinion_seas_risk has 0 null value\n",
            "opinion_seas_sick_from_vacc has 0 null value\n",
            "age_group has 0 null value\n",
            "education has 0 null value\n",
            "race has 0 null value\n",
            "sex has 0 null value\n",
            "income_poverty has 0 null value\n",
            "marital_status has 0 null value\n",
            "rent_or_own has 0 null value\n",
            "employment_status has 0 null value\n",
            "hhs_geo_region has 0 null value\n",
            "census_msa has 0 null value\n",
            "household_adults has 0 null value\n",
            "household_children has 0 null value\n",
            "employment_industry has 0 null value\n",
            "employment_occupation has 0 null value\n"
          ],
          "name": "stdout"
        }
      ]
    },
    {
      "cell_type": "code",
      "metadata": {
        "id": "1ukbIX7h1nbc",
        "colab_type": "code",
        "outputId": "56315373-3cf7-40e2-85e0-efe7c1cb29dd",
        "colab": {
          "base_uri": "https://localhost:8080/",
          "height": 52
        }
      },
      "source": [
        "for column in train_label.columns:\n",
        "  check = train_label[column].isnull()\n",
        "  number = 0\n",
        "  for i in range(len(check)):\n",
        "    if(check[i] == True):\n",
        "      number = number + 1\n",
        "  print(column + \" has \" + str(number) + \" null value\")"
      ],
      "execution_count": 135,
      "outputs": [
        {
          "output_type": "stream",
          "text": [
            "h1n1_vaccine has 0 null value\n",
            "seasonal_vaccine has 0 null value\n"
          ],
          "name": "stdout"
        }
      ]
    },
    {
      "cell_type": "code",
      "metadata": {
        "id": "KE80Piwd3RhV",
        "colab_type": "code",
        "outputId": "da6ab7c0-0eb3-4a87-c0f7-dc680546ab36",
        "colab": {
          "base_uri": "https://localhost:8080/",
          "height": 243
        }
      },
      "source": [
        "train_feature.columns"
      ],
      "execution_count": 136,
      "outputs": [
        {
          "output_type": "execute_result",
          "data": {
            "text/plain": [
              "Index(['h1n1_concern', 'h1n1_knowledge', 'behavioral_antiviral_meds',\n",
              "       'behavioral_avoidance', 'behavioral_face_mask', 'behavioral_wash_hands',\n",
              "       'behavioral_large_gatherings', 'behavioral_outside_home',\n",
              "       'behavioral_touch_face', 'doctor_recc_h1n1', 'doctor_recc_seasonal',\n",
              "       'chronic_med_condition', 'child_under_6_months', 'health_worker',\n",
              "       'health_insurance', 'opinion_h1n1_vacc_effective', 'opinion_h1n1_risk',\n",
              "       'opinion_h1n1_sick_from_vacc', 'opinion_seas_vacc_effective',\n",
              "       'opinion_seas_risk', 'opinion_seas_sick_from_vacc', 'age_group',\n",
              "       'education', 'race', 'sex', 'income_poverty', 'marital_status',\n",
              "       'rent_or_own', 'employment_status', 'hhs_geo_region', 'census_msa',\n",
              "       'household_adults', 'household_children', 'employment_industry',\n",
              "       'employment_occupation'],\n",
              "      dtype='object')"
            ]
          },
          "metadata": {
            "tags": []
          },
          "execution_count": 136
        }
      ]
    },
    {
      "cell_type": "code",
      "metadata": {
        "id": "K3OaTkmD3U9W",
        "colab_type": "code",
        "colab": {}
      },
      "source": [
        "#  Get dummy variables \n",
        "for column in train_feature.columns:\n",
        "  if train_feature[column].dtype == np.object:\n",
        "    dummy = pd.get_dummies(train_feature[column])\n",
        "    train_feature = pd.concat([train_feature, dummy], axis=1)\n",
        "    train_feature.drop(column, axis=1, inplace=True)\n"
      ],
      "execution_count": 0,
      "outputs": []
    },
    {
      "cell_type": "code",
      "metadata": {
        "id": "IP5LI5aN3XhW",
        "colab_type": "code",
        "outputId": "484f5bf2-ceb3-4db1-e7ed-20ba6b740b40",
        "colab": {
          "base_uri": "https://localhost:8080/",
          "height": 225
        }
      },
      "source": [
        "train_feature.dtypes"
      ],
      "execution_count": 138,
      "outputs": [
        {
          "output_type": "execute_result",
          "data": {
            "text/plain": [
              "age_group         int64\n",
              "education         int64\n",
              "race              int64\n",
              "sex               int64\n",
              "income_poverty    int64\n",
              "                  ...  \n",
              "0.0               uint8\n",
              "1.0               uint8\n",
              "2.0               uint8\n",
              "3.0               uint8\n",
              "0                 uint8\n",
              "Length: 106, dtype: object"
            ]
          },
          "metadata": {
            "tags": []
          },
          "execution_count": 138
        }
      ]
    },
    {
      "cell_type": "code",
      "metadata": {
        "id": "0uZXzYrY3kIt",
        "colab_type": "code",
        "outputId": "473393af-212c-476a-874f-1d03e21b77de",
        "colab": {
          "base_uri": "https://localhost:8080/",
          "height": 35
        }
      },
      "source": [
        "print(train_feature.shape, train_label.shape)"
      ],
      "execution_count": 139,
      "outputs": [
        {
          "output_type": "stream",
          "text": [
            "(26707, 106) (26707, 2)\n"
          ],
          "name": "stdout"
        }
      ]
    },
    {
      "cell_type": "code",
      "metadata": {
        "id": "2YSpd-k_3nb_",
        "colab_type": "code",
        "colab": {}
      },
      "source": [
        "X_train, X_test, y_train, y_test = train_test_split(train_feature, train_label, test_size = 0.3, random_state = 100)"
      ],
      "execution_count": 0,
      "outputs": []
    },
    {
      "cell_type": "code",
      "metadata": {
        "id": "3DO-85ug3p9j",
        "colab_type": "code",
        "outputId": "3a18e58c-b5f2-4062-a504-d6e82b4cc40c",
        "colab": {
          "base_uri": "https://localhost:8080/",
          "height": 87
        }
      },
      "source": [
        "print(len(y_train))\n",
        "print(len(X_train))\n",
        "print(X_train.shape)\n",
        "print(y_train.shape)"
      ],
      "execution_count": 141,
      "outputs": [
        {
          "output_type": "stream",
          "text": [
            "18694\n",
            "18694\n",
            "(18694, 106)\n",
            "(18694, 2)\n"
          ],
          "name": "stdout"
        }
      ]
    },
    {
      "cell_type": "code",
      "metadata": {
        "id": "uNo5R_Fr3su1",
        "colab_type": "code",
        "outputId": "36e3d982-e74d-4752-8588-45fe663abf82",
        "colab": {
          "base_uri": "https://localhost:8080/",
          "height": 52
        }
      },
      "source": [
        "print('Train: X=%s, y=%s' % (X_train.shape, y_train.shape))\n",
        "print('Test: X=%s, y=%s' % (X_test.shape, y_test.shape))"
      ],
      "execution_count": 142,
      "outputs": [
        {
          "output_type": "stream",
          "text": [
            "Train: X=(18694, 106), y=(18694, 2)\n",
            "Test: X=(8013, 106), y=(8013, 2)\n"
          ],
          "name": "stdout"
        }
      ]
    },
    {
      "cell_type": "code",
      "metadata": {
        "id": "hkqSBV6Q3x1m",
        "colab_type": "code",
        "outputId": "a54323c5-da5d-4137-dfc9-dad3f6bd19dc",
        "colab": {
          "base_uri": "https://localhost:8080/",
          "height": 1000
        }
      },
      "source": [
        "# logistic regression model\n",
        "lr_model = Sequential()\n",
        "lr_model.add(Dense(2, input_shape=(X_train.shape[1],), activation='sigmoid'))\n",
        "lr_model.compile(Adam(lr=0.01), loss='categorical_crossentropy', metrics=['accuracy'])\n",
        "lr_history = lr_model.fit(X_train, y_train, epochs=50, validation_data=(X_test, y_test))\n"
      ],
      "execution_count": 143,
      "outputs": [
        {
          "output_type": "stream",
          "text": [
            "Train on 18694 samples, validate on 8013 samples\n",
            "Epoch 1/50\n",
            "18694/18694 [==============================] - 1s 49us/step - loss: 0.3859 - accuracy: 0.3193 - val_loss: 0.3699 - val_accuracy: 0.3248\n",
            "Epoch 2/50\n",
            "18694/18694 [==============================] - 1s 44us/step - loss: 0.3776 - accuracy: 0.3318 - val_loss: 0.3750 - val_accuracy: 0.4154\n",
            "Epoch 3/50\n",
            "18694/18694 [==============================] - 1s 44us/step - loss: 0.3773 - accuracy: 0.3383 - val_loss: 0.3715 - val_accuracy: 0.3353\n",
            "Epoch 4/50\n",
            "18694/18694 [==============================] - 1s 45us/step - loss: 0.3759 - accuracy: 0.3332 - val_loss: 0.3709 - val_accuracy: 0.3247\n",
            "Epoch 5/50\n",
            "18694/18694 [==============================] - 1s 45us/step - loss: 0.3761 - accuracy: 0.3341 - val_loss: 0.3750 - val_accuracy: 0.3548\n",
            "Epoch 6/50\n",
            "18694/18694 [==============================] - 1s 45us/step - loss: 0.3760 - accuracy: 0.3293 - val_loss: 0.3711 - val_accuracy: 0.3005\n",
            "Epoch 7/50\n",
            "18694/18694 [==============================] - 1s 44us/step - loss: 0.3760 - accuracy: 0.3362 - val_loss: 0.3726 - val_accuracy: 0.3335\n",
            "Epoch 8/50\n",
            "18694/18694 [==============================] - 1s 44us/step - loss: 0.3757 - accuracy: 0.3366 - val_loss: 0.3707 - val_accuracy: 0.3129\n",
            "Epoch 9/50\n",
            "18694/18694 [==============================] - 1s 45us/step - loss: 0.3748 - accuracy: 0.3322 - val_loss: 0.3714 - val_accuracy: 0.3010\n",
            "Epoch 10/50\n",
            "18694/18694 [==============================] - 1s 45us/step - loss: 0.3755 - accuracy: 0.3281 - val_loss: 0.3725 - val_accuracy: 0.3442\n",
            "Epoch 11/50\n",
            "18694/18694 [==============================] - 1s 46us/step - loss: 0.3746 - accuracy: 0.3320 - val_loss: 0.3724 - val_accuracy: 0.2991\n",
            "Epoch 12/50\n",
            "18694/18694 [==============================] - 1s 44us/step - loss: 0.3757 - accuracy: 0.3295 - val_loss: 0.3744 - val_accuracy: 0.3225\n",
            "Epoch 13/50\n",
            "18694/18694 [==============================] - 1s 45us/step - loss: 0.3753 - accuracy: 0.3297 - val_loss: 0.3756 - val_accuracy: 0.3517\n",
            "Epoch 14/50\n",
            "18694/18694 [==============================] - 1s 44us/step - loss: 0.3755 - accuracy: 0.3320 - val_loss: 0.3743 - val_accuracy: 0.3212\n",
            "Epoch 15/50\n",
            "18694/18694 [==============================] - 1s 45us/step - loss: 0.3761 - accuracy: 0.3243 - val_loss: 0.3709 - val_accuracy: 0.3171\n",
            "Epoch 16/50\n",
            "18694/18694 [==============================] - 1s 46us/step - loss: 0.3754 - accuracy: 0.3289 - val_loss: 0.3785 - val_accuracy: 0.3155\n",
            "Epoch 17/50\n",
            "18694/18694 [==============================] - 1s 44us/step - loss: 0.3750 - accuracy: 0.3252 - val_loss: 0.3855 - val_accuracy: 0.4070\n",
            "Epoch 18/50\n",
            "18694/18694 [==============================] - 1s 44us/step - loss: 0.3757 - accuracy: 0.3276 - val_loss: 0.3718 - val_accuracy: 0.3184\n",
            "Epoch 19/50\n",
            "18694/18694 [==============================] - 1s 45us/step - loss: 0.3751 - accuracy: 0.3271 - val_loss: 0.3724 - val_accuracy: 0.3265\n",
            "Epoch 20/50\n",
            "18694/18694 [==============================] - 1s 44us/step - loss: 0.3752 - accuracy: 0.3265 - val_loss: 0.3748 - val_accuracy: 0.3293\n",
            "Epoch 21/50\n",
            "18694/18694 [==============================] - 1s 45us/step - loss: 0.3748 - accuracy: 0.3276 - val_loss: 0.3717 - val_accuracy: 0.3068\n",
            "Epoch 22/50\n",
            "18694/18694 [==============================] - 1s 44us/step - loss: 0.3752 - accuracy: 0.3259 - val_loss: 0.3718 - val_accuracy: 0.3126\n",
            "Epoch 23/50\n",
            "18694/18694 [==============================] - 1s 44us/step - loss: 0.3750 - accuracy: 0.3266 - val_loss: 0.3727 - val_accuracy: 0.3127\n",
            "Epoch 24/50\n",
            "18694/18694 [==============================] - 1s 45us/step - loss: 0.3759 - accuracy: 0.3246 - val_loss: 0.3775 - val_accuracy: 0.3250\n",
            "Epoch 25/50\n",
            "18694/18694 [==============================] - 1s 45us/step - loss: 0.3750 - accuracy: 0.3230 - val_loss: 0.3723 - val_accuracy: 0.3227\n",
            "Epoch 26/50\n",
            "18694/18694 [==============================] - 1s 49us/step - loss: 0.3745 - accuracy: 0.3258 - val_loss: 0.3722 - val_accuracy: 0.3122\n",
            "Epoch 27/50\n",
            "18694/18694 [==============================] - 1s 49us/step - loss: 0.3750 - accuracy: 0.3241 - val_loss: 0.3759 - val_accuracy: 0.3084\n",
            "Epoch 28/50\n",
            "18694/18694 [==============================] - 1s 49us/step - loss: 0.3743 - accuracy: 0.3250 - val_loss: 0.3737 - val_accuracy: 0.3237\n",
            "Epoch 29/50\n",
            "18694/18694 [==============================] - 1s 49us/step - loss: 0.3744 - accuracy: 0.3234 - val_loss: 0.3750 - val_accuracy: 0.3009\n",
            "Epoch 30/50\n",
            "18694/18694 [==============================] - 1s 48us/step - loss: 0.3752 - accuracy: 0.3199 - val_loss: 0.3796 - val_accuracy: 0.3150\n",
            "Epoch 31/50\n",
            "18694/18694 [==============================] - 1s 49us/step - loss: 0.3755 - accuracy: 0.3201 - val_loss: 0.3722 - val_accuracy: 0.3187\n",
            "Epoch 32/50\n",
            "18694/18694 [==============================] - 1s 44us/step - loss: 0.3742 - accuracy: 0.3205 - val_loss: 0.3776 - val_accuracy: 0.3281\n",
            "Epoch 33/50\n",
            "18694/18694 [==============================] - 1s 43us/step - loss: 0.3747 - accuracy: 0.3211 - val_loss: 0.3729 - val_accuracy: 0.3192\n",
            "Epoch 34/50\n",
            "18694/18694 [==============================] - 1s 45us/step - loss: 0.3748 - accuracy: 0.3214 - val_loss: 0.3722 - val_accuracy: 0.3167\n",
            "Epoch 35/50\n",
            "18694/18694 [==============================] - 1s 43us/step - loss: 0.3751 - accuracy: 0.3222 - val_loss: 0.3808 - val_accuracy: 0.3428\n",
            "Epoch 36/50\n",
            "18694/18694 [==============================] - 1s 44us/step - loss: 0.3746 - accuracy: 0.3223 - val_loss: 0.3734 - val_accuracy: 0.3224\n",
            "Epoch 37/50\n",
            "18694/18694 [==============================] - 1s 44us/step - loss: 0.3740 - accuracy: 0.3213 - val_loss: 0.3728 - val_accuracy: 0.3152\n",
            "Epoch 38/50\n",
            "18694/18694 [==============================] - 1s 44us/step - loss: 0.3750 - accuracy: 0.3205 - val_loss: 0.3755 - val_accuracy: 0.3227\n",
            "Epoch 39/50\n",
            "18694/18694 [==============================] - 1s 44us/step - loss: 0.3751 - accuracy: 0.3220 - val_loss: 0.3730 - val_accuracy: 0.3162\n",
            "Epoch 40/50\n",
            "18694/18694 [==============================] - 1s 44us/step - loss: 0.3746 - accuracy: 0.3198 - val_loss: 0.3739 - val_accuracy: 0.3051\n",
            "Epoch 41/50\n",
            "18694/18694 [==============================] - 1s 45us/step - loss: 0.3748 - accuracy: 0.3174 - val_loss: 0.3797 - val_accuracy: 0.3023\n",
            "Epoch 42/50\n",
            "18694/18694 [==============================] - 1s 44us/step - loss: 0.3752 - accuracy: 0.3183 - val_loss: 0.3750 - val_accuracy: 0.3209\n",
            "Epoch 43/50\n",
            "18694/18694 [==============================] - 1s 44us/step - loss: 0.3746 - accuracy: 0.3188 - val_loss: 0.3774 - val_accuracy: 0.3110\n",
            "Epoch 44/50\n",
            "18694/18694 [==============================] - 1s 44us/step - loss: 0.3747 - accuracy: 0.3224 - val_loss: 0.3728 - val_accuracy: 0.3046\n",
            "Epoch 45/50\n",
            "18694/18694 [==============================] - 1s 44us/step - loss: 0.3744 - accuracy: 0.3205 - val_loss: 0.3755 - val_accuracy: 0.3132\n",
            "Epoch 46/50\n",
            "18694/18694 [==============================] - 1s 45us/step - loss: 0.3751 - accuracy: 0.3184 - val_loss: 0.3773 - val_accuracy: 0.3140\n",
            "Epoch 47/50\n",
            "18694/18694 [==============================] - 1s 44us/step - loss: 0.3743 - accuracy: 0.3191 - val_loss: 0.3728 - val_accuracy: 0.3101\n",
            "Epoch 48/50\n",
            "18694/18694 [==============================] - 1s 44us/step - loss: 0.3742 - accuracy: 0.3182 - val_loss: 0.3734 - val_accuracy: 0.3050\n",
            "Epoch 49/50\n",
            "18694/18694 [==============================] - 1s 44us/step - loss: 0.3740 - accuracy: 0.3172 - val_loss: 0.3752 - val_accuracy: 0.3187\n",
            "Epoch 50/50\n",
            "18694/18694 [==============================] - 1s 44us/step - loss: 0.3742 - accuracy: 0.3179 - val_loss: 0.3786 - val_accuracy: 0.3125\n"
          ],
          "name": "stdout"
        }
      ]
    },
    {
      "cell_type": "code",
      "metadata": {
        "id": "21rU1RM54hWE",
        "colab_type": "code",
        "outputId": "3f463a01-a02b-4ace-a9f0-302e4dc56f47",
        "colab": {
          "base_uri": "https://localhost:8080/",
          "height": 52
        }
      },
      "source": [
        "prediction = lr_model.predict(X_test)\n",
        "print(\"Prediction is \"); roc_auc_score(y_test, prediction)"
      ],
      "execution_count": 144,
      "outputs": [
        {
          "output_type": "stream",
          "text": [
            "Prediction is \n"
          ],
          "name": "stdout"
        },
        {
          "output_type": "execute_result",
          "data": {
            "text/plain": [
              "0.739588431293214"
            ]
          },
          "metadata": {
            "tags": []
          },
          "execution_count": 144
        }
      ]
    },
    {
      "cell_type": "code",
      "metadata": {
        "id": "6f-vlxo94SA3",
        "colab_type": "code",
        "outputId": "3d1313c5-887a-4723-c7bd-547453202161",
        "colab": {
          "base_uri": "https://localhost:8080/",
          "height": 575
        }
      },
      "source": [
        "plt.plot(lr_history.history['loss'])\n",
        "plt.plot(lr_history.history['val_loss'])\n",
        "plt.title('Model loss')\n",
        "plt.ylabel('loss')\n",
        "plt.xlabel('val_loss')\n",
        "plt.legend(['loss', 'val_loss'], loc='upper right')\n",
        "plt.show()\n",
        "\n",
        "plt.plot(lr_history.history['accuracy'])\n",
        "plt.plot(lr_history.history['val_accuracy'])\n",
        "plt.title('Model accuracy')\n",
        "plt.ylabel('accuracy')\n",
        "plt.xlabel('val_accuracy')\n",
        "plt.legend(['accuracy', 'val_accuracy'], loc='lower right')\n",
        "plt.show()"
      ],
      "execution_count": 145,
      "outputs": [
        {
          "output_type": "display_data",
          "data": {
            "image/png": "[encoded data removed]",
            "text/plain": [
              "<Figure size 432x288 with 1 Axes>"
            ]
          },
          "metadata": {
            "tags": [],
            "needs_background": "light"
          }
        },
        {
          "output_type": "display_data",
          "data": {
            "image/png": "[encoded data removed]",
            "text/plain": [
              "<Figure size 432x288 with 1 Axes>"
            ]
          },
          "metadata": {
            "tags": [],
            "needs_background": "light"
          }
        }
      ]
    },
    {
      "cell_type": "code",
      "metadata": {
        "id": "Rnw9WYQA94pg",
        "colab_type": "code",
        "outputId": "388851c4-3731-427f-a6fb-21f1f665f65b",
        "colab": {
          "base_uri": "https://localhost:8080/",
          "height": 52
        }
      },
      "source": [
        "# decision tree\n",
        "\n",
        "dec_tree = DecisionTreeClassifier(criterion='entropy', max_depth = 10).fit(X_train, y_train)\n",
        "dec_tree_pred = dec_tree.predict(X_test)\n",
        "print(\"Decision tree prediction is\"); roc_auc_score(y_test, dec_tree_pred)"
      ],
      "execution_count": 146,
      "outputs": [
        {
          "output_type": "stream",
          "text": [
            "Decision tree prediction is\n"
          ],
          "name": "stdout"
        },
        {
          "output_type": "execute_result",
          "data": {
            "text/plain": [
              "0.7227813991602156"
            ]
          },
          "metadata": {
            "tags": []
          },
          "execution_count": 146
        }
      ]
    },
    {
      "cell_type": "code",
      "metadata": {
        "id": "r9IVjmTg_Bbd",
        "colab_type": "code",
        "outputId": "992415d7-06bd-4687-b1e0-853bcb4cb209",
        "colab": {
          "base_uri": "https://localhost:8080/",
          "height": 52
        }
      },
      "source": [
        "# random forest\n",
        "\n",
        "ran_for = RandomForestClassifier(criterion='entropy', max_depth = 30).fit(X_train, y_train)\n",
        "ran_for_pred = ran_for.predict(X_test)\n",
        "print(\"Random forest prediction is\"); roc_auc_score(y_test, ran_for_pred)"
      ],
      "execution_count": 147,
      "outputs": [
        {
          "output_type": "stream",
          "text": [
            "Random forest prediction is\n"
          ],
          "name": "stdout"
        },
        {
          "output_type": "execute_result",
          "data": {
            "text/plain": [
              "0.738243049694612"
            ]
          },
          "metadata": {
            "tags": []
          },
          "execution_count": 147
        }
      ]
    },
    {
      "cell_type": "code",
      "metadata": {
        "id": "iVMgnr_i_5JW",
        "colab_type": "code",
        "outputId": "6c0468d3-8ed5-49a4-ad17-3b54dbd7c902",
        "colab": {
          "base_uri": "https://localhost:8080/",
          "height": 1000
        }
      },
      "source": [
        "# deep neural network\n",
        "\n",
        "model = Sequential()\n",
        "model.add(Dense(64, input_shape=(X_train.shape[1],), activation='relu'))\n",
        "model.add(Dense(32, input_shape=(X_train.shape[1],), activation='relu'))\n",
        "model.add(Dense(20, activation='relu'))\n",
        "model.add(Dense(10,activation = 'relu'))\n",
        "model.add(Dense(2, activation='softmax'))\n",
        "model.compile(Adam(lr=0.01), loss='binary_crossentropy', metrics=['accuracy'])\n",
        "deep_history = model.fit(X_train, y_train, epochs=50,  validation_data=(X_test, y_test))"
      ],
      "execution_count": 148,
      "outputs": [
        {
          "output_type": "stream",
          "text": [
            "Train on 18694 samples, validate on 8013 samples\n",
            "Epoch 1/50\n",
            "18694/18694 [==============================] - 1s 67us/step - loss: 0.6356 - accuracy: 0.6264 - val_loss: 0.6394 - val_accuracy: 0.6257\n",
            "Epoch 2/50\n",
            "18694/18694 [==============================] - 1s 57us/step - loss: 0.6253 - accuracy: 0.6310 - val_loss: 0.6231 - val_accuracy: 0.6325\n",
            "Epoch 3/50\n",
            "18694/18694 [==============================] - 1s 57us/step - loss: 0.6222 - accuracy: 0.6326 - val_loss: 0.6234 - val_accuracy: 0.6351\n",
            "Epoch 4/50\n",
            "18694/18694 [==============================] - 1s 57us/step - loss: 0.6220 - accuracy: 0.6316 - val_loss: 0.6252 - val_accuracy: 0.6335\n",
            "Epoch 5/50\n",
            "18694/18694 [==============================] - 1s 57us/step - loss: 0.6205 - accuracy: 0.6335 - val_loss: 0.6221 - val_accuracy: 0.6316\n",
            "Epoch 6/50\n",
            "18694/18694 [==============================] - 1s 56us/step - loss: 0.6197 - accuracy: 0.6329 - val_loss: 0.6246 - val_accuracy: 0.6304\n",
            "Epoch 7/50\n",
            "18694/18694 [==============================] - 1s 57us/step - loss: 0.6179 - accuracy: 0.6327 - val_loss: 0.6273 - val_accuracy: 0.6345\n",
            "Epoch 8/50\n",
            "18694/18694 [==============================] - 1s 57us/step - loss: 0.6187 - accuracy: 0.6306 - val_loss: 0.6275 - val_accuracy: 0.6257\n",
            "Epoch 9/50\n",
            "18694/18694 [==============================] - 1s 57us/step - loss: 0.6185 - accuracy: 0.6312 - val_loss: 0.6246 - val_accuracy: 0.6323\n",
            "Epoch 10/50\n",
            "18694/18694 [==============================] - 1s 56us/step - loss: 0.6180 - accuracy: 0.6324 - val_loss: 0.6237 - val_accuracy: 0.6340\n",
            "Epoch 11/50\n",
            "18694/18694 [==============================] - 1s 56us/step - loss: 0.6171 - accuracy: 0.6322 - val_loss: 0.6262 - val_accuracy: 0.6317\n",
            "Epoch 12/50\n",
            "18694/18694 [==============================] - 1s 56us/step - loss: 0.6159 - accuracy: 0.6331 - val_loss: 0.6242 - val_accuracy: 0.6315\n",
            "Epoch 13/50\n",
            "18694/18694 [==============================] - 1s 56us/step - loss: 0.6148 - accuracy: 0.6345 - val_loss: 0.6262 - val_accuracy: 0.6322\n",
            "Epoch 14/50\n",
            "18694/18694 [==============================] - 1s 56us/step - loss: 0.6143 - accuracy: 0.6341 - val_loss: 0.6297 - val_accuracy: 0.6277\n",
            "Epoch 15/50\n",
            "18694/18694 [==============================] - 1s 56us/step - loss: 0.6139 - accuracy: 0.6336 - val_loss: 0.6286 - val_accuracy: 0.6311\n",
            "Epoch 16/50\n",
            "18694/18694 [==============================] - 1s 56us/step - loss: 0.6128 - accuracy: 0.6342 - val_loss: 0.6253 - val_accuracy: 0.6302\n",
            "Epoch 17/50\n",
            "18694/18694 [==============================] - 1s 56us/step - loss: 0.6116 - accuracy: 0.6344 - val_loss: 0.6349 - val_accuracy: 0.6321\n",
            "Epoch 18/50\n",
            "18694/18694 [==============================] - 1s 57us/step - loss: 0.6108 - accuracy: 0.6354 - val_loss: 0.6273 - val_accuracy: 0.6332\n",
            "Epoch 19/50\n",
            "18694/18694 [==============================] - 1s 62us/step - loss: 0.6099 - accuracy: 0.6344 - val_loss: 0.6269 - val_accuracy: 0.6347\n",
            "Epoch 20/50\n",
            "18694/18694 [==============================] - 1s 61us/step - loss: 0.6097 - accuracy: 0.6342 - val_loss: 0.6293 - val_accuracy: 0.6311\n",
            "Epoch 21/50\n",
            "18694/18694 [==============================] - 1s 61us/step - loss: 0.6089 - accuracy: 0.6337 - val_loss: 0.6311 - val_accuracy: 0.6320\n",
            "Epoch 22/50\n",
            "18694/18694 [==============================] - 1s 62us/step - loss: 0.6079 - accuracy: 0.6342 - val_loss: 0.6358 - val_accuracy: 0.6310\n",
            "Epoch 23/50\n",
            "18694/18694 [==============================] - 1s 61us/step - loss: 0.6073 - accuracy: 0.6339 - val_loss: 0.6460 - val_accuracy: 0.6327\n",
            "Epoch 24/50\n",
            "18694/18694 [==============================] - 1s 61us/step - loss: 0.6063 - accuracy: 0.6331 - val_loss: 0.6350 - val_accuracy: 0.6320\n",
            "Epoch 25/50\n",
            "18694/18694 [==============================] - 1s 61us/step - loss: 0.6050 - accuracy: 0.6333 - val_loss: 0.6338 - val_accuracy: 0.6291\n",
            "Epoch 26/50\n",
            "18694/18694 [==============================] - 1s 61us/step - loss: 0.6047 - accuracy: 0.6350 - val_loss: 0.6348 - val_accuracy: 0.6304\n",
            "Epoch 27/50\n",
            "18694/18694 [==============================] - 1s 60us/step - loss: 0.6028 - accuracy: 0.6362 - val_loss: 0.6507 - val_accuracy: 0.6310\n",
            "Epoch 28/50\n",
            "18694/18694 [==============================] - 1s 59us/step - loss: 0.6034 - accuracy: 0.6328 - val_loss: 0.6419 - val_accuracy: 0.6106\n",
            "Epoch 29/50\n",
            "18694/18694 [==============================] - 1s 56us/step - loss: 0.6024 - accuracy: 0.6338 - val_loss: 0.6402 - val_accuracy: 0.6322\n",
            "Epoch 30/50\n",
            "18694/18694 [==============================] - 1s 57us/step - loss: 0.6010 - accuracy: 0.6343 - val_loss: 0.6409 - val_accuracy: 0.6321\n",
            "Epoch 31/50\n",
            "18694/18694 [==============================] - 1s 56us/step - loss: 0.6018 - accuracy: 0.6327 - val_loss: 0.6394 - val_accuracy: 0.6310\n",
            "Epoch 32/50\n",
            "18694/18694 [==============================] - 1s 59us/step - loss: 0.6008 - accuracy: 0.6339 - val_loss: 0.6445 - val_accuracy: 0.6312\n",
            "Epoch 33/50\n",
            "18694/18694 [==============================] - 1s 58us/step - loss: 0.5992 - accuracy: 0.6346 - val_loss: 0.6459 - val_accuracy: 0.6323\n",
            "Epoch 34/50\n",
            "18694/18694 [==============================] - 1s 57us/step - loss: 0.5982 - accuracy: 0.6343 - val_loss: 0.6473 - val_accuracy: 0.6201\n",
            "Epoch 35/50\n",
            "18694/18694 [==============================] - 1s 57us/step - loss: 0.5981 - accuracy: 0.6340 - val_loss: 0.6489 - val_accuracy: 0.6320\n",
            "Epoch 36/50\n",
            "18694/18694 [==============================] - 1s 56us/step - loss: 0.5979 - accuracy: 0.6353 - val_loss: 0.6544 - val_accuracy: 0.6315\n",
            "Epoch 37/50\n",
            "18694/18694 [==============================] - 1s 56us/step - loss: 0.5975 - accuracy: 0.6326 - val_loss: 0.6453 - val_accuracy: 0.6315\n",
            "Epoch 38/50\n",
            "18694/18694 [==============================] - 1s 58us/step - loss: 0.5978 - accuracy: 0.6346 - val_loss: 0.6523 - val_accuracy: 0.6299\n",
            "Epoch 39/50\n",
            "18694/18694 [==============================] - 1s 58us/step - loss: 0.5967 - accuracy: 0.6346 - val_loss: 0.6633 - val_accuracy: 0.6302\n",
            "Epoch 40/50\n",
            "18694/18694 [==============================] - 1s 57us/step - loss: 0.5955 - accuracy: 0.6342 - val_loss: 0.6588 - val_accuracy: 0.6025\n",
            "Epoch 41/50\n",
            "18694/18694 [==============================] - 1s 56us/step - loss: 0.5944 - accuracy: 0.6349 - val_loss: 0.6549 - val_accuracy: 0.6310\n",
            "Epoch 42/50\n",
            "18694/18694 [==============================] - 1s 57us/step - loss: 0.5945 - accuracy: 0.6316 - val_loss: 0.6623 - val_accuracy: 0.6305\n",
            "Epoch 43/50\n",
            "18694/18694 [==============================] - 1s 56us/step - loss: 0.5942 - accuracy: 0.6329 - val_loss: 0.6525 - val_accuracy: 0.6296\n",
            "Epoch 44/50\n",
            "18694/18694 [==============================] - 1s 56us/step - loss: 0.5943 - accuracy: 0.6334 - val_loss: 0.6633 - val_accuracy: 0.6304\n",
            "Epoch 45/50\n",
            "18694/18694 [==============================] - 1s 57us/step - loss: 0.5936 - accuracy: 0.6346 - val_loss: 0.6636 - val_accuracy: 0.6320\n",
            "Epoch 46/50\n",
            "18694/18694 [==============================] - 1s 56us/step - loss: 0.5929 - accuracy: 0.6336 - val_loss: 0.6514 - val_accuracy: 0.6318\n",
            "Epoch 47/50\n",
            "18694/18694 [==============================] - 1s 56us/step - loss: 0.5927 - accuracy: 0.6345 - val_loss: 0.6602 - val_accuracy: 0.6320\n",
            "Epoch 48/50\n",
            "18694/18694 [==============================] - 1s 57us/step - loss: 0.5935 - accuracy: 0.6347 - val_loss: 0.6452 - val_accuracy: 0.6146\n",
            "Epoch 49/50\n",
            "18694/18694 [==============================] - 1s 56us/step - loss: 0.5922 - accuracy: 0.6337 - val_loss: 0.6689 - val_accuracy: 0.6304\n",
            "Epoch 50/50\n",
            "18694/18694 [==============================] - 1s 56us/step - loss: 0.5921 - accuracy: 0.6344 - val_loss: 0.6620 - val_accuracy: 0.6322\n"
          ],
          "name": "stdout"
        }
      ]
    },
    {
      "cell_type": "code",
      "metadata": {
        "id": "LosEtRAYAniH",
        "colab_type": "code",
        "outputId": "b836baa9-2c3b-4084-c812-3a15fe4e7db0",
        "colab": {
          "base_uri": "https://localhost:8080/",
          "height": 52
        }
      },
      "source": [
        "deep_model_pred = model.predict(X_test)\n",
        "print(\"Deep Neural Model Prediction is\"); roc_auc_score(y_test, deep_model_pred)"
      ],
      "execution_count": 149,
      "outputs": [
        {
          "output_type": "stream",
          "text": [
            "Deep Neural Model Prediction is\n"
          ],
          "name": "stdout"
        },
        {
          "output_type": "execute_result",
          "data": {
            "text/plain": [
              "0.637586778848911"
            ]
          },
          "metadata": {
            "tags": []
          },
          "execution_count": 149
        }
      ]
    },
    {
      "cell_type": "code",
      "metadata": {
        "id": "PLUR7Cd1Ad54",
        "colab_type": "code",
        "outputId": "b5e72f55-7949-46a7-f4e8-b5e257802e7d",
        "colab": {
          "base_uri": "https://localhost:8080/",
          "height": 575
        }
      },
      "source": [
        "plt.plot(deep_history.history['loss'])\n",
        "plt.plot(deep_history.history['val_loss'])\n",
        "plt.title('Model loss')\n",
        "plt.ylabel('loss')\n",
        "plt.xlabel('val_loss')\n",
        "plt.legend(['loss', 'val_loss'], loc='upper left')\n",
        "plt.show()\n",
        "\n",
        "plt.plot(deep_history.history['accuracy'])\n",
        "plt.plot(deep_history.history['val_accuracy'])\n",
        "plt.title('Model accuracy')\n",
        "plt.ylabel('accuracy')\n",
        "plt.xlabel('val_accuracy')\n",
        "plt.legend(['accuracy', 'val_accuracy'], loc='lower right')\n",
        "plt.show()"
      ],
      "execution_count": 150,
      "outputs": [
        {
          "output_type": "display_data",
          "data": {
            "image/png": "[encoded data removed]",
            "text/plain": [
              "<Figure size 432x288 with 1 Axes>"
            ]
          },
          "metadata": {
            "tags": [],
            "needs_background": "light"
          }
        },
        {
          "output_type": "display_data",
          "data": {
            "image/png": "[encoded data removed]",
            "text/plain": [
              "<Figure size 432x288 with 1 Axes>"
            ]
          },
          "metadata": {
            "tags": [],
            "needs_background": "light"
          }
        }
      ]
    },
    {
      "cell_type": "code",
      "metadata": {
        "id": "8q-AFd-oRLNc",
        "colab_type": "code",
        "colab": {}
      },
      "source": [
        "data_dum = pd.merge(train_feature, train_label,left_index=True, right_index=True)\n",
        "res = data_dum[[\"h1n1_vaccine\",\"seasonal_vaccine\"]]\n",
        "res.to_csv('nan.csv', index=True)\n"
      ],
      "execution_count": 0,
      "outputs": []
    }
  ]
}