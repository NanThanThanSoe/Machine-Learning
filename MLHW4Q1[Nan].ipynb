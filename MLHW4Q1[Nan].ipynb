{
  "nbformat": 4,
  "nbformat_minor": 0,
  "metadata": {
    "colab": {
      "name": "MLHW4Q1[Nan].ipynb",
      "provenance": [],
      "collapsed_sections": []
    },
    "kernelspec": {
      "name": "python3",
      "display_name": "Python 3"
    }
  },
  "cells": [
    {
      "cell_type": "markdown",
      "metadata": {
        "id": "t6iW4HVwv1du",
        "colab_type": "text"
      },
      "source": [
        "Question 1 [7 points]\n",
        "\n",
        "Develop NLP models for sentiment analysis (predicting whether a sentence is positive or negative meaning) using the following dataset. You should develop at least two models (tokenizer/word embedding) using RNN/LSTM/GRU/BERT/etc and compare their performance.\n",
        "- Use the IMDB movie review dataset to train the models.\n",
        "- Test the model performances using a part of the IMDB review dataset\n",
        "- Test the model performances using a part of the amazon review dataset\n",
        "- IMDB review Dataset: https://www.kaggle.com/jcblaise/imdb-sentiments\n",
        "- Amazon review Dataset: http://jmcauley.ucsd.edu/data/amazon/"
      ]
    },
    {
      "cell_type": "code",
      "metadata": {
        "id": "H6FDaRTMv06P",
        "colab_type": "code",
        "colab": {
          "base_uri": "https://localhost:8080/",
          "height": 89
        },
        "outputId": "8b175804-bb9b-4471-fa76-f7a4df22df41"
      },
      "source": [
        "import numpy as np\n",
        "import pandas as pd\n",
        "import matplotlib.pyplot as plt\n",
        "import seaborn as sns\n",
        "import nltk \n",
        "import re\n",
        "from keras.models import Sequential\n",
        "from keras.layers import Dense, Embedding, Dropout, Conv1D\n",
        "from keras.layers import LSTM\n",
        "from sklearn.feature_extraction.text import CountVectorizer\n",
        "from sklearn.linear_model import LogisticRegression\n",
        "from sklearn.metrics import accuracy_score\n",
        "from sklearn.model_selection import train_test_split\n",
        "from sklearn.metrics import roc_curve, roc_auc_score"
      ],
      "execution_count": 1,
      "outputs": [
        {
          "output_type": "stream",
          "text": [
            "/usr/local/lib/python3.6/dist-packages/statsmodels/tools/_testing.py:19: FutureWarning: pandas.util.testing is deprecated. Use the functions in the public API at pandas.testing instead.\n",
            "  import pandas.util.testing as tm\n",
            "Using TensorFlow backend.\n"
          ],
          "name": "stderr"
        }
      ]
    },
    {
      "cell_type": "code",
      "metadata": {
        "id": "zU2E7Mqfv6rz",
        "colab_type": "code",
        "colab": {}
      },
      "source": [
        "test = pd.read_csv(\"/content/drive/My Drive/imdb-sentiments/test.csv\")\n",
        "train = pd.read_csv(\"/content/drive/My Drive/imdb-sentiments/train.csv\")"
      ],
      "execution_count": 0,
      "outputs": []
    },
    {
      "cell_type": "code",
      "metadata": {
        "id": "V55S8WPnv8kK",
        "colab_type": "code",
        "colab": {
          "base_uri": "https://localhost:8080/",
          "height": 202
        },
        "outputId": "fb942377-217f-4191-d079-e92137af5972"
      },
      "source": [
        "train.head()"
      ],
      "execution_count": 3,
      "outputs": [
        {
          "output_type": "execute_result",
          "data": {
            "text/html": [
              "<div>\n",
              "<style scoped>\n",
              "    .dataframe tbody tr th:only-of-type {\n",
              "        vertical-align: middle;\n",
              "    }\n",
              "\n",
              "    .dataframe tbody tr th {\n",
              "        vertical-align: top;\n",
              "    }\n",
              "\n",
              "    .dataframe thead th {\n",
              "        text-align: right;\n",
              "    }\n",
              "</style>\n",
              "<table border=\"1\" class=\"dataframe\">\n",
              "  <thead>\n",
              "    <tr style=\"text-align: right;\">\n",
              "      <th></th>\n",
              "      <th>text</th>\n",
              "      <th>sentiment</th>\n",
              "    </tr>\n",
              "  </thead>\n",
              "  <tbody>\n",
              "    <tr>\n",
              "      <th>0</th>\n",
              "      <td>For a movie that gets no respect there sure ar...</td>\n",
              "      <td>0</td>\n",
              "    </tr>\n",
              "    <tr>\n",
              "      <th>1</th>\n",
              "      <td>Bizarre horror movie filled with famous faces ...</td>\n",
              "      <td>0</td>\n",
              "    </tr>\n",
              "    <tr>\n",
              "      <th>2</th>\n",
              "      <td>A solid, if unremarkable film. Matthau, as Ein...</td>\n",
              "      <td>0</td>\n",
              "    </tr>\n",
              "    <tr>\n",
              "      <th>3</th>\n",
              "      <td>It's a strange feeling to sit alone in a theat...</td>\n",
              "      <td>0</td>\n",
              "    </tr>\n",
              "    <tr>\n",
              "      <th>4</th>\n",
              "      <td>You probably all already know this by now, but...</td>\n",
              "      <td>0</td>\n",
              "    </tr>\n",
              "  </tbody>\n",
              "</table>\n",
              "</div>"
            ],
            "text/plain": [
              "                                                text  sentiment\n",
              "0  For a movie that gets no respect there sure ar...          0\n",
              "1  Bizarre horror movie filled with famous faces ...          0\n",
              "2  A solid, if unremarkable film. Matthau, as Ein...          0\n",
              "3  It's a strange feeling to sit alone in a theat...          0\n",
              "4  You probably all already know this by now, but...          0"
            ]
          },
          "metadata": {
            "tags": []
          },
          "execution_count": 3
        }
      ]
    },
    {
      "cell_type": "code",
      "metadata": {
        "id": "hAt1BCHBv-VK",
        "colab_type": "code",
        "colab": {
          "base_uri": "https://localhost:8080/",
          "height": 202
        },
        "outputId": "2172efa5-5115-4d7f-e632-9a643d72e92b"
      },
      "source": [
        "test.head()"
      ],
      "execution_count": 4,
      "outputs": [
        {
          "output_type": "execute_result",
          "data": {
            "text/html": [
              "<div>\n",
              "<style scoped>\n",
              "    .dataframe tbody tr th:only-of-type {\n",
              "        vertical-align: middle;\n",
              "    }\n",
              "\n",
              "    .dataframe tbody tr th {\n",
              "        vertical-align: top;\n",
              "    }\n",
              "\n",
              "    .dataframe thead th {\n",
              "        text-align: right;\n",
              "    }\n",
              "</style>\n",
              "<table border=\"1\" class=\"dataframe\">\n",
              "  <thead>\n",
              "    <tr style=\"text-align: right;\">\n",
              "      <th></th>\n",
              "      <th>text</th>\n",
              "    </tr>\n",
              "  </thead>\n",
              "  <tbody>\n",
              "    <tr>\n",
              "      <th>0</th>\n",
              "      <td>This movie was horrible. If it had never been ...</td>\n",
              "    </tr>\n",
              "    <tr>\n",
              "      <th>1</th>\n",
              "      <td>The director infuses this film with false dept...</td>\n",
              "    </tr>\n",
              "    <tr>\n",
              "      <th>2</th>\n",
              "      <td>I don't get it! The teenage leads in \"Horror S...</td>\n",
              "    </tr>\n",
              "    <tr>\n",
              "      <th>3</th>\n",
              "      <td>This is the fifth part of 'The Animatrix', a c...</td>\n",
              "    </tr>\n",
              "    <tr>\n",
              "      <th>4</th>\n",
              "      <td>I was very impressed with with this film which...</td>\n",
              "    </tr>\n",
              "  </tbody>\n",
              "</table>\n",
              "</div>"
            ],
            "text/plain": [
              "                                                text\n",
              "0  This movie was horrible. If it had never been ...\n",
              "1  The director infuses this film with false dept...\n",
              "2  I don't get it! The teenage leads in \"Horror S...\n",
              "3  This is the fifth part of 'The Animatrix', a c...\n",
              "4  I was very impressed with with this film which..."
            ]
          },
          "metadata": {
            "tags": []
          },
          "execution_count": 4
        }
      ]
    },
    {
      "cell_type": "code",
      "metadata": {
        "id": "GiNibyCa38ao",
        "colab_type": "code",
        "colab": {
          "base_uri": "https://localhost:8080/",
          "height": 52
        },
        "outputId": "24cfa7e0-b9f3-495c-9862-f6685d2a2fca"
      },
      "source": [
        "print(train.shape)\n",
        "print(test.shape)"
      ],
      "execution_count": 5,
      "outputs": [
        {
          "output_type": "stream",
          "text": [
            "(25000, 2)\n",
            "(11001, 1)\n"
          ],
          "name": "stdout"
        }
      ]
    },
    {
      "cell_type": "code",
      "metadata": {
        "id": "bopO9cIiwANt",
        "colab_type": "code",
        "colab": {
          "base_uri": "https://localhost:8080/",
          "height": 55
        },
        "outputId": "701516dc-edab-44da-89b0-d14f90ded48b"
      },
      "source": [
        "train.loc[0]['text']"
      ],
      "execution_count": 6,
      "outputs": [
        {
          "output_type": "execute_result",
          "data": {
            "text/plain": [
              "'For a movie that gets no respect there sure are a lot of memorable quotes listed for this gem. Imagine a movie where Joe Piscopo is actually funny! Maureen Stapleton is a scene stealer. The Moroni character is an absolute scream. Watch for Alan \"The Skipper\" Hale jr. as a police Sgt.'"
            ]
          },
          "metadata": {
            "tags": []
          },
          "execution_count": 6
        }
      ]
    },
    {
      "cell_type": "code",
      "metadata": {
        "id": "JDAw__LKwB-p",
        "colab_type": "code",
        "colab": {
          "base_uri": "https://localhost:8080/",
          "height": 55
        },
        "outputId": "cf41bd66-9d24-4841-d00b-d5e3a521d601"
      },
      "source": [
        "test.loc[0]['text']"
      ],
      "execution_count": 7,
      "outputs": [
        {
          "output_type": "execute_result",
          "data": {
            "text/plain": [
              "\"This movie was horrible. If it had never been made the world would be a better place. Come on, a flying wagon? What were they thinking? This was a sub-par movie with a horrible hook, and I would like a written apology from the studio that produced this, along with some cookies to help repay me for the time I wasted on this crap fest that I can never get back. If you payed to see this movie, I am truly sorry because I watched it on TV on a Sunday afternoon when I had nothing better to do and it pretty much ruined my whole week. A flying freaking WAGON?!?! And that's supposed to make up for having a horrible mother who cares more about her own screwed up needs than her children? No wonder they don't have enough sense to tell someone he is beating them, their mother teaches them nothing but that what she wants comes before everything else. Absolutely horrible.\""
            ]
          },
          "metadata": {
            "tags": []
          },
          "execution_count": 7
        }
      ]
    },
    {
      "cell_type": "code",
      "metadata": {
        "id": "FD6dPQen4ixL",
        "colab_type": "code",
        "colab": {}
      },
      "source": [
        "REPLACE_NO_SPACE = re.compile(\"[.;:!\\'?,\\\"()\\[\\]]\")\n",
        "REPLACE_WITH_SPACE = re.compile(\"(<br\\s*/><br\\s*/>)|(\\-)|(\\/)\")\n",
        "\n",
        "def preprocess_reviews(reviews):\n",
        "    reviews = [REPLACE_NO_SPACE.sub(\"\", line.lower()) for line in train]\n",
        "    reviews = [REPLACE_WITH_SPACE.sub(\" \", line) for line in train]\n",
        "    \n",
        "    return reviews\n",
        "\n",
        "train_clean = preprocess_reviews(train)\n",
        "test_clean = preprocess_reviews(test)"
      ],
      "execution_count": 0,
      "outputs": []
    },
    {
      "cell_type": "code",
      "metadata": {
        "id": "3aRzuDtk9NpS",
        "colab_type": "code",
        "colab": {}
      },
      "source": [
        "from keras.preprocessing.text import Tokenizer\n",
        "from keras.preprocessing.sequence import pad_sequences\n",
        "maxlen = 80\n",
        "tk = Tokenizer()\n",
        "tk.fit_on_texts(train_clean)\n",
        "index_list = tk.texts_to_sequences(train_clean)\n",
        "train_clean = pad_sequences(index_list, maxlen=maxlen)\n",
        "\n",
        "tk.fit_on_texts(test_clean)\n",
        "index_listt = tk.texts_to_sequences(test_clean)\n",
        "test_clean = pad_sequences(index_listt, maxlen=maxlen)"
      ],
      "execution_count": 0,
      "outputs": []
    },
    {
      "cell_type": "code",
      "metadata": {
        "id": "JjNM4-ST58Rm",
        "colab_type": "code",
        "colab": {}
      },
      "source": [
        "X_train, X_test, y_train, y_test = train_test_split(train_clean, test_clean, test_size=0.2, random_state=0)"
      ],
      "execution_count": 0,
      "outputs": []
    },
    {
      "cell_type": "code",
      "metadata": {
        "id": "GhzKk_jm7fde",
        "colab_type": "code",
        "colab": {
          "base_uri": "https://localhost:8080/",
          "height": 329
        },
        "outputId": "b5eaf4ca-a45c-4179-e615-799d250f7f59"
      },
      "source": [
        "# first model\n",
        "model = Sequential()\n",
        "\n",
        "model.add(Dense(64, input_dim=80, activation='relu'))\n",
        "model.add(Dense(32, activation='relu'))\n",
        "model.add(Dense(16, activation='relu'))\n",
        "model.add(Dense(100, activation='sigmoid'))\n",
        "model.add(Dense(80, activation='softmax'))\n",
        "\n",
        "\n",
        "model.summary()"
      ],
      "execution_count": 11,
      "outputs": [
        {
          "output_type": "stream",
          "text": [
            "Model: \"sequential_1\"\n",
            "_________________________________________________________________\n",
            "Layer (type)                 Output Shape              Param #   \n",
            "=================================================================\n",
            "dense_1 (Dense)              (None, 64)                5184      \n",
            "_________________________________________________________________\n",
            "dense_2 (Dense)              (None, 32)                2080      \n",
            "_________________________________________________________________\n",
            "dense_3 (Dense)              (None, 16)                528       \n",
            "_________________________________________________________________\n",
            "dense_4 (Dense)              (None, 100)               1700      \n",
            "_________________________________________________________________\n",
            "dense_5 (Dense)              (None, 80)                8080      \n",
            "=================================================================\n",
            "Total params: 17,572\n",
            "Trainable params: 17,572\n",
            "Non-trainable params: 0\n",
            "_________________________________________________________________\n"
          ],
          "name": "stdout"
        }
      ]
    },
    {
      "cell_type": "code",
      "metadata": {
        "id": "bdlF5Hls73Pb",
        "colab_type": "code",
        "colab": {}
      },
      "source": [
        "model.compile(loss='mean_squared_error',optimizer='adam',metrics=['accuracy'])"
      ],
      "execution_count": 0,
      "outputs": []
    },
    {
      "cell_type": "code",
      "metadata": {
        "id": "ZzH3f9YZ76Rb",
        "colab_type": "code",
        "colab": {
          "base_uri": "https://localhost:8080/",
          "height": 1000
        },
        "outputId": "dd9a1a0b-5d66-4038-fc8c-9b7434654960"
      },
      "source": [
        "history = model.fit(X_train, y_train,batch_size=10,epochs=50,validation_data=(X_test, y_test))"
      ],
      "execution_count": 13,
      "outputs": [
        {
          "output_type": "stream",
          "text": [
            "Train on 1 samples, validate on 1 samples\n",
            "Epoch 1/50\n",
            "1/1 [==============================] - 0s 151ms/step - loss: 0.0124 - accuracy: 0.0000e+00 - val_loss: 0.0496 - val_accuracy: 0.0000e+00\n",
            "Epoch 2/50\n",
            "1/1 [==============================] - 0s 7ms/step - loss: 0.0124 - accuracy: 0.0000e+00 - val_loss: 0.0495 - val_accuracy: 0.0000e+00\n",
            "Epoch 3/50\n",
            "1/1 [==============================] - 0s 6ms/step - loss: 0.0124 - accuracy: 0.0000e+00 - val_loss: 0.0495 - val_accuracy: 0.0000e+00\n",
            "Epoch 4/50\n",
            "1/1 [==============================] - 0s 6ms/step - loss: 0.0123 - accuracy: 0.0000e+00 - val_loss: 0.0494 - val_accuracy: 0.0000e+00\n",
            "Epoch 5/50\n",
            "1/1 [==============================] - 0s 6ms/step - loss: 0.0123 - accuracy: 0.0000e+00 - val_loss: 0.0493 - val_accuracy: 0.0000e+00\n",
            "Epoch 6/50\n",
            "1/1 [==============================] - 0s 5ms/step - loss: 0.0123 - accuracy: 0.0000e+00 - val_loss: 0.0493 - val_accuracy: 0.0000e+00\n",
            "Epoch 7/50\n",
            "1/1 [==============================] - 0s 5ms/step - loss: 0.0122 - accuracy: 0.0000e+00 - val_loss: 0.0492 - val_accuracy: 0.0000e+00\n",
            "Epoch 8/50\n",
            "1/1 [==============================] - 0s 5ms/step - loss: 0.0122 - accuracy: 0.0000e+00 - val_loss: 0.0491 - val_accuracy: 0.0000e+00\n",
            "Epoch 9/50\n",
            "1/1 [==============================] - 0s 4ms/step - loss: 0.0121 - accuracy: 0.0000e+00 - val_loss: 0.0490 - val_accuracy: 0.0000e+00\n",
            "Epoch 10/50\n",
            "1/1 [==============================] - 0s 5ms/step - loss: 0.0121 - accuracy: 0.0000e+00 - val_loss: 0.0489 - val_accuracy: 0.0000e+00\n",
            "Epoch 11/50\n",
            "1/1 [==============================] - 0s 8ms/step - loss: 0.0120 - accuracy: 0.0000e+00 - val_loss: 0.0487 - val_accuracy: 0.0000e+00\n",
            "Epoch 12/50\n",
            "1/1 [==============================] - 0s 4ms/step - loss: 0.0120 - accuracy: 0.0000e+00 - val_loss: 0.0486 - val_accuracy: 1.0000\n",
            "Epoch 13/50\n",
            "1/1 [==============================] - 0s 4ms/step - loss: 0.0119 - accuracy: 1.0000 - val_loss: 0.0484 - val_accuracy: 1.0000\n",
            "Epoch 14/50\n",
            "1/1 [==============================] - 0s 4ms/step - loss: 0.0118 - accuracy: 1.0000 - val_loss: 0.0482 - val_accuracy: 1.0000\n",
            "Epoch 15/50\n",
            "1/1 [==============================] - 0s 5ms/step - loss: 0.0117 - accuracy: 1.0000 - val_loss: 0.0480 - val_accuracy: 1.0000\n",
            "Epoch 16/50\n",
            "1/1 [==============================] - 0s 5ms/step - loss: 0.0116 - accuracy: 1.0000 - val_loss: 0.0477 - val_accuracy: 1.0000\n",
            "Epoch 17/50\n",
            "1/1 [==============================] - 0s 5ms/step - loss: 0.0115 - accuracy: 1.0000 - val_loss: 0.0475 - val_accuracy: 1.0000\n",
            "Epoch 18/50\n",
            "1/1 [==============================] - 0s 7ms/step - loss: 0.0114 - accuracy: 1.0000 - val_loss: 0.0471 - val_accuracy: 1.0000\n",
            "Epoch 19/50\n",
            "1/1 [==============================] - 0s 5ms/step - loss: 0.0112 - accuracy: 1.0000 - val_loss: 0.0468 - val_accuracy: 1.0000\n",
            "Epoch 20/50\n",
            "1/1 [==============================] - 0s 6ms/step - loss: 0.0111 - accuracy: 1.0000 - val_loss: 0.0464 - val_accuracy: 1.0000\n",
            "Epoch 21/50\n",
            "1/1 [==============================] - 0s 7ms/step - loss: 0.0109 - accuracy: 1.0000 - val_loss: 0.0459 - val_accuracy: 1.0000\n",
            "Epoch 22/50\n",
            "1/1 [==============================] - 0s 4ms/step - loss: 0.0107 - accuracy: 1.0000 - val_loss: 0.0454 - val_accuracy: 1.0000\n",
            "Epoch 23/50\n",
            "1/1 [==============================] - 0s 4ms/step - loss: 0.0105 - accuracy: 1.0000 - val_loss: 0.0448 - val_accuracy: 1.0000\n",
            "Epoch 24/50\n",
            "1/1 [==============================] - 0s 4ms/step - loss: 0.0102 - accuracy: 1.0000 - val_loss: 0.0441 - val_accuracy: 1.0000\n",
            "Epoch 25/50\n",
            "1/1 [==============================] - 0s 7ms/step - loss: 0.0099 - accuracy: 1.0000 - val_loss: 0.0434 - val_accuracy: 1.0000\n",
            "Epoch 26/50\n",
            "1/1 [==============================] - 0s 4ms/step - loss: 0.0096 - accuracy: 1.0000 - val_loss: 0.0425 - val_accuracy: 1.0000\n",
            "Epoch 27/50\n",
            "1/1 [==============================] - 0s 4ms/step - loss: 0.0093 - accuracy: 1.0000 - val_loss: 0.0416 - val_accuracy: 1.0000\n",
            "Epoch 28/50\n",
            "1/1 [==============================] - 0s 4ms/step - loss: 0.0089 - accuracy: 1.0000 - val_loss: 0.0405 - val_accuracy: 1.0000\n",
            "Epoch 29/50\n",
            "1/1 [==============================] - 0s 4ms/step - loss: 0.0084 - accuracy: 1.0000 - val_loss: 0.0394 - val_accuracy: 1.0000\n",
            "Epoch 30/50\n",
            "1/1 [==============================] - 0s 3ms/step - loss: 0.0080 - accuracy: 1.0000 - val_loss: 0.0381 - val_accuracy: 1.0000\n",
            "Epoch 31/50\n",
            "1/1 [==============================] - 0s 14ms/step - loss: 0.0075 - accuracy: 1.0000 - val_loss: 0.0367 - val_accuracy: 1.0000\n",
            "Epoch 32/50\n",
            "1/1 [==============================] - 0s 5ms/step - loss: 0.0069 - accuracy: 1.0000 - val_loss: 0.0352 - val_accuracy: 1.0000\n",
            "Epoch 33/50\n",
            "1/1 [==============================] - 0s 4ms/step - loss: 0.0064 - accuracy: 1.0000 - val_loss: 0.0337 - val_accuracy: 1.0000\n",
            "Epoch 34/50\n",
            "1/1 [==============================] - 0s 4ms/step - loss: 0.0058 - accuracy: 1.0000 - val_loss: 0.0320 - val_accuracy: 1.0000\n",
            "Epoch 35/50\n",
            "1/1 [==============================] - 0s 4ms/step - loss: 0.0052 - accuracy: 1.0000 - val_loss: 0.0303 - val_accuracy: 1.0000\n",
            "Epoch 36/50\n",
            "1/1 [==============================] - 0s 4ms/step - loss: 0.0046 - accuracy: 1.0000 - val_loss: 0.0287 - val_accuracy: 1.0000\n",
            "Epoch 37/50\n",
            "1/1 [==============================] - 0s 5ms/step - loss: 0.0040 - accuracy: 1.0000 - val_loss: 0.0270 - val_accuracy: 1.0000\n",
            "Epoch 38/50\n",
            "1/1 [==============================] - 0s 4ms/step - loss: 0.0034 - accuracy: 1.0000 - val_loss: 0.0254 - val_accuracy: 1.0000\n",
            "Epoch 39/50\n",
            "1/1 [==============================] - 0s 5ms/step - loss: 0.0029 - accuracy: 1.0000 - val_loss: 0.0238 - val_accuracy: 1.0000\n",
            "Epoch 40/50\n",
            "1/1 [==============================] - 0s 6ms/step - loss: 0.0024 - accuracy: 1.0000 - val_loss: 0.0224 - val_accuracy: 1.0000\n",
            "Epoch 41/50\n",
            "1/1 [==============================] - 0s 6ms/step - loss: 0.0020 - accuracy: 1.0000 - val_loss: 0.0211 - val_accuracy: 1.0000\n",
            "Epoch 42/50\n",
            "1/1 [==============================] - 0s 4ms/step - loss: 0.0016 - accuracy: 1.0000 - val_loss: 0.0199 - val_accuracy: 1.0000\n",
            "Epoch 43/50\n",
            "1/1 [==============================] - 0s 4ms/step - loss: 0.0013 - accuracy: 1.0000 - val_loss: 0.0189 - val_accuracy: 1.0000\n",
            "Epoch 44/50\n",
            "1/1 [==============================] - 0s 4ms/step - loss: 0.0010 - accuracy: 1.0000 - val_loss: 0.0180 - val_accuracy: 1.0000\n",
            "Epoch 45/50\n",
            "1/1 [==============================] - 0s 4ms/step - loss: 8.3300e-04 - accuracy: 1.0000 - val_loss: 0.0172 - val_accuracy: 1.0000\n",
            "Epoch 46/50\n",
            "1/1 [==============================] - 0s 5ms/step - loss: 6.6011e-04 - accuracy: 1.0000 - val_loss: 0.0165 - val_accuracy: 1.0000\n",
            "Epoch 47/50\n",
            "1/1 [==============================] - 0s 4ms/step - loss: 5.2303e-04 - accuracy: 1.0000 - val_loss: 0.0160 - val_accuracy: 1.0000\n",
            "Epoch 48/50\n",
            "1/1 [==============================] - 0s 5ms/step - loss: 4.1534e-04 - accuracy: 1.0000 - val_loss: 0.0155 - val_accuracy: 1.0000\n",
            "Epoch 49/50\n",
            "1/1 [==============================] - 0s 5ms/step - loss: 3.3121e-04 - accuracy: 1.0000 - val_loss: 0.0151 - val_accuracy: 1.0000\n",
            "Epoch 50/50\n",
            "1/1 [==============================] - 0s 5ms/step - loss: 2.6568e-04 - accuracy: 1.0000 - val_loss: 0.0148 - val_accuracy: 1.0000\n"
          ],
          "name": "stdout"
        }
      ]
    },
    {
      "cell_type": "code",
      "metadata": {
        "id": "-oWrOyh1_jZx",
        "colab_type": "code",
        "colab": {
          "base_uri": "https://localhost:8080/",
          "height": 575
        },
        "outputId": "beab32a4-3e7f-41ac-aaac-a1485cd4af98"
      },
      "source": [
        "plt.plot(history.history['loss'])\n",
        "plt.plot(history.history['val_loss'])\n",
        "plt.title('Model loss')\n",
        "plt.ylabel('loss')\n",
        "plt.xlabel('val_loss')\n",
        "plt.legend(['loss', 'val_loss'], loc='upper right')\n",
        "plt.show()\n",
        "\n",
        "plt.plot(history.history['accuracy'])\n",
        "plt.plot(history.history['val_accuracy'])\n",
        "plt.title('Model accuracy')\n",
        "plt.ylabel('accuracy')\n",
        "plt.xlabel('val_accuracy')\n",
        "plt.legend(['accuracy', 'val_accuracy'], loc='lower right')\n",
        "plt.show()"
      ],
      "execution_count": 14,
      "outputs": [
        {
          "output_type": "display_data",
          "data": {
            "image/png": "[encoded data removed]",
            "text/plain": [
              "<Figure size 432x288 with 1 Axes>"
            ]
          },
          "metadata": {
            "tags": [],
            "needs_background": "light"
          }
        },
        {
          "output_type": "display_data",
          "data": {
            "image/png": "[encoded data removed]",
            "text/plain": [
              "<Figure size 432x288 with 1 Axes>"
            ]
          },
          "metadata": {
            "tags": [],
            "needs_background": "light"
          }
        }
      ]
    },
    {
      "cell_type": "code",
      "metadata": {
        "id": "bUBulUrXKs21",
        "colab_type": "code",
        "colab": {
          "base_uri": "https://localhost:8080/",
          "height": 295
        },
        "outputId": "61eea3f0-6d67-4a6b-d4f7-b663ad4152d6"
      },
      "source": [
        "# second model\n",
        "ls_model = Sequential()\n",
        "ls_model.add(Embedding(100, 128))\n",
        "ls_model.add(LSTM(128, dropout=0.2, recurrent_dropout=0.2))\n",
        "ls_model.add(Dense(100, activation='relu'))\n",
        "ls_model.add(Dense(80, activation='sigmoid'))\n",
        "ls_model.summary()"
      ],
      "execution_count": 15,
      "outputs": [
        {
          "output_type": "stream",
          "text": [
            "Model: \"sequential_2\"\n",
            "_________________________________________________________________\n",
            "Layer (type)                 Output Shape              Param #   \n",
            "=================================================================\n",
            "embedding_1 (Embedding)      (None, None, 128)         12800     \n",
            "_________________________________________________________________\n",
            "lstm_1 (LSTM)                (None, 128)               131584    \n",
            "_________________________________________________________________\n",
            "dense_6 (Dense)              (None, 100)               12900     \n",
            "_________________________________________________________________\n",
            "dense_7 (Dense)              (None, 80)                8080      \n",
            "=================================================================\n",
            "Total params: 165,364\n",
            "Trainable params: 165,364\n",
            "Non-trainable params: 0\n",
            "_________________________________________________________________\n"
          ],
          "name": "stdout"
        }
      ]
    },
    {
      "cell_type": "code",
      "metadata": {
        "id": "G3NnmS7VLfmu",
        "colab_type": "code",
        "colab": {
          "base_uri": "https://localhost:8080/",
          "height": 1000
        },
        "outputId": "50f89cc6-4c82-4168-b09e-7d7dfa18f299"
      },
      "source": [
        "ls_model.compile(loss='binary_crossentropy', optimizer='adam', metrics=['accuracy'])\n",
        "\n",
        "ls_history = ls_model.fit(X_train, y_train,batch_size=10,epochs=50,validation_data=(X_test, y_test))"
      ],
      "execution_count": 16,
      "outputs": [
        {
          "output_type": "stream",
          "text": [
            "/usr/local/lib/python3.6/dist-packages/tensorflow/python/framework/indexed_slices.py:434: UserWarning: Converting sparse IndexedSlices to a dense Tensor of unknown shape. This may consume a large amount of memory.\n",
            "  \"Converting sparse IndexedSlices to a dense Tensor of unknown shape. \"\n"
          ],
          "name": "stderr"
        },
        {
          "output_type": "stream",
          "text": [
            "Train on 1 samples, validate on 1 samples\n",
            "Epoch 1/50\n",
            "1/1 [==============================] - 1s 528ms/step - loss: 0.6946 - accuracy: 0.4625 - val_loss: 0.6913 - val_accuracy: 0.5625\n",
            "Epoch 2/50\n",
            "1/1 [==============================] - 0s 72ms/step - loss: 0.6911 - accuracy: 0.6125 - val_loss: 0.6886 - val_accuracy: 0.6500\n",
            "Epoch 3/50\n",
            "1/1 [==============================] - 0s 56ms/step - loss: 0.6880 - accuracy: 0.6500 - val_loss: 0.6855 - val_accuracy: 0.6750\n",
            "Epoch 4/50\n",
            "1/1 [==============================] - 0s 53ms/step - loss: 0.6865 - accuracy: 0.7125 - val_loss: 0.6817 - val_accuracy: 0.7125\n",
            "Epoch 5/50\n",
            "1/1 [==============================] - 0s 56ms/step - loss: 0.6807 - accuracy: 0.7250 - val_loss: 0.6768 - val_accuracy: 0.7500\n",
            "Epoch 6/50\n",
            "1/1 [==============================] - 0s 55ms/step - loss: 0.6751 - accuracy: 0.7375 - val_loss: 0.6701 - val_accuracy: 0.7500\n",
            "Epoch 7/50\n",
            "1/1 [==============================] - 0s 65ms/step - loss: 0.6708 - accuracy: 0.7500 - val_loss: 0.6605 - val_accuracy: 0.7875\n",
            "Epoch 8/50\n",
            "1/1 [==============================] - 0s 71ms/step - loss: 0.6579 - accuracy: 0.8000 - val_loss: 0.6461 - val_accuracy: 0.7875\n",
            "Epoch 9/50\n",
            "1/1 [==============================] - 0s 65ms/step - loss: 0.6527 - accuracy: 0.8000 - val_loss: 0.6237 - val_accuracy: 0.8000\n",
            "Epoch 10/50\n",
            "1/1 [==============================] - 0s 62ms/step - loss: 0.6237 - accuracy: 0.8000 - val_loss: 0.5894 - val_accuracy: 0.8000\n",
            "Epoch 11/50\n",
            "1/1 [==============================] - 0s 60ms/step - loss: 0.6005 - accuracy: 0.8000 - val_loss: 0.5432 - val_accuracy: 0.8375\n",
            "Epoch 12/50\n",
            "1/1 [==============================] - 0s 63ms/step - loss: 0.5414 - accuracy: 0.8250 - val_loss: 0.4929 - val_accuracy: 0.8375\n",
            "Epoch 13/50\n",
            "1/1 [==============================] - 0s 64ms/step - loss: 0.5097 - accuracy: 0.8500 - val_loss: 0.4448 - val_accuracy: 0.8625\n",
            "Epoch 14/50\n",
            "1/1 [==============================] - 0s 65ms/step - loss: 0.4392 - accuracy: 0.8750 - val_loss: 0.3998 - val_accuracy: 0.8750\n",
            "Epoch 15/50\n",
            "1/1 [==============================] - 0s 64ms/step - loss: 0.4048 - accuracy: 0.8750 - val_loss: 0.3568 - val_accuracy: 0.8750\n",
            "Epoch 16/50\n",
            "1/1 [==============================] - 0s 70ms/step - loss: 0.3623 - accuracy: 0.8875 - val_loss: 0.3153 - val_accuracy: 0.8750\n",
            "Epoch 17/50\n",
            "1/1 [==============================] - 0s 50ms/step - loss: 0.3170 - accuracy: 0.8875 - val_loss: 0.2752 - val_accuracy: 0.9125\n",
            "Epoch 18/50\n",
            "1/1 [==============================] - 0s 53ms/step - loss: 0.2825 - accuracy: 0.9125 - val_loss: 0.2364 - val_accuracy: 0.9250\n",
            "Epoch 19/50\n",
            "1/1 [==============================] - 0s 54ms/step - loss: 0.2446 - accuracy: 0.9375 - val_loss: 0.1993 - val_accuracy: 0.9375\n",
            "Epoch 20/50\n",
            "1/1 [==============================] - 0s 56ms/step - loss: 0.2164 - accuracy: 0.9500 - val_loss: 0.1642 - val_accuracy: 0.9375\n",
            "Epoch 21/50\n",
            "1/1 [==============================] - 0s 57ms/step - loss: 0.1842 - accuracy: 0.9500 - val_loss: 0.1314 - val_accuracy: 0.9500\n",
            "Epoch 22/50\n",
            "1/1 [==============================] - 0s 54ms/step - loss: 0.1538 - accuracy: 0.9625 - val_loss: 0.1011 - val_accuracy: 0.9625\n",
            "Epoch 23/50\n",
            "1/1 [==============================] - 0s 58ms/step - loss: 0.1247 - accuracy: 0.9750 - val_loss: 0.0737 - val_accuracy: 0.9750\n",
            "Epoch 24/50\n",
            "1/1 [==============================] - 0s 76ms/step - loss: 0.1011 - accuracy: 0.9875 - val_loss: 0.0493 - val_accuracy: 0.9875\n",
            "Epoch 25/50\n",
            "1/1 [==============================] - 0s 58ms/step - loss: 0.0778 - accuracy: 1.0000 - val_loss: 0.0279 - val_accuracy: 0.9875\n",
            "Epoch 26/50\n",
            "1/1 [==============================] - 0s 55ms/step - loss: 0.0645 - accuracy: 1.0000 - val_loss: 0.0095 - val_accuracy: 0.9875\n",
            "Epoch 27/50\n",
            "1/1 [==============================] - 0s 54ms/step - loss: 0.0490 - accuracy: 1.0000 - val_loss: -0.0060 - val_accuracy: 0.9875\n",
            "Epoch 28/50\n",
            "1/1 [==============================] - 0s 56ms/step - loss: 0.0386 - accuracy: 1.0000 - val_loss: -0.0191 - val_accuracy: 0.9875\n",
            "Epoch 29/50\n",
            "1/1 [==============================] - 0s 57ms/step - loss: 0.0298 - accuracy: 1.0000 - val_loss: -0.0299 - val_accuracy: 0.9875\n",
            "Epoch 30/50\n",
            "1/1 [==============================] - 0s 56ms/step - loss: 0.0228 - accuracy: 1.0000 - val_loss: -0.0390 - val_accuracy: 0.9875\n",
            "Epoch 31/50\n",
            "1/1 [==============================] - 0s 55ms/step - loss: 0.0149 - accuracy: 1.0000 - val_loss: -0.0466 - val_accuracy: 0.9875\n",
            "Epoch 32/50\n",
            "1/1 [==============================] - 0s 56ms/step - loss: 0.0124 - accuracy: 1.0000 - val_loss: -0.0531 - val_accuracy: 0.9875\n",
            "Epoch 33/50\n",
            "1/1 [==============================] - 0s 54ms/step - loss: 0.0083 - accuracy: 1.0000 - val_loss: -0.0586 - val_accuracy: 0.9875\n",
            "Epoch 34/50\n",
            "1/1 [==============================] - 0s 58ms/step - loss: 0.0069 - accuracy: 1.0000 - val_loss: -0.0634 - val_accuracy: 0.9875\n",
            "Epoch 35/50\n",
            "1/1 [==============================] - 0s 53ms/step - loss: 0.0065 - accuracy: 1.0000 - val_loss: -0.0676 - val_accuracy: 0.9875\n",
            "Epoch 36/50\n",
            "1/1 [==============================] - 0s 54ms/step - loss: 0.0042 - accuracy: 1.0000 - val_loss: -0.0713 - val_accuracy: 0.9875\n",
            "Epoch 37/50\n",
            "1/1 [==============================] - 0s 55ms/step - loss: 0.0033 - accuracy: 1.0000 - val_loss: -0.0747 - val_accuracy: 0.9875\n",
            "Epoch 38/50\n",
            "1/1 [==============================] - 0s 52ms/step - loss: 0.0027 - accuracy: 1.0000 - val_loss: -0.0777 - val_accuracy: 0.9875\n",
            "Epoch 39/50\n",
            "1/1 [==============================] - 0s 62ms/step - loss: 0.0023 - accuracy: 1.0000 - val_loss: -0.0805 - val_accuracy: 0.9875\n",
            "Epoch 40/50\n",
            "1/1 [==============================] - 0s 65ms/step - loss: 0.0018 - accuracy: 1.0000 - val_loss: -0.0830 - val_accuracy: 0.9875\n",
            "Epoch 41/50\n",
            "1/1 [==============================] - 0s 68ms/step - loss: 0.0013 - accuracy: 1.0000 - val_loss: -0.0853 - val_accuracy: 0.9875\n",
            "Epoch 42/50\n",
            "1/1 [==============================] - 0s 55ms/step - loss: 0.0013 - accuracy: 1.0000 - val_loss: -0.0875 - val_accuracy: 0.9875\n",
            "Epoch 43/50\n",
            "1/1 [==============================] - 0s 57ms/step - loss: 0.0011 - accuracy: 1.0000 - val_loss: -0.0894 - val_accuracy: 0.9875\n",
            "Epoch 44/50\n",
            "1/1 [==============================] - 0s 55ms/step - loss: 0.0011 - accuracy: 1.0000 - val_loss: -0.0912 - val_accuracy: 0.9875\n",
            "Epoch 45/50\n",
            "1/1 [==============================] - 0s 66ms/step - loss: 8.3753e-04 - accuracy: 1.0000 - val_loss: -0.0929 - val_accuracy: 0.9875\n",
            "Epoch 46/50\n",
            "1/1 [==============================] - 0s 58ms/step - loss: 7.1113e-04 - accuracy: 1.0000 - val_loss: -0.0944 - val_accuracy: 0.9875\n",
            "Epoch 47/50\n",
            "1/1 [==============================] - 0s 55ms/step - loss: 6.0429e-04 - accuracy: 1.0000 - val_loss: -0.0958 - val_accuracy: 0.9875\n",
            "Epoch 48/50\n",
            "1/1 [==============================] - 0s 55ms/step - loss: 5.3314e-04 - accuracy: 1.0000 - val_loss: -0.0971 - val_accuracy: 0.9875\n",
            "Epoch 49/50\n",
            "1/1 [==============================] - 0s 55ms/step - loss: 5.0109e-04 - accuracy: 1.0000 - val_loss: -0.0982 - val_accuracy: 0.9875\n",
            "Epoch 50/50\n",
            "1/1 [==============================] - 0s 55ms/step - loss: 4.5402e-04 - accuracy: 1.0000 - val_loss: -0.0993 - val_accuracy: 0.9875\n"
          ],
          "name": "stdout"
        }
      ]
    },
    {
      "cell_type": "code",
      "metadata": {
        "id": "9X2csWwtL3mi",
        "colab_type": "code",
        "colab": {
          "base_uri": "https://localhost:8080/",
          "height": 575
        },
        "outputId": "85472fff-63e8-4479-b346-ceb0ad15c642"
      },
      "source": [
        "plt.plot(ls_history.history['loss'])\n",
        "plt.plot(ls_history.history['val_loss'])\n",
        "plt.title('Model loss')\n",
        "plt.ylabel('loss')\n",
        "plt.xlabel('val_loss')\n",
        "plt.legend(['loss', 'val_loss'], loc='upper right')\n",
        "plt.show()\n",
        "\n",
        "plt.plot(ls_history.history['accuracy'])\n",
        "plt.plot(ls_history.history['val_accuracy'])\n",
        "plt.title('Model accuracy')\n",
        "plt.ylabel('accuracy')\n",
        "plt.xlabel('val_accuracy')\n",
        "plt.legend(['accuracy', 'val_accuracy'], loc='lower right')\n",
        "plt.show()"
      ],
      "execution_count": 17,
      "outputs": [
        {
          "output_type": "display_data",
          "data": {
            "image/png": "[encoded data removed]",
            "text/plain": [
              "<Figure size 432x288 with 1 Axes>"
            ]
          },
          "metadata": {
            "tags": [],
            "needs_background": "light"
          }
        },
        {
          "output_type": "display_data",
          "data": {
            "image/png": "[encoded data removed]",
            "text/plain": [
              "<Figure size 432x288 with 1 Axes>"
            ]
          },
          "metadata": {
            "tags": [],
            "needs_background": "light"
          }
        }
      ]
    },
    {
      "cell_type": "code",
      "metadata": {
        "id": "cdN5y04PUpD8",
        "colab_type": "code",
        "colab": {
          "base_uri": "https://localhost:8080/",
          "height": 399
        },
        "outputId": "c6c17c24-9496-40d2-a8bb-afa3892ef2ad"
      },
      "source": [
        "# third model\n",
        "cnnmodel = Sequential()\n",
        "\n",
        "cnnmodel.add(Embedding(200,200, input_length=maxlen))\n",
        "cnnmodel.add(LSTM(200, dropout=0.2, recurrent_dropout=0.2))\n",
        "cnnmodel.add(Dropout(0.2))\n",
        "cnnmodel.add(Dense(200, activation = 'relu'))\n",
        "cnnmodel.add(Dense(150, activation = 'relu'))\n",
        "cnnmodel.add(Dense(100, activation = 'relu'))\n",
        "cnnmodel.add(Dense(80, activation = 'sigmoid'))\n",
        "\n",
        "cnnmodel.summary()"
      ],
      "execution_count": 19,
      "outputs": [
        {
          "output_type": "stream",
          "text": [
            "Model: \"sequential_4\"\n",
            "_________________________________________________________________\n",
            "Layer (type)                 Output Shape              Param #   \n",
            "=================================================================\n",
            "embedding_2 (Embedding)      (None, 80, 200)           40000     \n",
            "_________________________________________________________________\n",
            "lstm_2 (LSTM)                (None, 200)               320800    \n",
            "_________________________________________________________________\n",
            "dropout_1 (Dropout)          (None, 200)               0         \n",
            "_________________________________________________________________\n",
            "dense_8 (Dense)              (None, 200)               40200     \n",
            "_________________________________________________________________\n",
            "dense_9 (Dense)              (None, 150)               30150     \n",
            "_________________________________________________________________\n",
            "dense_10 (Dense)             (None, 100)               15100     \n",
            "_________________________________________________________________\n",
            "dense_11 (Dense)             (None, 80)                8080      \n",
            "=================================================================\n",
            "Total params: 454,330\n",
            "Trainable params: 454,330\n",
            "Non-trainable params: 0\n",
            "_________________________________________________________________\n"
          ],
          "name": "stdout"
        }
      ]
    },
    {
      "cell_type": "code",
      "metadata": {
        "id": "rpO8k-hSUwJI",
        "colab_type": "code",
        "colab": {
          "base_uri": "https://localhost:8080/",
          "height": 1000
        },
        "outputId": "02fe2d1b-e90f-43ee-a898-a94d534aa57e"
      },
      "source": [
        "cnnmodel.compile(loss='binary_crossentropy', optimizer='adam', metrics=['accuracy'])\n",
        "\n",
        "cnnhistory = cnnmodel.fit(X_train, y_train, batch_size=20, epochs=50, validation_data=(X_test, y_test))"
      ],
      "execution_count": 20,
      "outputs": [
        {
          "output_type": "stream",
          "text": [
            "/usr/local/lib/python3.6/dist-packages/tensorflow/python/framework/indexed_slices.py:434: UserWarning: Converting sparse IndexedSlices to a dense Tensor of unknown shape. This may consume a large amount of memory.\n",
            "  \"Converting sparse IndexedSlices to a dense Tensor of unknown shape. \"\n"
          ],
          "name": "stderr"
        },
        {
          "output_type": "stream",
          "text": [
            "Train on 1 samples, validate on 1 samples\n",
            "Epoch 1/50\n",
            "1/1 [==============================] - 1s 623ms/step - loss: 0.6935 - accuracy: 0.4625 - val_loss: 0.6917 - val_accuracy: 0.6500\n",
            "Epoch 2/50\n",
            "1/1 [==============================] - 0s 104ms/step - loss: 0.6915 - accuracy: 0.6625 - val_loss: 0.6893 - val_accuracy: 0.6875\n",
            "Epoch 3/50\n",
            "1/1 [==============================] - 0s 93ms/step - loss: 0.6898 - accuracy: 0.7125 - val_loss: 0.6857 - val_accuracy: 0.7000\n",
            "Epoch 4/50\n",
            "1/1 [==============================] - 0s 103ms/step - loss: 0.6859 - accuracy: 0.7250 - val_loss: 0.6802 - val_accuracy: 0.6875\n",
            "Epoch 5/50\n",
            "1/1 [==============================] - 0s 102ms/step - loss: 0.6815 - accuracy: 0.7500 - val_loss: 0.6710 - val_accuracy: 0.7125\n",
            "Epoch 6/50\n",
            "1/1 [==============================] - 0s 108ms/step - loss: 0.6748 - accuracy: 0.7250 - val_loss: 0.6545 - val_accuracy: 0.7250\n",
            "Epoch 7/50\n",
            "1/1 [==============================] - 0s 97ms/step - loss: 0.6552 - accuracy: 0.7625 - val_loss: 0.6246 - val_accuracy: 0.7250\n",
            "Epoch 8/50\n",
            "1/1 [==============================] - 0s 93ms/step - loss: 0.6353 - accuracy: 0.7250 - val_loss: 0.5698 - val_accuracy: 0.7375\n",
            "Epoch 9/50\n",
            "1/1 [==============================] - 0s 94ms/step - loss: 0.5839 - accuracy: 0.7625 - val_loss: 0.4980 - val_accuracy: 0.7375\n",
            "Epoch 10/50\n",
            "1/1 [==============================] - 0s 93ms/step - loss: 0.5209 - accuracy: 0.7375 - val_loss: 0.4297 - val_accuracy: 0.7500\n",
            "Epoch 11/50\n",
            "1/1 [==============================] - 0s 94ms/step - loss: 0.4933 - accuracy: 0.7625 - val_loss: 0.3689 - val_accuracy: 0.7500\n",
            "Epoch 12/50\n",
            "1/1 [==============================] - 0s 97ms/step - loss: 0.4317 - accuracy: 0.7750 - val_loss: 0.3110 - val_accuracy: 0.7750\n",
            "Epoch 13/50\n",
            "1/1 [==============================] - 0s 98ms/step - loss: 0.3868 - accuracy: 0.7750 - val_loss: 0.2514 - val_accuracy: 0.7875\n",
            "Epoch 14/50\n",
            "1/1 [==============================] - 0s 97ms/step - loss: 0.3397 - accuracy: 0.8250 - val_loss: 0.1908 - val_accuracy: 0.8375\n",
            "Epoch 15/50\n",
            "1/1 [==============================] - 0s 94ms/step - loss: 0.2938 - accuracy: 0.8375 - val_loss: 0.1294 - val_accuracy: 0.8875\n",
            "Epoch 16/50\n",
            "1/1 [==============================] - 0s 102ms/step - loss: 0.2467 - accuracy: 0.8750 - val_loss: 0.0695 - val_accuracy: 0.9250\n",
            "Epoch 17/50\n",
            "1/1 [==============================] - 0s 96ms/step - loss: 0.1874 - accuracy: 0.9500 - val_loss: 0.0137 - val_accuracy: 0.9500\n",
            "Epoch 18/50\n",
            "1/1 [==============================] - 0s 99ms/step - loss: 0.1608 - accuracy: 0.9500 - val_loss: -0.0379 - val_accuracy: 0.9625\n",
            "Epoch 19/50\n",
            "1/1 [==============================] - 0s 111ms/step - loss: 0.1079 - accuracy: 0.9750 - val_loss: -0.0851 - val_accuracy: 0.9625\n",
            "Epoch 20/50\n",
            "1/1 [==============================] - 0s 101ms/step - loss: 0.0809 - accuracy: 0.9750 - val_loss: -0.1281 - val_accuracy: 0.9750\n",
            "Epoch 21/50\n",
            "1/1 [==============================] - 0s 102ms/step - loss: 0.0571 - accuracy: 0.9875 - val_loss: -0.1669 - val_accuracy: 0.9750\n",
            "Epoch 22/50\n",
            "1/1 [==============================] - 0s 99ms/step - loss: 0.0400 - accuracy: 0.9875 - val_loss: -0.2005 - val_accuracy: 0.9875\n",
            "Epoch 23/50\n",
            "1/1 [==============================] - 0s 95ms/step - loss: 0.0181 - accuracy: 1.0000 - val_loss: -0.2283 - val_accuracy: 0.9875\n",
            "Epoch 24/50\n",
            "1/1 [==============================] - 0s 95ms/step - loss: 0.0122 - accuracy: 1.0000 - val_loss: -0.2529 - val_accuracy: 0.9875\n",
            "Epoch 25/50\n",
            "1/1 [==============================] - 0s 100ms/step - loss: 0.0073 - accuracy: 1.0000 - val_loss: -0.2756 - val_accuracy: 0.9875\n",
            "Epoch 26/50\n",
            "1/1 [==============================] - 0s 105ms/step - loss: 0.0033 - accuracy: 1.0000 - val_loss: -0.2976 - val_accuracy: 0.9875\n",
            "Epoch 27/50\n",
            "1/1 [==============================] - 0s 95ms/step - loss: 0.0011 - accuracy: 1.0000 - val_loss: -0.3182 - val_accuracy: 0.9875\n",
            "Epoch 28/50\n",
            "1/1 [==============================] - 0s 98ms/step - loss: 0.0012 - accuracy: 1.0000 - val_loss: -0.3378 - val_accuracy: 0.9875\n",
            "Epoch 29/50\n",
            "1/1 [==============================] - 0s 98ms/step - loss: 4.3292e-04 - accuracy: 1.0000 - val_loss: -0.3563 - val_accuracy: 0.9875\n",
            "Epoch 30/50\n",
            "1/1 [==============================] - 0s 97ms/step - loss: 2.0942e-04 - accuracy: 1.0000 - val_loss: -0.3738 - val_accuracy: 0.9875\n",
            "Epoch 31/50\n",
            "1/1 [==============================] - 0s 100ms/step - loss: 1.2523e-04 - accuracy: 1.0000 - val_loss: -0.3902 - val_accuracy: 0.9875\n",
            "Epoch 32/50\n",
            "1/1 [==============================] - 0s 97ms/step - loss: 7.1914e-05 - accuracy: 1.0000 - val_loss: -0.4056 - val_accuracy: 0.9875\n",
            "Epoch 33/50\n",
            "1/1 [==============================] - 0s 97ms/step - loss: 5.5854e-05 - accuracy: 1.0000 - val_loss: -0.4200 - val_accuracy: 0.9875\n",
            "Epoch 34/50\n",
            "1/1 [==============================] - 0s 95ms/step - loss: 2.3381e-05 - accuracy: 1.0000 - val_loss: -0.4335 - val_accuracy: 0.9875\n",
            "Epoch 35/50\n",
            "1/1 [==============================] - 0s 96ms/step - loss: 2.1137e-05 - accuracy: 1.0000 - val_loss: -0.4460 - val_accuracy: 0.9875\n",
            "Epoch 36/50\n",
            "1/1 [==============================] - 0s 119ms/step - loss: 6.5360e-06 - accuracy: 1.0000 - val_loss: -0.4577 - val_accuracy: 0.9875\n",
            "Epoch 37/50\n",
            "1/1 [==============================] - 0s 100ms/step - loss: 9.8943e-06 - accuracy: 1.0000 - val_loss: -0.4684 - val_accuracy: 0.9875\n",
            "Epoch 38/50\n",
            "1/1 [==============================] - 0s 96ms/step - loss: 4.4069e-06 - accuracy: 1.0000 - val_loss: -0.4783 - val_accuracy: 0.9875\n",
            "Epoch 39/50\n",
            "1/1 [==============================] - 0s 109ms/step - loss: 5.4786e-06 - accuracy: 1.0000 - val_loss: -0.4874 - val_accuracy: 0.9875\n",
            "Epoch 40/50\n",
            "1/1 [==============================] - 0s 113ms/step - loss: 2.8499e-06 - accuracy: 1.0000 - val_loss: -0.4958 - val_accuracy: 0.9875\n",
            "Epoch 41/50\n",
            "1/1 [==============================] - 0s 100ms/step - loss: 2.3079e-06 - accuracy: 1.0000 - val_loss: -0.5035 - val_accuracy: 0.9875\n",
            "Epoch 42/50\n",
            "1/1 [==============================] - 0s 116ms/step - loss: 1.7260e-06 - accuracy: 1.0000 - val_loss: -0.5106 - val_accuracy: 0.9875\n",
            "Epoch 43/50\n",
            "1/1 [==============================] - 0s 101ms/step - loss: 1.1880e-06 - accuracy: 1.0000 - val_loss: -0.5171 - val_accuracy: 0.9875\n",
            "Epoch 44/50\n",
            "1/1 [==============================] - 0s 95ms/step - loss: 1.0552e-06 - accuracy: 1.0000 - val_loss: -0.5230 - val_accuracy: 0.9875\n",
            "Epoch 45/50\n",
            "1/1 [==============================] - 0s 95ms/step - loss: 1.0623e-06 - accuracy: 1.0000 - val_loss: -0.5284 - val_accuracy: 0.9875\n",
            "Epoch 46/50\n",
            "1/1 [==============================] - 0s 101ms/step - loss: 4.6638e-07 - accuracy: 1.0000 - val_loss: -0.5334 - val_accuracy: 0.9875\n",
            "Epoch 47/50\n",
            "1/1 [==============================] - 0s 97ms/step - loss: 6.2074e-07 - accuracy: 1.0000 - val_loss: -0.5379 - val_accuracy: 0.9875\n",
            "Epoch 48/50\n",
            "1/1 [==============================] - 0s 103ms/step - loss: 5.9061e-07 - accuracy: 1.0000 - val_loss: -0.5420 - val_accuracy: 0.9875\n",
            "Epoch 49/50\n",
            "1/1 [==============================] - 0s 110ms/step - loss: 2.7832e-07 - accuracy: 1.0000 - val_loss: -0.5458 - val_accuracy: 0.9875\n",
            "Epoch 50/50\n",
            "1/1 [==============================] - 0s 105ms/step - loss: 2.6189e-07 - accuracy: 1.0000 - val_loss: -0.5493 - val_accuracy: 0.9875\n"
          ],
          "name": "stdout"
        }
      ]
    },
    {
      "cell_type": "code",
      "metadata": {
        "id": "i2qx_vzvXcwI",
        "colab_type": "code",
        "colab": {
          "base_uri": "https://localhost:8080/",
          "height": 575
        },
        "outputId": "b22bdb83-1d38-46f0-efb6-3b6d85cc27d0"
      },
      "source": [
        "plt.plot(cnnhistory.history['loss'])\n",
        "plt.plot(cnnhistory.history['val_loss'])\n",
        "plt.title('Model loss')\n",
        "plt.ylabel('loss')\n",
        "plt.xlabel('val_loss')\n",
        "plt.legend(['loss', 'val_loss'], loc='upper right')\n",
        "plt.show()\n",
        "\n",
        "plt.plot(cnnhistory.history['accuracy'])\n",
        "plt.plot(cnnhistory.history['val_accuracy'])\n",
        "plt.title('Model accuracy')\n",
        "plt.ylabel('accuracy')\n",
        "plt.xlabel('val_accuracy')\n",
        "plt.legend(['accuracy', 'val_accuracy'], loc='lower right')\n",
        "plt.show()"
      ],
      "execution_count": 21,
      "outputs": [
        {
          "output_type": "display_data",
          "data": {
            "image/png": "[encoded data removed]",
            "text/plain": [
              "<Figure size 432x288 with 1 Axes>"
            ]
          },
          "metadata": {
            "tags": [],
            "needs_background": "light"
          }
        },
        {
          "output_type": "display_data",
          "data": {
            "image/png": "[encoded data removed]",
            "text/plain": [
              "<Figure size 432x288 with 1 Axes>"
            ]
          },
          "metadata": {
            "tags": [],
            "needs_background": "light"
          }
        }
      ]
    }
  ]
}