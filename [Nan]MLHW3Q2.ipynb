{
  "nbformat": 4,
  "nbformat_minor": 0,
  "metadata": {
    "colab": {
      "name": "[Nan]MLHW3Q2.ipynb",
      "provenance": [],
      "mount_file_id": "1UKIwy7iHp-_lbD4IF23ehKRI1UHyLUkc",
      "authorship_tag": "ABX9TyMxm+cb6VgJTqYziNchMoeH",
      "include_colab_link": true
    },
    "kernelspec": {
      "name": "python3",
      "display_name": "Python 3"
    }
  },
  "cells": [
    {
      "cell_type": "markdown",
      "metadata": {
        "id": "view-in-github",
        "colab_type": "text"
      },
      "source": [
        "<a href=\"https://colab.research.google.com/github/NanThanThanSoe/OfflineHandwrittenRecognition/blob/master/%5BNan%5DMLHW3Q2.ipynb\" target=\"_parent\"><img src=\"https://colab.research.google.com/assets/colab-badge.svg\" alt=\"Open In Colab\"/></a>"
      ]
    },
    {
      "cell_type": "markdown",
      "metadata": {
        "id": "WQ9KLURWisDU",
        "colab_type": "text"
      },
      "source": [
        "Question 2 [3 points]\n",
        "\n",
        "Develop deep learning models using convolution neural network to classify all 120 fruits of the Fruit-Images Dataset published by Horea94. You should develop at least one models and compare its performance with the paper [1]. Note: You must not use transfer learning in this question.\n",
        "- Datasource: https://github.com/Horea94/Fruit-Images-Dataset\n",
        "- Paper: [1] H. Mureşan and M. Oltean, “Fruit recognition from images using deep learning,” Acta Universitatis Sapientiae, Informatica, vol. 10, no. 1, pp. 26–42, Aug. 2018, doi: 10.2478/ausi-2018-0002."
      ]
    },
    {
      "cell_type": "code",
      "metadata": {
        "id": "CMsxsFCGipSw",
        "colab_type": "code",
        "colab": {
          "base_uri": "https://localhost:8080/",
          "height": 156
        },
        "outputId": "bb17478a-31dd-4ab9-a214-db89a0611ffa"
      },
      "source": [
        "pip install -U keras"
      ],
      "execution_count": 1,
      "outputs": [
        {
          "output_type": "stream",
          "text": [
            "Requirement already up-to-date: keras in /usr/local/lib/python3.6/dist-packages (2.3.1)\n",
            "Requirement already satisfied, skipping upgrade: numpy>=1.9.1 in /usr/local/lib/python3.6/dist-packages (from keras) (1.18.2)\n",
            "Requirement already satisfied, skipping upgrade: h5py in /usr/local/lib/python3.6/dist-packages (from keras) (2.10.0)\n",
            "Requirement already satisfied, skipping upgrade: pyyaml in /usr/local/lib/python3.6/dist-packages (from keras) (3.13)\n",
            "Requirement already satisfied, skipping upgrade: six>=1.9.0 in /usr/local/lib/python3.6/dist-packages (from keras) (1.12.0)\n",
            "Requirement already satisfied, skipping upgrade: keras-preprocessing>=1.0.5 in /usr/local/lib/python3.6/dist-packages (from keras) (1.1.0)\n",
            "Requirement already satisfied, skipping upgrade: keras-applications>=1.0.6 in /usr/local/lib/python3.6/dist-packages (from keras) (1.0.8)\n",
            "Requirement already satisfied, skipping upgrade: scipy>=0.14 in /usr/local/lib/python3.6/dist-packages (from keras) (1.4.1)\n"
          ],
          "name": "stdout"
        }
      ]
    },
    {
      "cell_type": "code",
      "metadata": {
        "id": "cV-TqpllizoU",
        "colab_type": "code",
        "colab": {
          "base_uri": "https://localhost:8080/",
          "height": 35
        },
        "outputId": "dff7ee1a-f235-47b9-e402-b52bf3e3c591"
      },
      "source": [
        "!git clone https://github.com/Horea94/Fruit-Images-Dataset.git"
      ],
      "execution_count": 2,
      "outputs": [
        {
          "output_type": "stream",
          "text": [
            "fatal: destination path 'Fruit-Images-Dataset' already exists and is not an empty directory.\n"
          ],
          "name": "stdout"
        }
      ]
    },
    {
      "cell_type": "code",
      "metadata": {
        "id": "NiykBBbXi3Ru",
        "colab_type": "code",
        "colab": {
          "base_uri": "https://localhost:8080/",
          "height": 35
        },
        "outputId": "88037ceb-b736-4e3c-eb46-299ab1eb50d4"
      },
      "source": [
        "import numpy as np \n",
        "import pandas as pd \n",
        "import os\n",
        "import matplotlib.pyplot as plt\n",
        "import cv2\n",
        "import glob\n",
        "\n",
        "import keras.utils\n",
        "from keras import utils as np_utils\n",
        "from keras.utils import to_categorical\n",
        "from keras.layers import Dense,Conv2D,Flatten,MaxPool2D,Dropout\n",
        "from keras.models import Sequential\n",
        "from sklearn.model_selection import train_test_split\n",
        "from keras.optimizers import RMSprop"
      ],
      "execution_count": 3,
      "outputs": [
        {
          "output_type": "stream",
          "text": [
            "Using TensorFlow backend.\n"
          ],
          "name": "stderr"
        }
      ]
    },
    {
      "cell_type": "code",
      "metadata": {
        "id": "hM5l57B-i6G_",
        "colab_type": "code",
        "colab": {
          "base_uri": "https://localhost:8080/",
          "height": 35
        },
        "outputId": "ef96a1dd-3ea7-4c34-f451-889f595b9a6a"
      },
      "source": [
        "print(os.listdir(\"/content/Fruit-Images-Dataset\"))"
      ],
      "execution_count": 4,
      "outputs": [
        {
          "output_type": "stream",
          "text": [
            "['.git', 'src', 'Training', 'Test', 'papers', 'test-multiple_fruits', 'LICENSE', 'readme.md']\n"
          ],
          "name": "stdout"
        }
      ]
    },
    {
      "cell_type": "code",
      "metadata": {
        "id": "upIGAiPri9Bd",
        "colab_type": "code",
        "colab": {}
      },
      "source": [
        "# training data\n",
        "train_images = []       \n",
        "train_labels = []\n",
        "shape = (28, 28)  \n",
        "train_path = '/content/Fruit-Images-Dataset/Training/*'\n",
        "\n",
        "for fruit_dir_path in glob.glob(\"/content/Fruit-Images-Dataset/Training/*\"):\n",
        "    fruit_label = fruit_dir_path.split(\"/\")[-1]\n",
        "    for image_path in glob.glob(os.path.join(fruit_dir_path, \"*.jpg\")):\n",
        "        image = cv2.imread(image_path, cv2.IMREAD_COLOR)\n",
        "        image = cv2.resize(image, shape)\n",
        "        image = cv2.cvtColor(image, cv2.COLOR_RGB2BGR)\n",
        "        \n",
        "        train_images.append(image)\n",
        "        train_labels.append(fruit_label)\n",
        "train_images = np.array(train_images)\n",
        "train_labels = np.array(train_labels)"
      ],
      "execution_count": 0,
      "outputs": []
    },
    {
      "cell_type": "code",
      "metadata": {
        "id": "ESuds1zfjMQ-",
        "colab_type": "code",
        "colab": {}
      },
      "source": [
        "train_label_dict = {v:i for i,v in enumerate(np.unique(train_labels))}\n",
        "label_dict = {v: k for k, v in train_label_dict.items()}"
      ],
      "execution_count": 0,
      "outputs": []
    },
    {
      "cell_type": "code",
      "metadata": {
        "id": "JxQ25rLfjYOP",
        "colab_type": "code",
        "colab": {
          "base_uri": "https://localhost:8080/",
          "height": 1000
        },
        "outputId": "01c83249-f20d-4d75-b76c-11931ce191f2"
      },
      "source": [
        "label_dict"
      ],
      "execution_count": 7,
      "outputs": [
        {
          "output_type": "execute_result",
          "data": {
            "text/plain": [
              "{0: 'Apple Braeburn',\n",
              " 1: 'Apple Crimson Snow',\n",
              " 2: 'Apple Golden 1',\n",
              " 3: 'Apple Golden 2',\n",
              " 4: 'Apple Golden 3',\n",
              " 5: 'Apple Granny Smith',\n",
              " 6: 'Apple Pink Lady',\n",
              " 7: 'Apple Red 1',\n",
              " 8: 'Apple Red 2',\n",
              " 9: 'Apple Red 3',\n",
              " 10: 'Apple Red Delicious',\n",
              " 11: 'Apple Red Yellow 1',\n",
              " 12: 'Apple Red Yellow 2',\n",
              " 13: 'Apricot',\n",
              " 14: 'Avocado',\n",
              " 15: 'Avocado ripe',\n",
              " 16: 'Banana',\n",
              " 17: 'Banana Lady Finger',\n",
              " 18: 'Banana Red',\n",
              " 19: 'Beetroot',\n",
              " 20: 'Blueberry',\n",
              " 21: 'Cactus fruit',\n",
              " 22: 'Cantaloupe 1',\n",
              " 23: 'Cantaloupe 2',\n",
              " 24: 'Carambula',\n",
              " 25: 'Cauliflower',\n",
              " 26: 'Cherry 1',\n",
              " 27: 'Cherry 2',\n",
              " 28: 'Cherry Rainier',\n",
              " 29: 'Cherry Wax Black',\n",
              " 30: 'Cherry Wax Red',\n",
              " 31: 'Cherry Wax Yellow',\n",
              " 32: 'Chestnut',\n",
              " 33: 'Clementine',\n",
              " 34: 'Cocos',\n",
              " 35: 'Dates',\n",
              " 36: 'Eggplant',\n",
              " 37: 'Ginger Root',\n",
              " 38: 'Granadilla',\n",
              " 39: 'Grape Blue',\n",
              " 40: 'Grape Pink',\n",
              " 41: 'Grape White',\n",
              " 42: 'Grape White 2',\n",
              " 43: 'Grape White 3',\n",
              " 44: 'Grape White 4',\n",
              " 45: 'Grapefruit Pink',\n",
              " 46: 'Grapefruit White',\n",
              " 47: 'Guava',\n",
              " 48: 'Hazelnut',\n",
              " 49: 'Huckleberry',\n",
              " 50: 'Kaki',\n",
              " 51: 'Kiwi',\n",
              " 52: 'Kohlrabi',\n",
              " 53: 'Kumquats',\n",
              " 54: 'Lemon',\n",
              " 55: 'Lemon Meyer',\n",
              " 56: 'Limes',\n",
              " 57: 'Lychee',\n",
              " 58: 'Mandarine',\n",
              " 59: 'Mango',\n",
              " 60: 'Mango Red',\n",
              " 61: 'Mangostan',\n",
              " 62: 'Maracuja',\n",
              " 63: 'Melon Piel de Sapo',\n",
              " 64: 'Mulberry',\n",
              " 65: 'Nectarine',\n",
              " 66: 'Nectarine Flat',\n",
              " 67: 'Nut Forest',\n",
              " 68: 'Nut Pecan',\n",
              " 69: 'Onion Red',\n",
              " 70: 'Onion Red Peeled',\n",
              " 71: 'Onion White',\n",
              " 72: 'Orange',\n",
              " 73: 'Papaya',\n",
              " 74: 'Passion Fruit',\n",
              " 75: 'Peach',\n",
              " 76: 'Peach 2',\n",
              " 77: 'Peach Flat',\n",
              " 78: 'Pear',\n",
              " 79: 'Pear Abate',\n",
              " 80: 'Pear Forelle',\n",
              " 81: 'Pear Kaiser',\n",
              " 82: 'Pear Monster',\n",
              " 83: 'Pear Red',\n",
              " 84: 'Pear Williams',\n",
              " 85: 'Pepino',\n",
              " 86: 'Pepper Green',\n",
              " 87: 'Pepper Red',\n",
              " 88: 'Pepper Yellow',\n",
              " 89: 'Physalis',\n",
              " 90: 'Physalis with Husk',\n",
              " 91: 'Pineapple',\n",
              " 92: 'Pineapple Mini',\n",
              " 93: 'Pitahaya Red',\n",
              " 94: 'Plum',\n",
              " 95: 'Plum 2',\n",
              " 96: 'Plum 3',\n",
              " 97: 'Pomegranate',\n",
              " 98: 'Pomelo Sweetie',\n",
              " 99: 'Potato Red',\n",
              " 100: 'Potato Red Washed',\n",
              " 101: 'Potato Sweet',\n",
              " 102: 'Potato White',\n",
              " 103: 'Quince',\n",
              " 104: 'Rambutan',\n",
              " 105: 'Raspberry',\n",
              " 106: 'Redcurrant',\n",
              " 107: 'Salak',\n",
              " 108: 'Strawberry',\n",
              " 109: 'Strawberry Wedge',\n",
              " 110: 'Tamarillo',\n",
              " 111: 'Tangelo',\n",
              " 112: 'Tomato 1',\n",
              " 113: 'Tomato 2',\n",
              " 114: 'Tomato 3',\n",
              " 115: 'Tomato 4',\n",
              " 116: 'Tomato Cherry Red',\n",
              " 117: 'Tomato Maroon',\n",
              " 118: 'Tomato Yellow',\n",
              " 119: 'Walnut'}"
            ]
          },
          "metadata": {
            "tags": []
          },
          "execution_count": 7
        }
      ]
    },
    {
      "cell_type": "code",
      "metadata": {
        "id": "X8wKBUJMj7MQ",
        "colab_type": "code",
        "colab": {}
      },
      "source": [
        "label_ids = np.array([train_label_dict[x] for x in train_labels])"
      ],
      "execution_count": 0,
      "outputs": []
    },
    {
      "cell_type": "code",
      "metadata": {
        "id": "1Qsj5j3zkAx_",
        "colab_type": "code",
        "colab": {
          "base_uri": "https://localhost:8080/",
          "height": 35
        },
        "outputId": "7f4195f0-c01b-4071-d308-155adf9daef9"
      },
      "source": [
        "print(train_images.shape, train_labels.shape, label_ids.shape)"
      ],
      "execution_count": 9,
      "outputs": [
        {
          "output_type": "stream",
          "text": [
            "(61488, 28, 28, 3) (61488,) (61488,)\n"
          ],
          "name": "stdout"
        }
      ]
    },
    {
      "cell_type": "code",
      "metadata": {
        "id": "EnKrpF2Gi_TL",
        "colab_type": "code",
        "colab": {}
      },
      "source": [
        "# testing data\n",
        "test_images = []       \n",
        "test_labels = []\n",
        "shape = (28, 28)  \n",
        "train_path = '/content/Fruit-Images-Dataset/Test/*'\n",
        "\n",
        "for fruit_dir_path in glob.glob(\"/content/Fruit-Images-Dataset/Test/*\"):\n",
        "    fruit_label = fruit_dir_path.split(\"/\")[-1]\n",
        "    for image_path in glob.glob(os.path.join(fruit_dir_path, \"*.jpg\")):\n",
        "        image = cv2.imread(image_path, cv2.IMREAD_COLOR)\n",
        "        image = cv2.resize(image, shape)\n",
        "        image = cv2.cvtColor(image, cv2.COLOR_RGB2BGR)\n",
        "        \n",
        "        test_images.append(image)\n",
        "        test_labels.append(fruit_label)\n",
        "test_images = np.array(test_images)"
      ],
      "execution_count": 0,
      "outputs": []
    },
    {
      "cell_type": "code",
      "metadata": {
        "id": "NKZ_KuuDkjFw",
        "colab_type": "code",
        "colab": {}
      },
      "source": [
        "val_label_ids = np.array([train_label_dict[x] for x in test_labels])"
      ],
      "execution_count": 0,
      "outputs": []
    },
    {
      "cell_type": "code",
      "metadata": {
        "id": "A-foHAADkyUP",
        "colab_type": "code",
        "colab": {
          "base_uri": "https://localhost:8080/",
          "height": 35
        },
        "outputId": "94704cdb-5a21-4267-f3f7-a6ae7cd68d11"
      },
      "source": [
        "print(test_images.shape, val_label_ids.shape)"
      ],
      "execution_count": 12,
      "outputs": [
        {
          "output_type": "stream",
          "text": [
            "(20622, 28, 28, 3) (20622,)\n"
          ],
          "name": "stdout"
        }
      ]
    },
    {
      "cell_type": "code",
      "metadata": {
        "id": "iwbH1Gq5k9P6",
        "colab_type": "code",
        "colab": {}
      },
      "source": [
        "X_train, X_test = train_images, test_images\n",
        "Y_train, Y_test = label_ids, val_label_ids"
      ],
      "execution_count": 0,
      "outputs": []
    },
    {
      "cell_type": "code",
      "metadata": {
        "id": "zakp2wSZlNd9",
        "colab_type": "code",
        "colab": {}
      },
      "source": [
        "X_train = X_train/255\n",
        "X_test = X_test/255"
      ],
      "execution_count": 0,
      "outputs": []
    },
    {
      "cell_type": "code",
      "metadata": {
        "id": "O_tCHQjLlTuW",
        "colab_type": "code",
        "colab": {}
      },
      "source": [
        "X_flat_train = X_train.reshape(X_train.shape[0], 28*28*3)\n",
        "X_flat_test = X_test.reshape(X_test.shape[0], 28*28*3)"
      ],
      "execution_count": 0,
      "outputs": []
    },
    {
      "cell_type": "code",
      "metadata": {
        "id": "87KPnUQ2lcE7",
        "colab_type": "code",
        "colab": {
          "base_uri": "https://localhost:8080/",
          "height": 35
        },
        "outputId": "5ec98c0f-84b2-4f5f-c05f-6706d75312eb"
      },
      "source": [
        "train_labels = pd.get_dummies(train_labels).values\n",
        "print(train_labels.shape)"
      ],
      "execution_count": 16,
      "outputs": [
        {
          "output_type": "stream",
          "text": [
            "(61488, 120)\n"
          ],
          "name": "stdout"
        }
      ]
    },
    {
      "cell_type": "code",
      "metadata": {
        "id": "K8rw_Q7ZlakR",
        "colab_type": "code",
        "colab": {}
      },
      "source": [
        "Y_train = keras.utils.to_categorical(Y_train, 120)\n",
        "Y_test = keras.utils.to_categorical(Y_test, 120)"
      ],
      "execution_count": 0,
      "outputs": []
    },
    {
      "cell_type": "code",
      "metadata": {
        "id": "mL2YDFqHmKLT",
        "colab_type": "code",
        "colab": {
          "base_uri": "https://localhost:8080/",
          "height": 52
        },
        "outputId": "8f1aa8cc-ea05-4ccc-e741-a2ad65199c61"
      },
      "source": [
        "print('Original Sizes:', X_train.shape, X_test.shape, Y_train.shape, Y_test.shape)\n",
        "print('Flattened:', X_flat_train.shape, X_flat_test.shape)"
      ],
      "execution_count": 18,
      "outputs": [
        {
          "output_type": "stream",
          "text": [
            "Original Sizes: (61488, 28, 28, 3) (20622, 28, 28, 3) (61488, 120) (20622, 120)\n",
            "Flattened: (61488, 2352) (20622, 2352)\n"
          ],
          "name": "stdout"
        }
      ]
    },
    {
      "cell_type": "code",
      "metadata": {
        "id": "Z3iUkTcTmQQp",
        "colab_type": "code",
        "colab": {
          "base_uri": "https://localhost:8080/",
          "height": 283
        },
        "outputId": "035e6dfa-130c-43cd-b055-d093dd7a3d4b"
      },
      "source": [
        "print(X_train[0].shape)\n",
        "plt.imshow(X_train[0])\n",
        "plt.show()"
      ],
      "execution_count": 19,
      "outputs": [
        {
          "output_type": "stream",
          "text": [
            "(28, 28, 3)\n"
          ],
          "name": "stdout"
        },
        {
          "output_type": "display_data",
          "data": {
            "image/png": "[encoded data removed]",
            "text/plain": [
              "<Figure size 432x288 with 1 Axes>"
            ]
          },
          "metadata": {
            "tags": []
          }
        }
      ]
    },
    {
      "cell_type": "code",
      "metadata": {
        "id": "E9K6APlgmX18",
        "colab_type": "code",
        "colab": {
          "base_uri": "https://localhost:8080/",
          "height": 364
        },
        "outputId": "2422838a-7230-4488-ec43-b2126670027c"
      },
      "source": [
        "# Creting first CNN model\n",
        "model= Sequential()\n",
        "model.add(Conv2D(16, kernel_size=(3,3), activation='relu', input_shape=(28,28,3,)))\n",
        "model.add(Conv2D(32, kernel_size=(3,3), activation='relu'))\n",
        "model.add(Flatten())\n",
        "model.add(Dropout(rate=0.5) )\n",
        "model.add(Dense(150, activation='relu'))\n",
        "model.add(Dense(120,activation = 'softmax'))\n",
        "\n",
        "model.summary()"
      ],
      "execution_count": 20,
      "outputs": [
        {
          "output_type": "stream",
          "text": [
            "Model: \"sequential_1\"\n",
            "_________________________________________________________________\n",
            "Layer (type)                 Output Shape              Param #   \n",
            "=================================================================\n",
            "conv2d_1 (Conv2D)            (None, 26, 26, 16)        448       \n",
            "_________________________________________________________________\n",
            "conv2d_2 (Conv2D)            (None, 24, 24, 32)        4640      \n",
            "_________________________________________________________________\n",
            "flatten_1 (Flatten)          (None, 18432)             0         \n",
            "_________________________________________________________________\n",
            "dropout_1 (Dropout)          (None, 18432)             0         \n",
            "_________________________________________________________________\n",
            "dense_1 (Dense)              (None, 150)               2764950   \n",
            "_________________________________________________________________\n",
            "dense_2 (Dense)              (None, 120)               18120     \n",
            "=================================================================\n",
            "Total params: 2,788,158\n",
            "Trainable params: 2,788,158\n",
            "Non-trainable params: 0\n",
            "_________________________________________________________________\n"
          ],
          "name": "stdout"
        }
      ]
    },
    {
      "cell_type": "code",
      "metadata": {
        "id": "219uBO-YmmwE",
        "colab_type": "code",
        "colab": {}
      },
      "source": [
        "model.compile(loss='categorical_crossentropy', metrics=['acc'], optimizer='adam')"
      ],
      "execution_count": 0,
      "outputs": []
    },
    {
      "cell_type": "code",
      "metadata": {
        "id": "bHYWaFxzqNzn",
        "colab_type": "code",
        "colab": {
          "base_uri": "https://localhost:8080/",
          "height": 208
        },
        "outputId": "3e498409-f241-4a4d-88b6-a0182da053c2"
      },
      "source": [
        "history_dense = model.fit(X_train, Y_train, batch_size=128, epochs=5, verbose=1, validation_data=(X_test, Y_test))"
      ],
      "execution_count": 22,
      "outputs": [
        {
          "output_type": "stream",
          "text": [
            "Train on 61488 samples, validate on 20622 samples\n",
            "Epoch 1/5\n",
            "61488/61488 [==============================] - 114s 2ms/step - loss: 0.5391 - acc: 0.8688 - val_loss: 0.2566 - val_acc: 0.9161\n",
            "Epoch 2/5\n",
            "61488/61488 [==============================] - 114s 2ms/step - loss: 0.0307 - acc: 0.9911 - val_loss: 0.3372 - val_acc: 0.9103\n",
            "Epoch 3/5\n",
            "61488/61488 [==============================] - 113s 2ms/step - loss: 0.0253 - acc: 0.9931 - val_loss: 0.3697 - val_acc: 0.9165\n",
            "Epoch 4/5\n",
            "61488/61488 [==============================] - 113s 2ms/step - loss: 0.0225 - acc: 0.9932 - val_loss: 0.2522 - val_acc: 0.9409\n",
            "Epoch 5/5\n",
            "61488/61488 [==============================] - 113s 2ms/step - loss: 0.0128 - acc: 0.9966 - val_loss: 0.2434 - val_acc: 0.9476\n"
          ],
          "name": "stdout"
        }
      ]
    },
    {
      "cell_type": "code",
      "metadata": {
        "id": "PcneD_OTmxJs",
        "colab_type": "code",
        "colab": {
          "base_uri": "https://localhost:8080/",
          "height": 52
        },
        "outputId": "cad19263-0104-4c6f-d78d-e2c621767203"
      },
      "source": [
        "score = model.evaluate(X_test, Y_test, verbose=0)\n",
        "print('Test loss:', score[0])\n",
        "print('Test accuracy:', score[1])"
      ],
      "execution_count": 30,
      "outputs": [
        {
          "output_type": "stream",
          "text": [
            "Test loss: 0.2433999519875714\n",
            "Test accuracy: 0.9476287364959717\n"
          ],
          "name": "stdout"
        }
      ]
    },
    {
      "cell_type": "code",
      "metadata": {
        "id": "5yrEnhfSm-WZ",
        "colab_type": "code",
        "colab": {
          "base_uri": "https://localhost:8080/",
          "height": 295
        },
        "outputId": "8e779b7f-d913-4148-d8b5-7c733a9c60a8"
      },
      "source": [
        "# summarize history for accuracy\n",
        "plt.plot(history_dense.history['acc'])\n",
        "plt.plot(history_dense.history['val_acc'])\n",
        "plt.title('model accuracy')\n",
        "plt.ylabel('accuracy')\n",
        "plt.xlabel('epoch')\n",
        "plt.legend(['train', 'test'], loc='upper left')\n",
        "plt.show()"
      ],
      "execution_count": 24,
      "outputs": [
        {
          "output_type": "display_data",
          "data": {
            "image/png": "[encoded data removed]",
            "text/plain": [
              "<Figure size 432x288 with 1 Axes>"
            ]
          },
          "metadata": {
            "tags": []
          }
        }
      ]
    },
    {
      "cell_type": "code",
      "metadata": {
        "id": "qSIv7F4WnGk-",
        "colab_type": "code",
        "colab": {
          "base_uri": "https://localhost:8080/",
          "height": 295
        },
        "outputId": "eec0dd82-ef5f-4877-d748-3030641cbf02"
      },
      "source": [
        "# summarize history for loss\n",
        "plt.plot(history_dense.history['loss'])\n",
        "plt.plot(history_dense.history['val_loss'])\n",
        "plt.title('model loss')\n",
        "plt.ylabel('loss')\n",
        "plt.xlabel('epoch')\n",
        "plt.legend(['train', 'test'], loc='upper left')\n",
        "plt.show()"
      ],
      "execution_count": 25,
      "outputs": [
        {
          "output_type": "display_data",
          "data": {
            "image/png": "[encoded data removed]",
            "text/plain": [
              "<Figure size 432x288 with 1 Axes>"
            ]
          },
          "metadata": {
            "tags": []
          }
        }
      ]
    },
    {
      "cell_type": "code",
      "metadata": {
        "id": "Ijffyb-2nN6h",
        "colab_type": "code",
        "colab": {
          "base_uri": "https://localhost:8080/",
          "height": 399
        },
        "outputId": "ab89ca58-35bf-4e21-c48e-e6ef4b3244f1"
      },
      "source": [
        "# Creting second CNN model\n",
        "model_cnn= Sequential()\n",
        "model_cnn.add(Conv2D(32, kernel_size=(3,3), activation='relu', input_shape=(28,28,3,)))\n",
        "model_cnn.add(Conv2D(64, kernel_size=(3,3), activation='relu'))\n",
        "model_cnn.add(MaxPool2D(pool_size=(2, 2)))\n",
        "model_cnn.add(Flatten())\n",
        "model_cnn.add(Dense(256, activation='relu'))\n",
        "model_cnn.add(Dropout(rate=0.5) )\n",
        "model_cnn.add(Dense(120,activation = 'softmax'))\n",
        "\n",
        "model_cnn.summary()"
      ],
      "execution_count": 26,
      "outputs": [
        {
          "output_type": "stream",
          "text": [
            "Model: \"sequential_2\"\n",
            "_________________________________________________________________\n",
            "Layer (type)                 Output Shape              Param #   \n",
            "=================================================================\n",
            "conv2d_3 (Conv2D)            (None, 26, 26, 32)        896       \n",
            "_________________________________________________________________\n",
            "conv2d_4 (Conv2D)            (None, 24, 24, 64)        18496     \n",
            "_________________________________________________________________\n",
            "max_pooling2d_1 (MaxPooling2 (None, 12, 12, 64)        0         \n",
            "_________________________________________________________________\n",
            "flatten_2 (Flatten)          (None, 9216)              0         \n",
            "_________________________________________________________________\n",
            "dense_3 (Dense)              (None, 256)               2359552   \n",
            "_________________________________________________________________\n",
            "dropout_2 (Dropout)          (None, 256)               0         \n",
            "_________________________________________________________________\n",
            "dense_4 (Dense)              (None, 120)               30840     \n",
            "=================================================================\n",
            "Total params: 2,409,784\n",
            "Trainable params: 2,409,784\n",
            "Non-trainable params: 0\n",
            "_________________________________________________________________\n"
          ],
          "name": "stdout"
        }
      ]
    },
    {
      "cell_type": "code",
      "metadata": {
        "id": "9-zXa3Bmosc5",
        "colab_type": "code",
        "colab": {
          "base_uri": "https://localhost:8080/",
          "height": 208
        },
        "outputId": "57eb7bc1-5ad6-4de6-cb04-cecbf3d6117a"
      },
      "source": [
        "model_cnn.compile(loss='categorical_crossentropy', metrics=['acc'], optimizer='adam')\n",
        "result = model_cnn.fit(X_train, Y_train, batch_size=128, epochs=5, verbose=1, validation_data=(X_test, Y_test))"
      ],
      "execution_count": 27,
      "outputs": [
        {
          "output_type": "stream",
          "text": [
            "Train on 61488 samples, validate on 20622 samples\n",
            "Epoch 1/5\n",
            "61488/61488 [==============================] - 176s 3ms/step - loss: 1.1433 - acc: 0.7023 - val_loss: 0.2154 - val_acc: 0.9350\n",
            "Epoch 2/5\n",
            "61488/61488 [==============================] - 176s 3ms/step - loss: 0.1406 - acc: 0.9550 - val_loss: 0.1764 - val_acc: 0.9533\n",
            "Epoch 3/5\n",
            "61488/61488 [==============================] - 175s 3ms/step - loss: 0.0781 - acc: 0.9743 - val_loss: 0.1213 - val_acc: 0.9652\n",
            "Epoch 4/5\n",
            "61488/61488 [==============================] - 175s 3ms/step - loss: 0.0623 - acc: 0.9793 - val_loss: 0.0966 - val_acc: 0.9733\n",
            "Epoch 5/5\n",
            "61488/61488 [==============================] - 174s 3ms/step - loss: 0.0562 - acc: 0.9817 - val_loss: 0.1246 - val_acc: 0.9658\n"
          ],
          "name": "stdout"
        }
      ]
    },
    {
      "cell_type": "code",
      "metadata": {
        "id": "2cxU3aCoo1v2",
        "colab_type": "code",
        "colab": {
          "base_uri": "https://localhost:8080/",
          "height": 295
        },
        "outputId": "e0930de9-f818-46a3-b613-d05bb386998e"
      },
      "source": [
        "# summarize history for accuracy\n",
        "plt.plot(result.history['acc'])\n",
        "plt.plot(result.history['val_acc'])\n",
        "plt.title('model accuracy')\n",
        "plt.ylabel('accuracy')\n",
        "plt.xlabel('epoch')\n",
        "plt.legend(['train', 'test'], loc='upper left')\n",
        "plt.show()"
      ],
      "execution_count": 28,
      "outputs": [
        {
          "output_type": "display_data",
          "data": {
            "image/png": "[encoded data removed]",
            "text/plain": [
              "<Figure size 432x288 with 1 Axes>"
            ]
          },
          "metadata": {
            "tags": []
          }
        }
      ]
    },
    {
      "cell_type": "code",
      "metadata": {
        "id": "xUnTTIOgo38E",
        "colab_type": "code",
        "colab": {
          "base_uri": "https://localhost:8080/",
          "height": 295
        },
        "outputId": "3a16115a-20a5-4496-df4f-ab91ce598c3e"
      },
      "source": [
        "# summarize history for loss\n",
        "plt.plot(result.history['loss'])\n",
        "plt.plot(result.history['val_loss'])\n",
        "plt.title('model loss')\n",
        "plt.ylabel('loss')\n",
        "plt.xlabel('epoch')\n",
        "plt.legend(['train', 'test'], loc='upper left')\n",
        "plt.show()"
      ],
      "execution_count": 29,
      "outputs": [
        {
          "output_type": "display_data",
          "data": {
            "image/png": "[encoded data removed]",
            "text/plain": [
              "<Figure size 432x288 with 1 Axes>"
            ]
          },
          "metadata": {
            "tags": []
          }
        }
      ]
    }
  ]
}